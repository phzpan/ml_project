{
 "cells": [
  {
   "cell_type": "markdown",
   "metadata": {},
   "source": [
    "# NIMH Project - Machine Learning - Testing"
   ]
  },
  {
   "cell_type": "code",
   "execution_count": 25,
   "metadata": {},
   "outputs": [],
   "source": [
    "import os\n",
    "\n",
    "import re\n",
    "import nltk\n",
    "import numpy as np\n",
    "import pandas as pd\n",
    "import pickle as pkl\n",
    "from sklearn.feature_extraction.text import CountVectorizer\n",
    "from sklearn.svm import SVC\n",
    "from sklearn.model_selection import KFold\n",
    "from sklearn.metrics import roc_curve, auc\n",
    "from nltk.corpus import stopwords\n",
    "import matplotlib.pyplot as plt\n",
    "from sklearn.feature_extraction.text import TfidfVectorizer\n",
    "import string\n",
    "from sklearn.ensemble import RandomForestClassifier,ExtraTreesClassifier\n",
    "from nltk.stem.wordnet import WordNetLemmatizer\n",
    "\n",
    "import math\n",
    "import chardet\n",
    "os.chdir('C:/Users/hpan/Documents/python')"
   ]
  },
  {
   "cell_type": "code",
   "execution_count": null,
   "metadata": {},
   "outputs": [],
   "source": [
    "# Skip following goto start, load pickle file"
   ]
  },
  {
   "cell_type": "code",
   "execution_count": 6,
   "metadata": {},
   "outputs": [
    {
     "data": {
      "text/html": [
       "<div>\n",
       "<style scoped>\n",
       "    .dataframe tbody tr th:only-of-type {\n",
       "        vertical-align: middle;\n",
       "    }\n",
       "\n",
       "    .dataframe tbody tr th {\n",
       "        vertical-align: top;\n",
       "    }\n",
       "\n",
       "    .dataframe thead th {\n",
       "        text-align: right;\n",
       "    }\n",
       "</style>\n",
       "<table border=\"1\" class=\"dataframe\">\n",
       "  <thead>\n",
       "    <tr style=\"text-align: right;\">\n",
       "      <th></th>\n",
       "      <th>Unnamed: 0</th>\n",
       "      <th>Unnamed: 0.1</th>\n",
       "      <th>pat_visit</th>\n",
       "      <th>r_score</th>\n",
       "      <th>sum1</th>\n",
       "      <th>fsize</th>\n",
       "      <th>note_txt</th>\n",
       "      <th>labelm</th>\n",
       "      <th>labeln</th>\n",
       "    </tr>\n",
       "  </thead>\n",
       "  <tbody>\n",
       "    <tr>\n",
       "      <th>0</th>\n",
       "      <td>0</td>\n",
       "      <td>9</td>\n",
       "      <td>19251156_2244945</td>\n",
       "      <td>7</td>\n",
       "      <td>1</td>\n",
       "      <td>13</td>\n",
       "      <td>MRN:                     19251156\\r\\r\\n...... ...</td>\n",
       "      <td>0</td>\n",
       "      <td>0</td>\n",
       "    </tr>\n",
       "    <tr>\n",
       "      <th>1</th>\n",
       "      <td>1</td>\n",
       "      <td>270</td>\n",
       "      <td>5648753_185153195</td>\n",
       "      <td>11</td>\n",
       "      <td>13</td>\n",
       "      <td>23</td>\n",
       "      <td>MRN: 5648753\\r\\r\\n...... MRN: 5648753\\r\\r\\n......</td>\n",
       "      <td>1</td>\n",
       "      <td>1</td>\n",
       "    </tr>\n",
       "    <tr>\n",
       "      <th>2</th>\n",
       "      <td>2</td>\n",
       "      <td>257</td>\n",
       "      <td>6461602_183586354</td>\n",
       "      <td>12</td>\n",
       "      <td>12</td>\n",
       "      <td>24</td>\n",
       "      <td>MRN:           6461602\\r\\r\\n...... MRN:       ...</td>\n",
       "      <td>1</td>\n",
       "      <td>1</td>\n",
       "    </tr>\n",
       "    <tr>\n",
       "      <th>3</th>\n",
       "      <td>3</td>\n",
       "      <td>412</td>\n",
       "      <td>8538647_2092146</td>\n",
       "      <td>13</td>\n",
       "      <td>18</td>\n",
       "      <td>16</td>\n",
       "      <td>MRN:     8538647\\r\\r\\n...... MRN:             ...</td>\n",
       "      <td>1</td>\n",
       "      <td>1</td>\n",
       "    </tr>\n",
       "    <tr>\n",
       "      <th>4</th>\n",
       "      <td>4</td>\n",
       "      <td>434</td>\n",
       "      <td>6285951_2295095</td>\n",
       "      <td>13</td>\n",
       "      <td>20</td>\n",
       "      <td>43</td>\n",
       "      <td>MRN:     6285951\\r\\r\\n...... MRN:             ...</td>\n",
       "      <td>1</td>\n",
       "      <td>1</td>\n",
       "    </tr>\n",
       "  </tbody>\n",
       "</table>\n",
       "</div>"
      ],
      "text/plain": [
       "   Unnamed: 0  Unnamed: 0.1          pat_visit  r_score  sum1  fsize  \\\n",
       "0           0             9   19251156_2244945        7     1     13   \n",
       "1           1           270  5648753_185153195       11    13     23   \n",
       "2           2           257  6461602_183586354       12    12     24   \n",
       "3           3           412    8538647_2092146       13    18     16   \n",
       "4           4           434    6285951_2295095       13    20     43   \n",
       "\n",
       "                                            note_txt  labelm  labeln  \n",
       "0  MRN:                     19251156\\r\\r\\n...... ...       0       0  \n",
       "1  MRN: 5648753\\r\\r\\n...... MRN: 5648753\\r\\r\\n......       1       1  \n",
       "2  MRN:           6461602\\r\\r\\n...... MRN:       ...       1       1  \n",
       "3  MRN:     8538647\\r\\r\\n...... MRN:             ...       1       1  \n",
       "4  MRN:     6285951\\r\\r\\n...... MRN:             ...       1       1  "
      ]
     },
     "execution_count": 6,
     "metadata": {},
     "output_type": "execute_result"
    }
   ],
   "source": [
    "#%%\n",
    "\n",
    "data = pd.read_csv(\"./results/tt_4801395.csv\")\n",
    "data.head()"
   ]
  },
  {
   "cell_type": "code",
   "execution_count": 7,
   "metadata": {},
   "outputs": [],
   "source": [
    "#%%\n",
    "corpusList=data[data.columns[6]].tolist()\n",
    "labelm=data[data.columns[7]].tolist()\n",
    "labeln=data[data.columns[8]].tolist()"
   ]
  },
  {
   "cell_type": "code",
   "execution_count": 8,
   "metadata": {},
   "outputs": [
    {
     "data": {
      "text/plain": [
       "1875"
      ]
     },
     "execution_count": 8,
     "metadata": {},
     "output_type": "execute_result"
    }
   ],
   "source": [
    "len(corpusList)"
   ]
  },
  {
   "cell_type": "code",
   "execution_count": 13,
   "metadata": {},
   "outputs": [],
   "source": [
    "\"\"\"#%%\n",
    "#test\n",
    "os.chdir('C:/Users/hpan/Documents/python')\n",
    "test = pd.read_csv(\"./results/test_800595.csv\")\n",
    "\n",
    "#%%\n",
    "corpusList_test=test[train.columns[5]].tolist()\n",
    "labels_testm=test[train.columns[6]].tolist()\n",
    "labels_testn=test[train.columns[7]].tolist()\"\"\""
   ]
  },
  {
   "cell_type": "code",
   "execution_count": 16,
   "metadata": {},
   "outputs": [],
   "source": [
    "#%%\n",
    "def tokenize(text):\n",
    "    tokens = [word for sent in nltk.sent_tokenize(text) for word in nltk.word_tokenize(sent)]\n",
    "    filtered_tokens = [ token for token in tokens if re.search('(^[a-zA-Z]+$)', token) ]\n",
    "    a=[]\n",
    "    for i in filtered_tokens:\n",
    "        a.append(WordNetLemmatizer().lemmatize(i,'v'))\n",
    "    return a\n",
    "    #return filtered_tokens\n",
    "\n",
    "\n",
    "cachedStopWords = stopwords.words(\"english\")"
   ]
  },
  {
   "cell_type": "code",
   "execution_count": 17,
   "metadata": {},
   "outputs": [
    {
     "name": "stdout",
     "output_type": "stream",
     "text": [
      "\n",
      "(1875, 2054755)\n"
     ]
    }
   ],
   "source": [
    "#%%\n",
    "cv = TfidfVectorizer(lowercase=True,\n",
    "                     ngram_range=(1, 4), preprocessor=None, stop_words='english',\n",
    "                     strip_accents=None, tokenizer=tokenize, vocabulary=None)\n",
    "X1 = cv.fit_transform(corpusList)\n",
    "lexicon = cv.get_feature_names()\n",
    "#print (lexicon)\n",
    "print()\n",
    "\n",
    "#%%\n",
    "x=X1  ## for select fetures \n",
    "print(x.shape)\n",
    "\n",
    "pkl.dump( x, open( \"./results/tfidf_4801395.pickle\", \"wb\" ) )\n",
    "pkl.dump( lexicon, open( \"./results/lexicon_4801395.pickle\", \"wb\" ) )\n",
    "#x1 = pkl.load( open( \"./results/tfidf_4801395.pickle\", \"rb\" ) )\n",
    "#lexicon1 = pkl.load( open( \"./results/lexicon_4801395.pickle\", \"rb\" ) )"
   ]
  },
  {
   "cell_type": "code",
   "execution_count": 18,
   "metadata": {},
   "outputs": [
    {
     "data": {
      "text/plain": [
       "scipy.sparse.csr.csr_matrix"
      ]
     },
     "execution_count": 18,
     "metadata": {},
     "output_type": "execute_result"
    }
   ],
   "source": [
    "type(x)"
   ]
  },
  {
   "cell_type": "code",
   "execution_count": null,
   "metadata": {},
   "outputs": [],
   "source": [
    "\n"
   ]
  },
  {
   "cell_type": "code",
   "execution_count": 9,
   "metadata": {},
   "outputs": [],
   "source": [
    "Ym = np.array(labelm)\n",
    "Yn = np.array(labeln)\n",
    "pkl.dump( Ym, open( \"./results/ym_4801395.pickle\", \"wb\" ) )\n",
    "pkl.dump( Yn, open( \"./results/yn_4801395.pickle\", \"wb\" ) )\n",
    "#print(Y)  ## class level"
   ]
  },
  {
   "cell_type": "code",
   "execution_count": null,
   "metadata": {},
   "outputs": [],
   "source": [
    "\"\"\"#%%\n",
    "#test\n",
    "cvt = TfidfVectorizer(lowercase=True,\n",
    "                     ngram_range=(1, 3), preprocessor=None, stop_words='english',\n",
    "                     strip_accents=None, tokenizer=tokenize, vocabulary=None)\n",
    "\n",
    "X1t = cvt.fit_transform(corpusList_test)\n",
    "print(X1t.shape)\n",
    "print()\n",
    "lexicon_test = cvt.get_feature_names()\n",
    "#print (lexicon)\n",
    "print()\n",
    "\n",
    "#%%\n",
    "xt=X1t  ## for select fetures \n",
    "print(xt.shape)\n",
    "\n",
    "Ym = np.array(labels_testm)\n",
    "Yn = np.array(labels_testn)\"\"\""
   ]
  },
  {
   "cell_type": "code",
   "execution_count": 20,
   "metadata": {},
   "outputs": [
    {
     "name": "stdout",
     "output_type": "stream",
     "text": [
      "[0 1 1 1 1 1 1 0 1 1] [1 1 1 0 0 0 0 0 0 0] [1 0 1 0 0 1 0 0 0 1]\n",
      "[0 1 1 1 1 1 1 0 1 1] [1 0 0 0 1 1 0 0 1 1] [0 0 0 0 0 0 0 0 1 1]\n"
     ]
    }
   ],
   "source": [
    "print(Ym[0:10], Ym[480:490], Ym[1865:])  ## class level\n",
    "print(Yn[0:10], Yn[480:490], Yn[1865:])  ## class level"
   ]
  },
  {
   "cell_type": "code",
   "execution_count": 21,
   "metadata": {},
   "outputs": [],
   "source": [
    "#%%\n",
    "from sklearn.feature_selection import SelectKBest\n",
    "from sklearn.feature_selection import chi2\n",
    "\n",
    "#print(x.shape)"
   ]
  },
  {
   "cell_type": "code",
   "execution_count": 23,
   "metadata": {},
   "outputs": [
    {
     "name": "stdout",
     "output_type": "stream",
     "text": [
      "(1875, 800)\n"
     ]
    }
   ],
   "source": [
    "X_new = SelectKBest(chi2, k=800).fit_transform(x, Yn)   # select 800 features\n",
    "\n",
    "#%%\n",
    "X=X_new        # make unque name for next cell \n",
    "print(X.shape)\n",
    "#Y"
   ]
  },
  {
   "cell_type": "code",
   "execution_count": 24,
   "metadata": {},
   "outputs": [],
   "source": [
    "pkl.dump( X, open( \"./results/tfidf_4801395_chi2_800.pickle\", \"wb\" ) )"
   ]
  },
  {
   "cell_type": "code",
   "execution_count": null,
   "metadata": {},
   "outputs": [],
   "source": []
  },
  {
   "cell_type": "markdown",
   "metadata": {},
   "source": [
    "# Start here"
   ]
  },
  {
   "cell_type": "code",
   "execution_count": 26,
   "metadata": {},
   "outputs": [
    {
     "name": "stdout",
     "output_type": "stream",
     "text": [
      "0.5328\n"
     ]
    },
    {
     "data": {
      "text/plain": [
       "0.5328"
      ]
     },
     "execution_count": 26,
     "metadata": {},
     "output_type": "execute_result"
    }
   ],
   "source": [
    "X_new = pkl.load( open( \"./results/tfidf_4801395_chi2_800.pickle\", \"rb\" ) )\n",
    "Ym = pkl.load( open( \"./results/ym_4801395.pickle\", \"rb\" ) )\n",
    "Yn = pkl.load( open( \"./results/yn_4801395.pickle\", \"rb\" ) )\n",
    "nlp_acc = sum(Ym==Yn)/len(Ym)\n",
    "print(nlp_acc)\n",
    "nlp_acc"
   ]
  },
  {
   "cell_type": "code",
   "execution_count": 21,
   "metadata": {},
   "outputs": [
    {
     "data": {
      "text/plain": [
       "(scipy.sparse.csr.csr_matrix, numpy.ndarray, 1875)"
      ]
     },
     "execution_count": 21,
     "metadata": {},
     "output_type": "execute_result"
    }
   ],
   "source": [
    "type(X_new), type(Yn), len(Ym)"
   ]
  },
  {
   "cell_type": "code",
   "execution_count": 27,
   "metadata": {},
   "outputs": [],
   "source": [
    "X = X_new[:960]\n",
    "X2 = X_new[960:]\n",
    "Yn1 = Yn[:960]\n",
    "Yn2 = Yn[960:]\n",
    "Y = Ym[:960]\n",
    "Y2 = Ym[960:]"
   ]
  },
  {
   "cell_type": "code",
   "execution_count": 37,
   "metadata": {},
   "outputs": [
    {
     "data": {
      "text/plain": [
       "(1395, 600)"
      ]
     },
     "execution_count": 37,
     "metadata": {},
     "output_type": "execute_result"
    }
   ],
   "source": [
    "\"\"\"\"X2_new = SelectKBest(chi2, k=600).fit_transform(xt, Ym)   # select 600 features\n",
    "X2_new.shape\n",
    "\n",
    "#%%\n",
    "X2=X2_new        # make unque name for next cell \n",
    "X2_new.shape\"\"\"\""
   ]
  },
  {
   "cell_type": "code",
   "execution_count": 17,
   "metadata": {},
   "outputs": [
    {
     "name": "stdout",
     "output_type": "stream",
     "text": [
      "model  0 : ExtraTreesClassifier = 10\n",
      "   Fold 1 accuracy: 61.46 %\n",
      "   Fold 2 accuracy: 62.50 %\n",
      "   Fold 3 accuracy: 64.58 %\n",
      "   Fold 4 accuracy: 77.08 %\n",
      "   Fold 5 accuracy: 69.79 %\n",
      "   Fold 6 accuracy: 69.79 %\n",
      "   Fold 7 accuracy: 63.54 %\n",
      "   Fold 8 accuracy: 69.79 %\n",
      "   Fold 9 accuracy: 66.67 %\n",
      "   Fold 10 accuracy: 68.75 %\n",
      "     Overall test accuracy: 67.40 %\n",
      "     Overall training accuracy: 98.33 %\n",
      "model  1 : ExtraTreesClassifier = 30\n",
      "   Fold 1 accuracy: 72.92 %\n",
      "   Fold 2 accuracy: 64.58 %\n",
      "   Fold 3 accuracy: 71.88 %\n",
      "   Fold 4 accuracy: 66.67 %\n",
      "   Fold 5 accuracy: 64.58 %\n",
      "   Fold 6 accuracy: 65.62 %\n",
      "   Fold 7 accuracy: 63.54 %\n",
      "   Fold 8 accuracy: 68.75 %\n",
      "   Fold 9 accuracy: 73.96 %\n",
      "   Fold 10 accuracy: 72.92 %\n",
      "     Overall test accuracy: 68.54 %\n",
      "     Overall training accuracy: 99.48 %\n",
      "model  2 : ExtraTreesClassifier = 60\n",
      "   Fold 1 accuracy: 78.12 %\n",
      "   Fold 2 accuracy: 61.46 %\n",
      "   Fold 3 accuracy: 69.79 %\n",
      "   Fold 4 accuracy: 62.50 %\n",
      "   Fold 5 accuracy: 70.83 %\n",
      "   Fold 6 accuracy: 68.75 %\n",
      "   Fold 7 accuracy: 66.67 %\n",
      "   Fold 8 accuracy: 70.83 %\n",
      "   Fold 9 accuracy: 75.00 %\n",
      "   Fold 10 accuracy: 65.62 %\n",
      "     Overall test accuracy: 68.96 %\n",
      "     Overall training accuracy: 98.96 %\n",
      "model  3 : ExtraTreesClassifier = 100\n",
      "   Fold 1 accuracy: 71.88 %\n",
      "   Fold 2 accuracy: 70.83 %\n",
      "   Fold 3 accuracy: 65.62 %\n",
      "   Fold 4 accuracy: 70.83 %\n",
      "   Fold 5 accuracy: 73.96 %\n",
      "   Fold 6 accuracy: 72.92 %\n",
      "   Fold 7 accuracy: 69.79 %\n",
      "   Fold 8 accuracy: 68.75 %\n",
      "   Fold 9 accuracy: 66.67 %\n",
      "   Fold 10 accuracy: 71.88 %\n",
      "     Overall test accuracy: 70.31 %\n",
      "     Overall training accuracy: 99.38 %\n",
      "model  4 : ExtraTreesClassifier = 300\n",
      "   Fold 1 accuracy: 69.79 %\n",
      "   Fold 2 accuracy: 68.75 %\n",
      "   Fold 3 accuracy: 72.92 %\n",
      "   Fold 4 accuracy: 68.75 %\n",
      "   Fold 5 accuracy: 71.88 %\n",
      "   Fold 6 accuracy: 65.62 %\n",
      "   Fold 7 accuracy: 72.92 %\n",
      "   Fold 8 accuracy: 63.54 %\n",
      "   Fold 9 accuracy: 75.00 %\n",
      "   Fold 10 accuracy: 62.50 %\n",
      "     Overall test accuracy: 69.17 %\n",
      "     Overall training accuracy: 99.38 %\n",
      "model  5 : ExtraTreesClassifier = 500\n",
      "   Fold 1 accuracy: 65.62 %\n",
      "   Fold 2 accuracy: 69.79 %\n",
      "   Fold 3 accuracy: 72.92 %\n",
      "   Fold 4 accuracy: 65.62 %\n",
      "   Fold 5 accuracy: 71.88 %\n",
      "   Fold 6 accuracy: 76.04 %\n",
      "   Fold 7 accuracy: 66.67 %\n",
      "   Fold 8 accuracy: 76.04 %\n",
      "   Fold 9 accuracy: 67.71 %\n",
      "   Fold 10 accuracy: 66.67 %\n",
      "     Overall test accuracy: 69.90 %\n",
      "     Overall training accuracy: 99.48 %\n"
     ]
    }
   ],
   "source": [
    "#%%\n",
    "# ExtraTreesClassifier\n",
    "model=0\n",
    "results = []\n",
    "cont = []\n",
    "kf = KFold(n_splits=10, shuffle=True)\n",
    "trees = [10, 30, 60, 100, 300, 500]\n",
    "for t in range(len(trees)):\n",
    "    fold = 1\n",
    "    truth = []\n",
    "    rf_prediction = []\n",
    "    print(\"model \", t, \": ExtraTreesClassifier = \" + str(trees[t]))\n",
    "    test_count = 0\n",
    "    rf = ExtraTreesClassifier(bootstrap=False,\n",
    "           criterion='entropy', max_depth=15, max_features=0.9,\n",
    "           max_leaf_nodes=None, min_impurity_decrease=1e-045,\n",
    "           min_samples_leaf=1, min_samples_split=3,\n",
    "           min_weight_fraction_leaf=0.0, n_estimators=trees[t], n_jobs=-1,\n",
    "           oob_score=False, random_state=None, verbose=0, warm_start=False)\n",
    "    for train_idx, test_idx in kf.split(X):\n",
    "        trainX = X[train_idx]\n",
    "        trainY = Y[train_idx]\n",
    "        testX = X[test_idx]\n",
    "        testY = Y[test_idx]\n",
    "        truth.append(testY)\n",
    "        rf.fit(trainX, trainY)\n",
    "        Y_hat = rf.predict(testX)\n",
    "        rf_prediction.append(Y_hat)\n",
    "        print(\"   Fold %d accuracy: %.2f %%\" % (fold, ((np.sum(Y_hat == testY)/len(testY)) * 100.0)))                        \n",
    "        fold += 1\n",
    "    truth = np.concatenate(truth, axis=0)    \n",
    "    rf_prediction = np.concatenate(rf_prediction, axis=0)\n",
    "    test_results = np.sum(rf_prediction == truth)/len(truth)\n",
    "    print(\"     Overall test accuracy: %.2f %%\" % (test_results * 100))  \n",
    "    rf = rf.fit(X, Y)\n",
    "    Y_hat = rf.predict(X)\n",
    "    train_results = np.sum(Y_hat == Y)/len(Y)\n",
    "    print(\"     Overall training accuracy: %.2f %%\" % (train_results * 100.0))  \n",
    "    results.append([train_results, test_results])   \n",
    "    cont.append([truth, rf_prediction])"
   ]
  },
  {
   "cell_type": "code",
   "execution_count": 28,
   "metadata": {},
   "outputs": [],
   "source": [
    "rf = ExtraTreesClassifier(bootstrap=False,\n",
    "       criterion='entropy', max_depth=15, max_features=0.9,\n",
    "       max_leaf_nodes=None, min_impurity_decrease=1e-045,\n",
    "       min_samples_leaf=1, min_samples_split=3,\n",
    "       min_weight_fraction_leaf=0.0, n_estimators=100, n_jobs=-1,      #trees[t] = 100\n",
    "       oob_score=False, random_state=None, verbose=0, warm_start=False)"
   ]
  },
  {
   "cell_type": "code",
   "execution_count": 35,
   "metadata": {},
   "outputs": [
    {
     "name": "stdout",
     "output_type": "stream",
     "text": [
      "385\n",
      "vm  0.5486338797814208\n",
      "vn  0.6240437158469946\n",
      "388\n",
      "vm  0.5409836065573771\n",
      "vn  0.6120218579234973\n",
      "379\n",
      "vm  0.5442622950819672\n",
      "vn  0.6415300546448087\n",
      "381\n",
      "vm  0.5508196721311476\n",
      "vn  0.6109289617486339\n",
      "384\n",
      "vm  0.5387978142076503\n",
      "vn  0.6207650273224044\n",
      "nlp\n",
      "precision:  0.4557291666666667\n",
      "recall:  0.45103092783505155\n",
      "F1:  0.4533678756476684\n",
      "nlp0\n",
      "precision:  0.5988700564971752\n",
      "recall:  0.603415559772296\n",
      "F1:  0.4533678756476684\n",
      "ave\n",
      "precision:  0.527299611581921\n",
      "recall:  0.5272232438036738\n",
      "F1:  0.4533678756476684\n"
     ]
    }
   ],
   "source": [
    "train_num = 5\n",
    "for i in range(train_num):\n",
    "    rf.fit(X, Y)\n",
    "    Y2_hat = rf.predict(X2)\n",
    "    vn = np.sum(Y2_hat == Yn2)/len(Yn2)\n",
    "    vm = np.sum(Y2_hat == Y2)/len(Y2)\n",
    "    print(np.sum(Y2_hat))\n",
    "    print(\"vm \", vm)\n",
    "    print(\"vn \",vn)\n",
    "    \n",
    "precision = np.sum(Y2_hat + Y2 == 2)/np.sum(Y2_hat)\n",
    "recall = np.sum(Y2_hat + Y2 == 2)/np.sum(Y2)\n",
    "f1 = 2*precision*recall/(precision+recall)\n",
    "print(\"nlp\")\n",
    "print(\"precision: \", precision)\n",
    "print(\"recall: \", recall)\n",
    "print(\"F1: \", f1)\n",
    "\n",
    "precision0 = np.sum(Y2_hat + Y2 == 0)/(len(Y2_hat)-np.sum(Y2_hat))\n",
    "recall0 = np.sum(Y2_hat + Y2 == 0)/(len(Y2)-np.sum(Y2))\n",
    "f10 = 2*precision*recall/(precision+recall)\n",
    "print(\"nlp0\")\n",
    "print(\"precision: \", precision0)\n",
    "print(\"recall: \", recall0)\n",
    "print(\"F1: \", f10)\n",
    "\n",
    "print(\"ave\")\n",
    "print(\"precision: \", (precision+precision0)/2)\n",
    "print(\"recall: \", (recall+recall0)/2)\n",
    "print(\"F1: \", (f1+f10)/2)"
   ]
  },
  {
   "cell_type": "code",
   "execution_count": null,
   "metadata": {},
   "outputs": [],
   "source": []
  },
  {
   "cell_type": "code",
   "execution_count": 20,
   "metadata": {},
   "outputs": [
    {
     "name": "stdout",
     "output_type": "stream",
     "text": [
      "(915, 800)\n",
      "915\n"
     ]
    }
   ],
   "source": [
    "print(X2.shape)\n",
    "print(len(Y2_hat))"
   ]
  },
  {
   "cell_type": "code",
   "execution_count": 21,
   "metadata": {},
   "outputs": [
    {
     "name": "stdout",
     "output_type": "stream",
     "text": [
      "Enter Best Model: 3\n",
      "\n",
      "ExtraTrees\n",
      "         no  social  Total\n",
      "no      378     155    533\n",
      "social  130     297    427\n",
      "Total   508     452    960\n",
      "\n"
     ]
    }
   ],
   "source": [
    "#%%\n",
    "model = input(\"Enter Best Model: \")\n",
    "best = cont[int(model)]\n",
    "rf_ct = pd.crosstab(best[1], best[0], margins=True)\n",
    "rf_ct.columns = [\"no\", \"social\", \"Total\"]\n",
    "rf_ct.index = [\"no\", \"social\", \"Total\"]\n",
    "print()\n",
    "print(\"ExtraTrees\")\n",
    "print(rf_ct)\n",
    "print()"
   ]
  },
  {
   "cell_type": "code",
   "execution_count": 22,
   "metadata": {},
   "outputs": [
    {
     "name": "stdout",
     "output_type": "stream",
     "text": [
      "[[378 130]\n",
      " [155 297]]\n",
      "0.6757679180887372\n"
     ]
    }
   ],
   "source": [
    "#%%\n",
    "from sklearn.metrics import confusion_matrix\n",
    "from sklearn.metrics import recall_score,f1_score,precision_score,accuracy_score,classification_report\n",
    "y_true =cont[int(model)][0]\n",
    "y_pred = cont[int(model)][1]\n",
    "print(confusion_matrix(y_true, y_pred))\n",
    "print(f1_score(y_true, y_pred) )"
   ]
  },
  {
   "cell_type": "code",
   "execution_count": 23,
   "metadata": {},
   "outputs": [
    {
     "name": "stdout",
     "output_type": "stream",
     "text": [
      "0.6570796460176991\n",
      "0.6955503512880562\n",
      "0.703125\n",
      "             precision    recall  f1-score   support\n",
      "\n",
      "          0       0.71      0.74      0.73       508\n",
      "          1       0.70      0.66      0.68       452\n",
      "\n",
      "avg / total       0.70      0.70      0.70       960\n",
      "\n"
     ]
    }
   ],
   "source": [
    "print(recall_score(y_true, y_pred),   )\n",
    "print(precision_score(y_true, y_pred))\n",
    "print(accuracy_score(y_true, y_pred))\n",
    "\n",
    "print(classification_report(y_true, y_pred))"
   ]
  },
  {
   "cell_type": "code",
   "execution_count": 24,
   "metadata": {},
   "outputs": [
    {
     "name": "stdout",
     "output_type": "stream",
     "text": [
      "ExtraTrees: Sensitivity: 0.65708 Specificity: 0.74409 PPV: 0.69555 NPV: 0.70919 Accuracy: 0.70312\n"
     ]
    }
   ],
   "source": [
    "#%%\n",
    "\n",
    "Sens = rf_ct.iloc[1][1]/rf_ct.iloc[2][1]\n",
    "Spec = rf_ct.iloc[0][0]/rf_ct.iloc[2][0]\n",
    "PPV = rf_ct.iloc[1][1]/rf_ct.iloc[1][2]\n",
    "NPV = rf_ct.iloc[0][0]/rf_ct.iloc[0][2]\n",
    "ACC = (rf_ct.iloc[0][0] + rf_ct.iloc[1][1]) / rf_ct.iloc[2][2]\n",
    "print(\"ExtraTrees: Sensitivity: %.5f Specificity: %.5f PPV: %.5f NPV: %.5f Accuracy: %.5f\" % (Sens, Spec, PPV, NPV, ACC))"
   ]
  },
  {
   "cell_type": "code",
   "execution_count": 25,
   "metadata": {},
   "outputs": [
    {
     "data": {
      "image/png": "[encoded data removed]",
      "text/plain": [
       "<Figure size 432x288 with 1 Axes>"
      ]
     },
     "metadata": {},
     "output_type": "display_data"
    },
    {
     "name": "stdout",
     "output_type": "stream",
     "text": [
      "AUC =  0.7005870671033377\n"
     ]
    }
   ],
   "source": [
    "#%%\n",
    "rf_fpr, rf_tpr, rf_thresholds = roc_curve(best[0], best[1], pos_label=1)\n",
    "roc_auc = auc(rf_fpr, rf_tpr)\n",
    "plt.figure(1)\n",
    "plt.plot([0, 1], [0, 1], 'k--')\n",
    "plt.plot(rf_fpr, rf_tpr, label='ExtraTrees')\n",
    "plt.xlabel('False positive rate (1 - Specificity)')\n",
    "plt.ylabel('True Positive Rate (Sensitivity)')\n",
    "plt.title('ROC curve')\n",
    "plt.legend(loc='best')\n",
    "plt.show()\n",
    "print(\"AUC = \", roc_auc)"
   ]
  },
  {
   "cell_type": "code",
   "execution_count": 26,
   "metadata": {},
   "outputs": [
    {
     "name": "stdout",
     "output_type": "stream",
     "text": [
      "model 0: SVM RBF Gamma=1.000 C=1.00\n",
      "   Fold 1 accuracy: 61.46 %\n",
      "   Fold 2 accuracy: 69.79 %\n",
      "   Fold 3 accuracy: 58.33 %\n",
      "   Fold 4 accuracy: 58.33 %\n",
      "   Fold 5 accuracy: 65.62 %\n",
      "   Fold 6 accuracy: 60.42 %\n",
      "   Fold 7 accuracy: 57.29 %\n",
      "   Fold 8 accuracy: 60.42 %\n",
      "   Fold 9 accuracy: 61.46 %\n",
      "   Fold 10 accuracy: 56.25 %\n",
      "     Overall test accuracy: 60.94 %\n",
      "     Overall training accuracy: 63.65 %\n",
      "model 1: SVM RBF Gamma=1.000 C=2.00\n",
      "   Fold 1 accuracy: 61.46 %\n",
      "   Fold 2 accuracy: 60.42 %\n",
      "   Fold 3 accuracy: 61.46 %\n",
      "   Fold 4 accuracy: 71.88 %\n",
      "   Fold 5 accuracy: 62.50 %\n",
      "   Fold 6 accuracy: 69.79 %\n",
      "   Fold 7 accuracy: 64.58 %\n",
      "   Fold 8 accuracy: 60.42 %\n",
      "   Fold 9 accuracy: 66.67 %\n",
      "   Fold 10 accuracy: 59.38 %\n",
      "     Overall test accuracy: 63.85 %\n",
      "     Overall training accuracy: 66.46 %\n",
      "model 2: SVM RBF Gamma=1.000 C=4.00\n",
      "   Fold 1 accuracy: 64.58 %\n",
      "   Fold 2 accuracy: 76.04 %\n",
      "   Fold 3 accuracy: 56.25 %\n",
      "   Fold 4 accuracy: 63.54 %\n",
      "   Fold 5 accuracy: 65.62 %\n",
      "   Fold 6 accuracy: 67.71 %\n",
      "   Fold 7 accuracy: 69.79 %\n",
      "   Fold 8 accuracy: 64.58 %\n",
      "   Fold 9 accuracy: 62.50 %\n",
      "   Fold 10 accuracy: 70.83 %\n",
      "     Overall test accuracy: 66.15 %\n",
      "     Overall training accuracy: 69.79 %\n",
      "model 3: SVM RBF Gamma=1.000 C=6.00\n",
      "   Fold 1 accuracy: 70.83 %\n",
      "   Fold 2 accuracy: 70.83 %\n",
      "   Fold 3 accuracy: 68.75 %\n",
      "   Fold 4 accuracy: 60.42 %\n",
      "   Fold 5 accuracy: 67.71 %\n",
      "   Fold 6 accuracy: 65.62 %\n",
      "   Fold 7 accuracy: 61.46 %\n",
      "   Fold 8 accuracy: 58.33 %\n",
      "   Fold 9 accuracy: 70.83 %\n",
      "   Fold 10 accuracy: 72.92 %\n",
      "     Overall test accuracy: 66.77 %\n",
      "     Overall training accuracy: 72.29 %\n",
      "model 4: SVM RBF Gamma=1.000 C=8.00\n",
      "   Fold 1 accuracy: 75.00 %\n",
      "   Fold 2 accuracy: 67.71 %\n",
      "   Fold 3 accuracy: 67.71 %\n",
      "   Fold 4 accuracy: 65.62 %\n",
      "   Fold 5 accuracy: 64.58 %\n",
      "   Fold 6 accuracy: 63.54 %\n",
      "   Fold 7 accuracy: 76.04 %\n",
      "   Fold 8 accuracy: 69.79 %\n",
      "   Fold 9 accuracy: 63.54 %\n",
      "   Fold 10 accuracy: 69.79 %\n",
      "     Overall test accuracy: 68.33 %\n",
      "     Overall training accuracy: 73.23 %\n",
      "model 5: SVM RBF Gamma=1.000 C=10.00\n",
      "   Fold 1 accuracy: 77.08 %\n",
      "   Fold 2 accuracy: 73.96 %\n",
      "   Fold 3 accuracy: 53.12 %\n",
      "   Fold 4 accuracy: 62.50 %\n",
      "   Fold 5 accuracy: 66.67 %\n",
      "   Fold 6 accuracy: 66.67 %\n",
      "   Fold 7 accuracy: 66.67 %\n",
      "   Fold 8 accuracy: 66.67 %\n",
      "   Fold 9 accuracy: 68.75 %\n",
      "   Fold 10 accuracy: 70.83 %\n",
      "     Overall test accuracy: 67.29 %\n",
      "     Overall training accuracy: 74.79 %\n",
      "model 6: SVM RBF Gamma=2.000 C=1.00\n",
      "   Fold 1 accuracy: 56.25 %\n",
      "   Fold 2 accuracy: 65.62 %\n",
      "   Fold 3 accuracy: 58.33 %\n",
      "   Fold 4 accuracy: 67.71 %\n",
      "   Fold 5 accuracy: 67.71 %\n",
      "   Fold 6 accuracy: 65.62 %\n",
      "   Fold 7 accuracy: 64.58 %\n",
      "   Fold 8 accuracy: 65.62 %\n",
      "   Fold 9 accuracy: 60.42 %\n",
      "   Fold 10 accuracy: 67.71 %\n",
      "     Overall test accuracy: 63.96 %\n",
      "     Overall training accuracy: 66.67 %\n",
      "model 7: SVM RBF Gamma=2.000 C=2.00\n",
      "   Fold 1 accuracy: 72.92 %\n",
      "   Fold 2 accuracy: 62.50 %\n",
      "   Fold 3 accuracy: 73.96 %\n",
      "   Fold 4 accuracy: 56.25 %\n",
      "   Fold 5 accuracy: 63.54 %\n",
      "   Fold 6 accuracy: 66.67 %\n",
      "   Fold 7 accuracy: 69.79 %\n",
      "   Fold 8 accuracy: 64.58 %\n",
      "   Fold 9 accuracy: 67.71 %\n",
      "   Fold 10 accuracy: 65.62 %\n",
      "     Overall test accuracy: 66.35 %\n",
      "     Overall training accuracy: 70.21 %\n",
      "model 8: SVM RBF Gamma=2.000 C=4.00\n",
      "   Fold 1 accuracy: 61.46 %\n",
      "   Fold 2 accuracy: 59.38 %\n",
      "   Fold 3 accuracy: 63.54 %\n",
      "   Fold 4 accuracy: 65.62 %\n",
      "   Fold 5 accuracy: 64.58 %\n",
      "   Fold 6 accuracy: 67.71 %\n",
      "   Fold 7 accuracy: 68.75 %\n",
      "   Fold 8 accuracy: 72.92 %\n",
      "   Fold 9 accuracy: 80.21 %\n",
      "   Fold 10 accuracy: 70.83 %\n",
      "     Overall test accuracy: 67.50 %\n",
      "     Overall training accuracy: 73.75 %\n",
      "model 9: SVM RBF Gamma=2.000 C=6.00\n",
      "   Fold 1 accuracy: 72.92 %\n",
      "   Fold 2 accuracy: 61.46 %\n",
      "   Fold 3 accuracy: 77.08 %\n",
      "   Fold 4 accuracy: 64.58 %\n",
      "   Fold 5 accuracy: 68.75 %\n",
      "   Fold 6 accuracy: 70.83 %\n",
      "   Fold 7 accuracy: 65.62 %\n",
      "   Fold 8 accuracy: 69.79 %\n",
      "   Fold 9 accuracy: 78.12 %\n",
      "   Fold 10 accuracy: 67.71 %\n",
      "     Overall test accuracy: 69.69 %\n",
      "     Overall training accuracy: 76.77 %\n",
      "model 10: SVM RBF Gamma=2.000 C=8.00\n",
      "   Fold 1 accuracy: 64.58 %\n",
      "   Fold 2 accuracy: 73.96 %\n",
      "   Fold 3 accuracy: 66.67 %\n",
      "   Fold 4 accuracy: 69.79 %\n",
      "   Fold 5 accuracy: 76.04 %\n",
      "   Fold 6 accuracy: 66.67 %\n",
      "   Fold 7 accuracy: 75.00 %\n",
      "   Fold 8 accuracy: 66.67 %\n",
      "   Fold 9 accuracy: 64.58 %\n",
      "   Fold 10 accuracy: 62.50 %\n",
      "     Overall test accuracy: 68.65 %\n",
      "     Overall training accuracy: 78.54 %\n",
      "model 11: SVM RBF Gamma=2.000 C=10.00\n",
      "   Fold 1 accuracy: 67.71 %\n",
      "   Fold 2 accuracy: 71.88 %\n",
      "   Fold 3 accuracy: 73.96 %\n",
      "   Fold 4 accuracy: 62.50 %\n",
      "   Fold 5 accuracy: 65.62 %\n",
      "   Fold 6 accuracy: 71.88 %\n",
      "   Fold 7 accuracy: 67.71 %\n",
      "   Fold 8 accuracy: 72.92 %\n",
      "   Fold 9 accuracy: 72.92 %\n",
      "   Fold 10 accuracy: 73.96 %\n",
      "     Overall test accuracy: 70.10 %\n",
      "     Overall training accuracy: 79.90 %\n"
     ]
    }
   ],
   "source": [
    "#%%\n",
    "# SVM\n",
    "model = 0\n",
    "cont = []\n",
    "results = pd.DataFrame(columns=('name', 'accuracy'))\n",
    "kf = KFold(n_splits=10, shuffle=True)\n",
    "C = [1,2,4,6,8,10]\n",
    "gamma = [1,2]  \n",
    "for g in range(len(gamma)):\n",
    "    acc = []\n",
    "    name = \"SVM RBF Gamma=%.3f\" % (gamma[g])     \n",
    "    for c in range(len(C)):\n",
    "        fold = 1\n",
    "        truth = []\n",
    "        svm_prediction = []\n",
    "        print(\"model %d: SVM RBF Gamma=%.3f C=%.2f\" % (model, gamma[g], C[c]))        \n",
    "        test_count = 0\n",
    "        svm = SVC(C=C[c], kernel='rbf', gamma=gamma[g])\n",
    "        for train_idx, test_idx in kf.split(X):\n",
    "            trainX = X[train_idx]\n",
    "            trainY = Y[train_idx]\n",
    "            testX = X[test_idx]\n",
    "            testY = Y[test_idx]\n",
    "            truth.append(testY)\n",
    "            svm.fit(trainX, trainY)\n",
    "            Y_hat = svm.predict(testX)\n",
    "            svm_prediction.append(Y_hat)\n",
    "            print(\"   Fold %d accuracy: %.2f %%\" % (fold, ((np.sum(Y_hat == testY)/len(testY)) * 100.0)))                        \n",
    "            fold += 1\n",
    "        truth = np.concatenate(truth, axis=0)    \n",
    "        svm_prediction = np.concatenate(svm_prediction, axis=0)\n",
    "        test_results = np.sum(svm_prediction == truth)/len(truth)\n",
    "        print(\"     Overall test accuracy: %.2f %%\" % (test_results * 100))  \n",
    "        svm = svm.fit(X, Y)\n",
    "        Y_hat = svm.predict(X)\n",
    "        train_results = np.sum(Y_hat == Y)/len(Y)\n",
    "        print(\"     Overall training accuracy: %.2f %%\" % (train_results * 100.0))  \n",
    "        acc.append([train_results, test_results])   \n",
    "        cont.append([truth, svm_prediction])\n",
    "        model += 1\n",
    "    results = results.append({'name': name, 'accuracy' : acc}, ignore_index=True)"
   ]
  },
  {
   "cell_type": "code",
   "execution_count": 34,
   "metadata": {},
   "outputs": [
    {
     "name": "stdout",
     "output_type": "stream",
     "text": [
      "293\n",
      "vm  0.5639344262295082\n",
      "vn  0.6131147540983607\n",
      "293\n",
      "vm  0.5639344262295082\n",
      "vn  0.6131147540983607\n",
      "293\n",
      "vm  0.5639344262295082\n",
      "vn  0.6131147540983607\n",
      "293\n",
      "vm  0.5639344262295082\n",
      "vn  0.6131147540983607\n",
      "293\n",
      "vm  0.5639344262295082\n",
      "vn  0.6131147540983607\n",
      "nlp\n",
      "precision:  0.4812286689419795\n",
      "recall:  0.3634020618556701\n",
      "F1:  0.41409691629955947\n",
      "nlp0\n",
      "precision:  0.6028938906752411\n",
      "recall:  0.7115749525616698\n",
      "F1:  0.41409691629955947\n",
      "ave\n",
      "precision:  0.5420612798086103\n",
      "recall:  0.5374885072086699\n",
      "F1:  0.41409691629955947\n"
     ]
    }
   ],
   "source": [
    "#svm = SVC(C=10, kernel='rbf', gamma=2) #vm 52.3% vn 61.0%\n",
    "#svm = SVC(C=2, kernel='rbf', gamma=128) #vm 56.4% vn 61.3%\n",
    "svm = SVC(C=10, kernel='rbf', gamma=2) \n",
    "train_num = 5\n",
    "for i in range(train_num):\n",
    "    svm.fit(X, Y)\n",
    "    Y2_hat = svm.predict(X2)\n",
    "    vn = np.sum(Y2_hat == Yn2)/len(Yn2)\n",
    "    vm = np.sum(Y2_hat == Y2)/len(Y2)\n",
    "    print(np.sum(Y2_hat))\n",
    "    print(\"vm \", vm)\n",
    "    print(\"vn \",vn)\n",
    "    \n",
    "precision = np.sum(Y2_hat + Y2 == 2)/np.sum(Y2_hat)\n",
    "recall = np.sum(Y2_hat + Y2 == 2)/np.sum(Y2)\n",
    "f1 = 2*precision*recall/(precision+recall)\n",
    "print(\"nlp\")\n",
    "print(\"precision: \", precision)\n",
    "print(\"recall: \", recall)\n",
    "print(\"F1: \", f1)\n",
    "\n",
    "precision0 = np.sum(Y2_hat + Y2 == 0)/(len(Y2_hat)-np.sum(Y2_hat))\n",
    "recall0 = np.sum(Y2_hat + Y2 == 0)/(len(Y2)-np.sum(Y2))\n",
    "f10 = 2*precision*recall/(precision+recall)\n",
    "print(\"nlp0\")\n",
    "print(\"precision: \", precision0)\n",
    "print(\"recall: \", recall0)\n",
    "print(\"F1: \", f10)\n",
    "\n",
    "print(\"ave\")\n",
    "print(\"precision: \", (precision+precision0)/2)\n",
    "print(\"recall: \", (recall+recall0)/2)\n",
    "print(\"F1: \", (f1+f10)/2)"
   ]
  },
  {
   "cell_type": "code",
   "execution_count": 29,
   "metadata": {},
   "outputs": [
    {
     "name": "stdout",
     "output_type": "stream",
     "text": [
      "Enter Best Model: 11\n",
      "\n",
      "SVM\n",
      "         no  social  Total\n",
      "no      412     191    603\n",
      "social   96     261    357\n",
      "Total   508     452    960\n",
      "\n"
     ]
    }
   ],
   "source": [
    "#%%\n",
    "\n",
    "model = input(\"Enter Best Model: \")\n",
    "best = cont[int(model)]\n",
    "rf_ct = pd.crosstab(best[1], best[0], margins=True)\n",
    "rf_ct.columns = [\"no\", \"social\", \"Total\"]\n",
    "rf_ct.index = [\"no\", \"social\", \"Total\"]\n",
    "print()\n",
    "print(\"SVM\")\n",
    "print(rf_ct)\n",
    "print()"
   ]
  },
  {
   "cell_type": "code",
   "execution_count": 30,
   "metadata": {},
   "outputs": [
    {
     "name": "stdout",
     "output_type": "stream",
     "text": [
      "Random Forest: Sensitivity: 0.57743 Specificity: 0.81102 PPV: 0.73109 NPV: 0.68325 Accuracy: 0.70104\n"
     ]
    }
   ],
   "source": [
    "#%%\n",
    "\n",
    "Sens = rf_ct.iloc[1][1]/rf_ct.iloc[2][1]\n",
    "Spec = rf_ct.iloc[0][0]/rf_ct.iloc[2][0]\n",
    "PPV = rf_ct.iloc[1][1]/rf_ct.iloc[1][2]\n",
    "NPV = rf_ct.iloc[0][0]/rf_ct.iloc[0][2]\n",
    "ACC = (rf_ct.iloc[0][0] + rf_ct.iloc[1][1]) / rf_ct.iloc[2][2]\n",
    "print(\"Random Forest: Sensitivity: %.5f Specificity: %.5f PPV: %.5f NPV: %.5f Accuracy: %.5f\" % (Sens, Spec, PPV, NPV, ACC))"
   ]
  },
  {
   "cell_type": "code",
   "execution_count": 31,
   "metadata": {},
   "outputs": [
    {
     "name": "stdout",
     "output_type": "stream",
     "text": [
      "[[412  96]\n",
      " [191 261]]\n",
      "0.6452410383189122\n",
      "0.577433628318584\n",
      "0.7310924369747899\n",
      "0.7010416666666667\n",
      "             precision    recall  f1-score   support\n",
      "\n",
      "          0       0.68      0.81      0.74       508\n",
      "          1       0.73      0.58      0.65       452\n",
      "\n",
      "avg / total       0.71      0.70      0.70       960\n",
      "\n"
     ]
    }
   ],
   "source": [
    "#%%\n",
    "from sklearn.metrics import confusion_matrix\n",
    "from sklearn.metrics import recall_score,f1_score,precision_score,accuracy_score,classification_report\n",
    "y_true =cont[int(model)][0]\n",
    "y_pred = cont[int(model)][1]\n",
    "print(confusion_matrix(y_true, y_pred))\n",
    "print(f1_score(y_true, y_pred) )\n",
    "\n",
    "print(recall_score(y_true, y_pred),   )\n",
    "print(precision_score(y_true, y_pred))\n",
    "print(accuracy_score(y_true, y_pred))\n",
    "\n",
    "print(classification_report(y_true, y_pred))"
   ]
  },
  {
   "cell_type": "code",
   "execution_count": 32,
   "metadata": {},
   "outputs": [
    {
     "name": "stdout",
     "output_type": "stream",
     "text": [
      "model  0 : Random Forest trees = 5\n",
      "   Fold 1 accuracy: 59.38 %\n",
      "   Fold 2 accuracy: 58.33 %\n",
      "   Fold 3 accuracy: 66.67 %\n",
      "   Fold 4 accuracy: 62.50 %\n",
      "   Fold 5 accuracy: 58.33 %\n",
      "   Fold 6 accuracy: 60.42 %\n",
      "   Fold 7 accuracy: 64.58 %\n",
      "   Fold 8 accuracy: 67.71 %\n",
      "   Fold 9 accuracy: 65.62 %\n",
      "   Fold 10 accuracy: 56.25 %\n",
      "     Overall test accuracy: 61.98 %\n",
      "     Overall training accuracy: 96.25 %\n",
      "model  1 : Random Forest trees = 10\n",
      "   Fold 1 accuracy: 69.79 %\n",
      "   Fold 2 accuracy: 63.54 %\n",
      "   Fold 3 accuracy: 70.83 %\n",
      "   Fold 4 accuracy: 61.46 %\n",
      "   Fold 5 accuracy: 63.54 %\n",
      "   Fold 6 accuracy: 64.58 %\n",
      "   Fold 7 accuracy: 67.71 %\n",
      "   Fold 8 accuracy: 63.54 %\n",
      "   Fold 9 accuracy: 67.71 %\n",
      "   Fold 10 accuracy: 67.71 %\n",
      "     Overall test accuracy: 66.04 %\n",
      "     Overall training accuracy: 98.85 %\n",
      "model  2 : Random Forest trees = 50\n",
      "   Fold 1 accuracy: 66.67 %\n",
      "   Fold 2 accuracy: 68.75 %\n",
      "   Fold 3 accuracy: 67.71 %\n",
      "   Fold 4 accuracy: 67.71 %\n",
      "   Fold 5 accuracy: 78.12 %\n",
      "   Fold 6 accuracy: 62.50 %\n",
      "   Fold 7 accuracy: 66.67 %\n",
      "   Fold 8 accuracy: 71.88 %\n",
      "   Fold 9 accuracy: 62.50 %\n",
      "   Fold 10 accuracy: 69.79 %\n",
      "     Overall test accuracy: 68.23 %\n",
      "     Overall training accuracy: 100.00 %\n",
      "model  3 : Random Forest trees = 100\n",
      "   Fold 1 accuracy: 69.79 %\n",
      "   Fold 2 accuracy: 69.79 %\n",
      "   Fold 3 accuracy: 70.83 %\n",
      "   Fold 4 accuracy: 69.79 %\n",
      "   Fold 5 accuracy: 65.62 %\n",
      "   Fold 6 accuracy: 67.71 %\n",
      "   Fold 7 accuracy: 58.33 %\n",
      "   Fold 8 accuracy: 65.62 %\n",
      "   Fold 9 accuracy: 73.96 %\n",
      "   Fold 10 accuracy: 67.71 %\n",
      "     Overall test accuracy: 67.92 %\n",
      "     Overall training accuracy: 100.00 %\n",
      "model  4 : Random Forest trees = 200\n",
      "   Fold 1 accuracy: 69.79 %\n",
      "   Fold 2 accuracy: 64.58 %\n",
      "   Fold 3 accuracy: 70.83 %\n",
      "   Fold 4 accuracy: 68.75 %\n",
      "   Fold 5 accuracy: 72.92 %\n",
      "   Fold 6 accuracy: 69.79 %\n",
      "   Fold 7 accuracy: 65.62 %\n",
      "   Fold 8 accuracy: 73.96 %\n",
      "   Fold 9 accuracy: 72.92 %\n",
      "   Fold 10 accuracy: 60.42 %\n",
      "     Overall test accuracy: 68.96 %\n",
      "     Overall training accuracy: 100.00 %\n",
      "model  5 : Random Forest trees = 300\n",
      "   Fold 1 accuracy: 68.75 %\n",
      "   Fold 2 accuracy: 75.00 %\n",
      "   Fold 3 accuracy: 54.17 %\n",
      "   Fold 4 accuracy: 70.83 %\n",
      "   Fold 5 accuracy: 66.67 %\n",
      "   Fold 6 accuracy: 71.88 %\n",
      "   Fold 7 accuracy: 63.54 %\n",
      "   Fold 8 accuracy: 73.96 %\n",
      "   Fold 9 accuracy: 73.96 %\n",
      "   Fold 10 accuracy: 66.67 %\n",
      "     Overall test accuracy: 68.54 %\n",
      "     Overall training accuracy: 100.00 %\n",
      "model  6 : Random Forest trees = 400\n",
      "   Fold 1 accuracy: 64.58 %\n",
      "   Fold 2 accuracy: 77.08 %\n",
      "   Fold 3 accuracy: 69.79 %\n",
      "   Fold 4 accuracy: 64.58 %\n",
      "   Fold 5 accuracy: 68.75 %\n",
      "   Fold 6 accuracy: 66.67 %\n",
      "   Fold 7 accuracy: 73.96 %\n",
      "   Fold 8 accuracy: 65.62 %\n",
      "   Fold 9 accuracy: 70.83 %\n",
      "   Fold 10 accuracy: 69.79 %\n",
      "     Overall test accuracy: 69.17 %\n",
      "     Overall training accuracy: 100.00 %\n",
      "model  7 : Random Forest trees = 500\n",
      "   Fold 1 accuracy: 72.92 %\n",
      "   Fold 2 accuracy: 60.42 %\n",
      "   Fold 3 accuracy: 72.92 %\n",
      "   Fold 4 accuracy: 69.79 %\n",
      "   Fold 5 accuracy: 68.75 %\n",
      "   Fold 6 accuracy: 77.08 %\n",
      "   Fold 7 accuracy: 65.62 %\n",
      "   Fold 8 accuracy: 59.38 %\n",
      "   Fold 9 accuracy: 71.88 %\n",
      "   Fold 10 accuracy: 63.54 %\n",
      "     Overall test accuracy: 68.23 %\n",
      "     Overall training accuracy: 100.00 %\n"
     ]
    }
   ],
   "source": [
    "#%%\n",
    "# RandomForest\n",
    "model=0\n",
    "results = []\n",
    "cont = []\n",
    "kf = KFold(n_splits=10, shuffle=True)\n",
    "trees = [5, 10, 50, 100, 200, 300, 400, 500]\n",
    "for t in range(len(trees)):\n",
    "    fold = 1\n",
    "    truth = []\n",
    "    rf_prediction = []\n",
    "    print(\"model \", t, \": Random Forest trees = \" + str(trees[t]))\n",
    "    test_count = 0\n",
    "    rf = RandomForestClassifier(n_estimators=trees[t], criterion='entropy', n_jobs=-1, )\n",
    "    for train_idx, test_idx in kf.split(X):\n",
    "        trainX = X[train_idx]\n",
    "        trainY = Y[train_idx]\n",
    "        testX = X[test_idx]\n",
    "        testY = Y[test_idx]\n",
    "        truth.append(testY)\n",
    "        rf.fit(trainX, trainY)\n",
    "        Y_hat = rf.predict(testX)\n",
    "        rf_prediction.append(Y_hat)\n",
    "        print(\"   Fold %d accuracy: %.2f %%\" % (fold, ((np.sum(Y_hat == testY)/len(testY)) * 100.0)))                        \n",
    "        fold += 1\n",
    "    truth = np.concatenate(truth, axis=0)    \n",
    "    rf_prediction = np.concatenate(rf_prediction, axis=0)\n",
    "    test_results = np.sum(rf_prediction == truth)/len(truth)\n",
    "    print(\"     Overall test accuracy: %.2f %%\" % (test_results * 100))  \n",
    "    rf = rf.fit(X, Y)\n",
    "    Y_hat = rf.predict(X)\n",
    "    train_results = np.sum(Y_hat == Y)/len(Y)\n",
    "    print(\"     Overall training accuracy: %.2f %%\" % (train_results * 100.0))  \n",
    "    results.append([train_results, test_results])   \n",
    "    cont.append([truth, rf_prediction])"
   ]
  },
  {
   "cell_type": "code",
   "execution_count": 32,
   "metadata": {},
   "outputs": [
    {
     "name": "stdout",
     "output_type": "stream",
     "text": [
      "391\n",
      "vm  0.5530054644808743\n",
      "vn  0.6174863387978142\n",
      "367\n",
      "vm  0.5508196721311476\n",
      "vn  0.6218579234972678\n",
      "375\n",
      "vm  0.5486338797814208\n",
      "vn  0.6240437158469946\n",
      "382\n",
      "vm  0.5409836065573771\n",
      "vn  0.614207650273224\n",
      "386\n",
      "vm  0.5453551912568306\n",
      "vn  0.6207650273224044\n",
      "nlp\n",
      "precision:  0.4637305699481865\n",
      "recall:  0.46134020618556704\n",
      "F1:  0.4625322997416021\n",
      "nlp0\n",
      "precision:  0.6049149338374291\n",
      "recall:  0.6072106261859582\n",
      "F1:  0.4625322997416021\n",
      "ave\n",
      "precision:  0.5343227518928078\n",
      "recall:  0.5342754161857626\n",
      "F1:  0.4625322997416021\n"
     ]
    }
   ],
   "source": [
    "rf = RandomForestClassifier(n_estimators=400, criterion='entropy', n_jobs=-1, )\n",
    "train_num = 5\n",
    "for i in range(train_num):\n",
    "    rf.fit(X, Y)\n",
    "    Y2_hat = rf.predict(X2)\n",
    "    vn = np.sum(Y2_hat == Yn2)/len(Yn2)\n",
    "    vm = np.sum(Y2_hat == Y2)/len(Y2)\n",
    "    print(np.sum(Y2_hat))\n",
    "    print(\"vm \", vm)\n",
    "    print(\"vn \",vn)\n",
    "    \n",
    "precision = np.sum(Y2_hat + Y2 == 2)/np.sum(Y2_hat)\n",
    "recall = np.sum(Y2_hat + Y2 == 2)/np.sum(Y2)\n",
    "f1 = 2*precision*recall/(precision+recall)\n",
    "print(\"nlp\")\n",
    "print(\"precision: \", precision)\n",
    "print(\"recall: \", recall)\n",
    "print(\"F1: \", f1)\n",
    "\n",
    "precision0 = np.sum(Y2_hat + Y2 == 0)/(len(Y2_hat)-np.sum(Y2_hat))\n",
    "recall0 = np.sum(Y2_hat + Y2 == 0)/(len(Y2)-np.sum(Y2))\n",
    "f10 = 2*precision*recall/(precision+recall)\n",
    "print(\"nlp0\")\n",
    "print(\"precision: \", precision0)\n",
    "print(\"recall: \", recall0)\n",
    "print(\"F1: \", f10)\n",
    "\n",
    "print(\"ave\")\n",
    "print(\"precision: \", (precision+precision0)/2)\n",
    "print(\"recall: \", (recall+recall0)/2)\n",
    "print(\"F1: \", (f1+f10)/2)"
   ]
  },
  {
   "cell_type": "code",
   "execution_count": 34,
   "metadata": {},
   "outputs": [
    {
     "name": "stdout",
     "output_type": "stream",
     "text": [
      "Enter Best Model: 6\n",
      "\n",
      "Random Forest\n",
      "         no  social  Total\n",
      "no      366     154    520\n",
      "social  142     298    440\n",
      "Total   508     452    960\n",
      "\n"
     ]
    }
   ],
   "source": [
    "#%%\n",
    "model = input(\"Enter Best Model: \")\n",
    "best = cont[int(model)]\n",
    "rf_ct = pd.crosstab(best[1], best[0], margins=True)\n",
    "rf_ct.columns = [\"no\", \"social\", \"Total\"]\n",
    "rf_ct.index = [\"no\", \"social\", \"Total\"]\n",
    "print()\n",
    "print(\"Random Forest\")\n",
    "print(rf_ct)\n",
    "print()"
   ]
  },
  {
   "cell_type": "code",
   "execution_count": 35,
   "metadata": {},
   "outputs": [
    {
     "name": "stdout",
     "output_type": "stream",
     "text": [
      "Random Forest: Sensitivity: 0.65929 Specificity: 0.72047 PPV: 0.67727 NPV: 0.70385 Accuracy: 0.69167\n"
     ]
    }
   ],
   "source": [
    "#%%\n",
    "\n",
    "Sens = rf_ct.iloc[1][1]/rf_ct.iloc[2][1]\n",
    "Spec = rf_ct.iloc[0][0]/rf_ct.iloc[2][0]\n",
    "PPV = rf_ct.iloc[1][1]/rf_ct.iloc[1][2]\n",
    "NPV = rf_ct.iloc[0][0]/rf_ct.iloc[0][2]\n",
    "ACC = (rf_ct.iloc[0][0] + rf_ct.iloc[1][1]) / rf_ct.iloc[2][2]\n",
    "print(\"Random Forest: Sensitivity: %.5f Specificity: %.5f PPV: %.5f NPV: %.5f Accuracy: %.5f\" % (Sens, Spec, PPV, NPV, ACC))"
   ]
  },
  {
   "cell_type": "code",
   "execution_count": 36,
   "metadata": {},
   "outputs": [
    {
     "name": "stdout",
     "output_type": "stream",
     "text": [
      "[[366 142]\n",
      " [154 298]]\n",
      "0.6681614349775785\n",
      "0.6592920353982301\n",
      "0.6772727272727272\n",
      "0.6916666666666667\n",
      "             precision    recall  f1-score   support\n",
      "\n",
      "          0       0.70      0.72      0.71       508\n",
      "          1       0.68      0.66      0.67       452\n",
      "\n",
      "avg / total       0.69      0.69      0.69       960\n",
      "\n"
     ]
    }
   ],
   "source": [
    "#%%\n",
    "from sklearn.metrics import confusion_matrix\n",
    "from sklearn.metrics import recall_score,f1_score,precision_score,accuracy_score,classification_report\n",
    "y_true =cont[int(model)][0]\n",
    "y_pred = cont[int(model)][1]\n",
    "print(confusion_matrix(y_true, y_pred))\n",
    "print(f1_score(y_true, y_pred) )\n",
    "\n",
    "\n",
    "\n",
    "print(recall_score(y_true, y_pred),   )\n",
    "print(precision_score(y_true, y_pred))\n",
    "print(accuracy_score(y_true, y_pred))\n",
    "\n",
    "print(classification_report(y_true, y_pred))"
   ]
  },
  {
   "cell_type": "code",
   "execution_count": 6,
   "metadata": {},
   "outputs": [
    {
     "name": "stdout",
     "output_type": "stream",
     "text": [
      "Training set score: 0.957031\n",
      "Test set score: 0.692708\n",
      "precision:  0.67\n",
      "recall:  0.7204301075268817\n",
      "F1:  0.6943005181347149\n"
     ]
    },
    {
     "name": "stderr",
     "output_type": "stream",
     "text": [
      "C:\\ProgramData\\Anaconda3\\lib\\site-packages\\sklearn\\neural_network\\multilayer_perceptron.py:564: ConvergenceWarning: Stochastic Optimizer: Maximum iterations (1000) reached and the optimization hasn't converged yet.\n",
      "  % self.max_iter, ConvergenceWarning)\n"
     ]
    }
   ],
   "source": [
    "#%%\n",
    "from sklearn.utils import shuffle\n",
    "X, Y = shuffle(X, Y)\n",
    "split = int(len(Y) * 4/5)\n",
    "trainX = X[:split, :]\n",
    "trainY = Y[:split]\n",
    "testX = X[split:, :]\n",
    "testY = Y[split:]\n",
    "\n",
    "#%%\n",
    "from sklearn.neural_network import MLPClassifier\n",
    "\n",
    "mlp = MLPClassifier(hidden_layer_sizes=(50,), max_iter=1000, alpha=1e-4,\n",
    "                    solver='adam', verbose=False, tol=1e-4, random_state=1)\n",
    "#mlp = MLPClassifier(hidden_layer_sizes=(50,), max_iter=10, alpha=1e-4,\n",
    "#                    solver='sgd', verbose=10, tol=1e-4, random_state=1,\n",
    "#                    learning_rate_init=.1)\n",
    "\n",
    "mlp.fit(trainX, trainY)\n",
    "print(\"Training set score: %f\" % mlp.score(trainX, trainY))\n",
    "print(\"Test set score: %f\" % mlp.score(testX, testY))\n",
    "y_hat = mlp.predict(testX)\n",
    "precision = np.sum(y_hat + testY == 2)/np.sum(y_hat)\n",
    "recall = np.sum(y_hat + testY == 2)/np.sum(testY)\n",
    "f1 = 2*precision*recall/(precision+recall)\n",
    "print(\"precision: \", precision)\n",
    "print(\"recall: \", recall)\n",
    "print(\"F1: \", f1)\n"
   ]
  },
  {
   "cell_type": "code",
   "execution_count": 18,
   "metadata": {},
   "outputs": [
    {
     "name": "stdout",
     "output_type": "stream",
     "text": [
      "Training set score: 0.958333\n",
      "Test set score: 0.453125\n",
      "precision:  0.4891304347826087\n",
      "recall:  0.4368932038834951\n",
      "F1:  0.4615384615384615\n",
      "precision:  0.42\n",
      "recall:  0.47191011235955055\n",
      "F1:  0.4444444444444445\n"
     ]
    },
    {
     "name": "stderr",
     "output_type": "stream",
     "text": [
      "C:\\ProgramData\\Anaconda3\\lib\\site-packages\\sklearn\\neural_network\\multilayer_perceptron.py:564: ConvergenceWarning: Stochastic Optimizer: Maximum iterations (1000) reached and the optimization hasn't converged yet.\n",
      "  % self.max_iter, ConvergenceWarning)\n"
     ]
    }
   ],
   "source": [
    "#%%\n",
    "from sklearn.utils import shuffle\n",
    "X, Yn1 = shuffle(X, Yn1)        # use other label\n",
    "split = int(len(Yn1) * 4/5)\n",
    "trainX = X[:split, :]\n",
    "trainY = Yn1[:split]\n",
    "testX = X[split:, :]\n",
    "testY = Yn1[split:]\n",
    "\n",
    "#%%\n",
    "from sklearn.neural_network import MLPClassifier\n",
    "\n",
    "mlp = MLPClassifier(hidden_layer_sizes=(50,), max_iter=1000, alpha=1e-4,\n",
    "                    solver='adam', verbose=False, tol=1e-4, random_state=1)\n",
    "#mlp = MLPClassifier(hidden_layer_sizes=(50,), max_iter=10, alpha=1e-4,\n",
    "#                    solver='sgd', verbose=10, tol=1e-4, random_state=1,\n",
    "#                    learning_rate_init=.1)\n",
    "\n",
    "mlp.fit(trainX, trainY)\n",
    "print(\"Training set score: %f\" % mlp.score(trainX, trainY))\n",
    "print(\"Test set score: %f\" % mlp.score(testX, testY))\n",
    "y_hat = mlp.predict(testX)\n",
    "precision = np.sum(y_hat + testY == 2)/np.sum(y_hat)\n",
    "recall = np.sum(y_hat + testY == 2)/np.sum(testY)\n",
    "f1 = 2*precision*recall/(precision+recall)\n",
    "print(\"precision: \", precision)\n",
    "print(\"recall: \", recall)\n",
    "print(\"F1: \", f1)\n",
    "\n",
    "precision = np.sum(y_hat + testY == 0)/(len(y_hat)-np.sum(y_hat))\n",
    "recall = np.sum(y_hat + testY == 0)/(len(testY)-np.sum(testY))\n",
    "f1 = 2*precision*recall/(precision+recall)\n",
    "print(\"precision: \", precision)\n",
    "print(\"recall: \", recall)\n",
    "print(\"F1: \", f1)"
   ]
  },
  {
   "cell_type": "code",
   "execution_count": 19,
   "metadata": {},
   "outputs": [
    {
     "name": "stdout",
     "output_type": "stream",
     "text": [
      "409\n",
      "acc vm  0.4852459016393443\n",
      "acc vn  0.5366120218579234\n",
      "nlp\n",
      "precision:  0.46454767726161367\n",
      "recall:  0.4810126582278481\n",
      "F1:  0.472636815920398\n",
      "nlp0\n",
      "precision:  0.5948616600790514\n",
      "recall:  0.5788461538461539\n",
      "F1:  0.5867446393762183\n",
      "manu\n",
      "precision:  0.39853300733496333\n",
      "recall:  0.42010309278350516\n",
      "F1:  0.4090338770388958\n",
      "manu0\n",
      "precision:  0.5553359683794467\n",
      "recall:  0.5332068311195446\n",
      "F1:  0.5440464666021297\n"
     ]
    },
    {
     "name": "stderr",
     "output_type": "stream",
     "text": [
      "C:\\ProgramData\\Anaconda3\\lib\\site-packages\\sklearn\\neural_network\\multilayer_perceptron.py:564: ConvergenceWarning: Stochastic Optimizer: Maximum iterations (500) reached and the optimization hasn't converged yet.\n",
      "  % self.max_iter, ConvergenceWarning)\n"
     ]
    }
   ],
   "source": [
    "from sklearn.utils import shuffle\n",
    "X, Y = shuffle(X, Y)\n",
    "from sklearn.neural_network import MLPClassifier\n",
    "mlp = MLPClassifier(hidden_layer_sizes=(100,),max_iter=500, alpha=1e-4)\n",
    "#mlp = MLPClassifier(hidden_layer_sizes=(100,),max_iter=1000, alpha=1e-4) 67.5%\n",
    "mlp.fit(X,Y)\n",
    "\n",
    "Y2_hat = mlp.predict(X2)\n",
    "vn = np.sum(Y2_hat == Yn2)/len(Yn2)\n",
    "vm = np.sum(Y2_hat == Y2)/len(Y2)\n",
    "print(np.sum(Y2_hat))\n",
    "print(\"acc vm \", vm)\n",
    "print(\"acc vn \",vn)\n",
    "\n",
    "precision = np.sum(Y2_hat + Yn2 == 2)/np.sum(Y2_hat)\n",
    "recall = np.sum(Y2_hat + Yn2 == 2)/np.sum(Yn2)\n",
    "f1 = 2*precision*recall/(precision+recall)\n",
    "print(\"nlp\")\n",
    "print(\"precision: \", precision)\n",
    "print(\"recall: \", recall)\n",
    "print(\"F1: \", f1)\n",
    "\n",
    "precision = np.sum(Y2_hat + Yn2 == 0)/(len(Y2_hat)-np.sum(Y2_hat))\n",
    "recall = np.sum(Y2_hat + Yn2 == 0)/(len(Yn2)-np.sum(Yn2))\n",
    "f1 = 2*precision*recall/(precision+recall)\n",
    "print(\"nlp0\")\n",
    "print(\"precision: \", precision)\n",
    "print(\"recall: \", recall)\n",
    "print(\"F1: \", f1)\n",
    "\n",
    "precision = np.sum(Y2_hat + Y2 == 2)/np.sum(Y2_hat)\n",
    "recall = np.sum(Y2_hat + Y2 == 2)/np.sum(Y2)\n",
    "f1 = 2*precision*recall/(precision+recall)\n",
    "print(\"manu\")\n",
    "print(\"precision: \", precision)\n",
    "print(\"recall: \", recall)\n",
    "print(\"F1: \", f1)\n",
    "\n",
    "precision = np.sum(Y2_hat + Y2 == 0)/(len(Y2_hat)-np.sum(Y2_hat))\n",
    "recall = np.sum(Y2_hat + Y2 == 0)/(len(Y2)-np.sum(Y2))\n",
    "f1 = 2*precision*recall/(precision+recall)\n",
    "print(\"manu0\")\n",
    "print(\"precision: \", precision)\n",
    "print(\"recall: \", recall)\n",
    "print(\"F1: \", f1)"
   ]
  },
  {
   "cell_type": "code",
   "execution_count": 23,
   "metadata": {},
   "outputs": [
    {
     "name": "stdout",
     "output_type": "stream",
     "text": [
      "434\n",
      "acc vm  0.43387978142076505\n",
      "acc vn  0.7387978142076502\n",
      "nlp\n",
      "precision:  0.6797235023041475\n",
      "recall:  0.7468354430379747\n",
      "F1:  0.7117008443908323\n",
      "nlp0\n",
      "precision:  0.7920997920997921\n",
      "recall:  0.7326923076923076\n",
      "F1:  0.7612387612387612\n",
      "manu\n",
      "precision:  0.35023041474654376\n",
      "recall:  0.3917525773195876\n",
      "F1:  0.3698296836982968\n",
      "manu0\n",
      "precision:  0.5093555093555093\n",
      "recall:  0.4648956356736243\n",
      "F1:  0.48611111111111116\n"
     ]
    }
   ],
   "source": [
    "from sklearn.utils import shuffle\n",
    "X, Yn1 = shuffle(X, Yn1)\n",
    "from sklearn.neural_network import MLPClassifier\n",
    "mlp = MLPClassifier(hidden_layer_sizes=(300,),max_iter=500, alpha=1e-4)\n",
    "#mlp = MLPClassifier(hidden_layer_sizes=(100,),max_iter=1000, alpha=1e-4) 67.5%\n",
    "mlp.fit(X,Yn1)\n",
    "\n",
    "Y2_hat = mlp.predict(X2)\n",
    "vn = np.sum(Y2_hat == Yn2)/len(Yn2)\n",
    "\n",
    "vm = np.sum(Y2_hat == Y2)/len(Y2)\n",
    "print(np.sum(Y2_hat))\n",
    "print(\"acc vm \", vm)\n",
    "print(\"acc vn \",vn)\n",
    "\n",
    "precision = np.sum(Y2_hat + Yn2 == 2)/np.sum(Y2_hat)\n",
    "recall = np.sum(Y2_hat + Yn2 == 2)/np.sum(Yn2)\n",
    "f1 = 2*precision*recall/(precision+recall)\n",
    "print(\"nlp\")\n",
    "print(\"precision: \", precision)\n",
    "print(\"recall: \", recall)\n",
    "print(\"F1: \", f1)\n",
    "\n",
    "precision = np.sum(Y2_hat + Yn2 == 0)/(len(Y2_hat)-np.sum(Y2_hat))\n",
    "recall = np.sum(Y2_hat + Yn2 == 0)/(len(Yn2)-np.sum(Yn2))\n",
    "f1 = 2*precision*recall/(precision+recall)\n",
    "print(\"nlp0\")\n",
    "print(\"precision: \", precision)\n",
    "print(\"recall: \", recall)\n",
    "print(\"F1: \", f1)\n",
    "\n",
    "precision = np.sum(Y2_hat + Y2 == 2)/np.sum(Y2_hat)\n",
    "recall = np.sum(Y2_hat + Y2 == 2)/np.sum(Y2)\n",
    "f1 = 2*precision*recall/(precision+recall)\n",
    "print(\"manu\")\n",
    "print(\"precision: \", precision)\n",
    "print(\"recall: \", recall)\n",
    "print(\"F1: \", f1)\n",
    "\n",
    "precision = np.sum(Y2_hat + Y2 == 0)/(len(Y2_hat)-np.sum(Y2_hat))\n",
    "recall = np.sum(Y2_hat + Y2 == 0)/(len(Y2)-np.sum(Y2))\n",
    "f1 = 2*precision*recall/(precision+recall)\n",
    "print(\"manu0\")\n",
    "print(\"precision: \", precision)\n",
    "print(\"recall: \", recall)\n",
    "print(\"F1: \", f1)"
   ]
  },
  {
   "cell_type": "code",
   "execution_count": 24,
   "metadata": {},
   "outputs": [
    {
     "data": {
      "text/plain": [
       "(0.7359116472019698, 0.7397638753651412, 0.7364698028147967)"
      ]
     },
     "execution_count": 24,
     "metadata": {},
     "output_type": "execute_result"
    }
   ],
   "source": [
    "(0.6797235023041475+0.7920997920997921)/2, (0.7468354430379747+0.7326923076923076)/2, (0.7117008443908323+0.7612387612387612)/2"
   ]
  },
  {
   "cell_type": "code",
   "execution_count": null,
   "metadata": {},
   "outputs": [],
   "source": []
  }
 ],
 "metadata": {
  "kernelspec": {
   "display_name": "Python 3",
   "language": "python",
   "name": "python3"
  },
  "language_info": {
   "codemirror_mode": {
    "name": "ipython",
    "version": 3
   },
   "file_extension": ".py",
   "mimetype": "text/x-python",
   "name": "python",
   "nbconvert_exporter": "python",
   "pygments_lexer": "ipython3",
   "version": "3.6.5"
  }
 },
 "nbformat": 4,
 "nbformat_minor": 2
}
