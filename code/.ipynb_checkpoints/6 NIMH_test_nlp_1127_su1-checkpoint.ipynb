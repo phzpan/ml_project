{
 "cells": [
  {
   "cell_type": "markdown",
   "metadata": {},
   "source": [
    "# NIMH Project - Machine Learning - Testing"
   ]
  },
  {
   "cell_type": "code",
   "execution_count": 1,
   "metadata": {},
   "outputs": [],
   "source": [
    "import os\n",
    "\n",
    "import re\n",
    "import nltk\n",
    "import numpy as np\n",
    "import pandas as pd\n",
    "import pickle as pkl\n",
    "from sklearn.feature_extraction.text import CountVectorizer\n",
    "from sklearn.svm import SVC\n",
    "from sklearn.model_selection import KFold\n",
    "from sklearn.metrics import roc_curve, auc\n",
    "from nltk.corpus import stopwords\n",
    "import matplotlib.pyplot as plt\n",
    "from sklearn.feature_extraction.text import TfidfVectorizer\n",
    "import string\n",
    "from sklearn.ensemble import RandomForestClassifier,ExtraTreesClassifier\n",
    "from nltk.stem.wordnet import WordNetLemmatizer\n",
    "\n",
    "import math\n",
    "import chardet\n",
    "os.chdir('Z:/project')"
   ]
  },
  {
   "cell_type": "code",
   "execution_count": 2,
   "metadata": {},
   "outputs": [
    {
     "data": {
      "text/html": [
       "<div>\n",
       "<style scoped>\n",
       "    .dataframe tbody tr th:only-of-type {\n",
       "        vertical-align: middle;\n",
       "    }\n",
       "\n",
       "    .dataframe tbody tr th {\n",
       "        vertical-align: top;\n",
       "    }\n",
       "\n",
       "    .dataframe thead th {\n",
       "        text-align: right;\n",
       "    }\n",
       "</style>\n",
       "<table border=\"1\" class=\"dataframe\">\n",
       "  <thead>\n",
       "    <tr style=\"text-align: right;\">\n",
       "      <th></th>\n",
       "      <th>Unnamed: 0</th>\n",
       "      <th>pat_visit</th>\n",
       "      <th>m1</th>\n",
       "      <th>n1</th>\n",
       "      <th>txt1</th>\n",
       "      <th>fsize</th>\n",
       "      <th>m1_1</th>\n",
       "      <th>n1_1</th>\n",
       "    </tr>\n",
       "  </thead>\n",
       "  <tbody>\n",
       "    <tr>\n",
       "      <th>0</th>\n",
       "      <td>0</td>\n",
       "      <td>19808302_2359420</td>\n",
       "      <td>0</td>\n",
       "      <td>0</td>\n",
       "      <td>MRN:                     19808302\\r\\n...... ME...</td>\n",
       "      <td>18</td>\n",
       "      <td>0</td>\n",
       "      <td>0</td>\n",
       "    </tr>\n",
       "    <tr>\n",
       "      <th>1</th>\n",
       "      <td>1</td>\n",
       "      <td>19808302_2356111</td>\n",
       "      <td>0</td>\n",
       "      <td>0</td>\n",
       "      <td>MRN:                     19808302\\r\\n...... Me...</td>\n",
       "      <td>18</td>\n",
       "      <td>0</td>\n",
       "      <td>0</td>\n",
       "    </tr>\n",
       "    <tr>\n",
       "      <th>2</th>\n",
       "      <td>2</td>\n",
       "      <td>2574689_2276293</td>\n",
       "      <td>0</td>\n",
       "      <td>0</td>\n",
       "      <td>MRN:                     2574689\\r\\n...... Med...</td>\n",
       "      <td>14</td>\n",
       "      <td>0</td>\n",
       "      <td>0</td>\n",
       "    </tr>\n",
       "    <tr>\n",
       "      <th>3</th>\n",
       "      <td>3</td>\n",
       "      <td>5762778_190693829</td>\n",
       "      <td>0</td>\n",
       "      <td>0</td>\n",
       "      <td>MRN:  05762778           ...... MRN:  05762778...</td>\n",
       "      <td>11</td>\n",
       "      <td>0</td>\n",
       "      <td>0</td>\n",
       "    </tr>\n",
       "    <tr>\n",
       "      <th>4</th>\n",
       "      <td>4</td>\n",
       "      <td>18316273_2121713</td>\n",
       "      <td>0</td>\n",
       "      <td>0</td>\n",
       "      <td>MRN:           18316273\\r\\n\\r\\n...... MRN:    ...</td>\n",
       "      <td>45</td>\n",
       "      <td>0</td>\n",
       "      <td>0</td>\n",
       "    </tr>\n",
       "  </tbody>\n",
       "</table>\n",
       "</div>"
      ],
      "text/plain": [
       "   Unnamed: 0          pat_visit  m1  n1  \\\n",
       "0           0   19808302_2359420   0   0   \n",
       "1           1   19808302_2356111   0   0   \n",
       "2           2    2574689_2276293   0   0   \n",
       "3           3  5762778_190693829   0   0   \n",
       "4           4   18316273_2121713   0   0   \n",
       "\n",
       "                                                txt1  fsize  m1_1  n1_1  \n",
       "0  MRN:                     19808302\\r\\n...... ME...     18     0     0  \n",
       "1  MRN:                     19808302\\r\\n...... Me...     18     0     0  \n",
       "2  MRN:                     2574689\\r\\n...... Med...     14     0     0  \n",
       "3  MRN:  05762778           ...... MRN:  05762778...     11     0     0  \n",
       "4  MRN:           18316273\\r\\n\\r\\n...... MRN:    ...     45     0     0  "
      ]
     },
     "execution_count": 2,
     "metadata": {},
     "output_type": "execute_result"
    }
   ],
   "source": [
    "#%%\n",
    "\n",
    "#data = pd.read_csv(\"./results/pat_visit_score_match_1127.csv\")\n",
    "data = pd.read_csv(\"./results/train_2925_2.csv\")\n",
    "data.head()"
   ]
  },
  {
   "cell_type": "code",
   "execution_count": 3,
   "metadata": {},
   "outputs": [
    {
     "data": {
      "text/plain": [
       "(2925, 8)"
      ]
     },
     "execution_count": 3,
     "metadata": {},
     "output_type": "execute_result"
    }
   ],
   "source": [
    "data.shape\n"
   ]
  },
  {
   "cell_type": "code",
   "execution_count": 4,
   "metadata": {},
   "outputs": [
    {
     "data": {
      "text/html": [
       "<div>\n",
       "<style scoped>\n",
       "    .dataframe tbody tr th:only-of-type {\n",
       "        vertical-align: middle;\n",
       "    }\n",
       "\n",
       "    .dataframe tbody tr th {\n",
       "        vertical-align: top;\n",
       "    }\n",
       "\n",
       "    .dataframe thead th {\n",
       "        text-align: right;\n",
       "    }\n",
       "</style>\n",
       "<table border=\"1\" class=\"dataframe\">\n",
       "  <thead>\n",
       "    <tr style=\"text-align: right;\">\n",
       "      <th></th>\n",
       "      <th>Unnamed: 0</th>\n",
       "      <th>pat_visit</th>\n",
       "      <th>m1</th>\n",
       "      <th>n1</th>\n",
       "      <th>txt1</th>\n",
       "      <th>fsize</th>\n",
       "      <th>m1_1</th>\n",
       "      <th>n1_1</th>\n",
       "    </tr>\n",
       "  </thead>\n",
       "  <tbody>\n",
       "    <tr>\n",
       "      <th>766</th>\n",
       "      <td>766</td>\n",
       "      <td>14221485_2180859</td>\n",
       "      <td>0</td>\n",
       "      <td>1</td>\n",
       "      <td>MRN:                     14221485\\r\\n...... Me...</td>\n",
       "      <td>13</td>\n",
       "      <td>0</td>\n",
       "      <td>0</td>\n",
       "    </tr>\n",
       "    <tr>\n",
       "      <th>1536</th>\n",
       "      <td>1536</td>\n",
       "      <td>12585717_190743768</td>\n",
       "      <td>0</td>\n",
       "      <td>2</td>\n",
       "      <td>MRN: 12585717\\r\\n...... MRN: 12585717\\r\\n........</td>\n",
       "      <td>38</td>\n",
       "      <td>0</td>\n",
       "      <td>1</td>\n",
       "    </tr>\n",
       "    <tr>\n",
       "      <th>1459</th>\n",
       "      <td>1459</td>\n",
       "      <td>17063058_2422970</td>\n",
       "      <td>0</td>\n",
       "      <td>2</td>\n",
       "      <td>MRN:                     17063058\\r\\n...... Me...</td>\n",
       "      <td>23</td>\n",
       "      <td>0</td>\n",
       "      <td>1</td>\n",
       "    </tr>\n",
       "    <tr>\n",
       "      <th>23</th>\n",
       "      <td>23</td>\n",
       "      <td>6311286_1941616</td>\n",
       "      <td>0</td>\n",
       "      <td>0</td>\n",
       "      <td>MRN:                     6311286\\r\\n...... MRN...</td>\n",
       "      <td>23</td>\n",
       "      <td>0</td>\n",
       "      <td>0</td>\n",
       "    </tr>\n",
       "    <tr>\n",
       "      <th>1347</th>\n",
       "      <td>1347</td>\n",
       "      <td>20463231_189138737</td>\n",
       "      <td>0</td>\n",
       "      <td>1</td>\n",
       "      <td>MRN: 20463231\\r\\n...... MRN: 20463231\\r\\n........</td>\n",
       "      <td>43</td>\n",
       "      <td>0</td>\n",
       "      <td>0</td>\n",
       "    </tr>\n",
       "  </tbody>\n",
       "</table>\n",
       "</div>"
      ],
      "text/plain": [
       "      Unnamed: 0           pat_visit  m1  n1  \\\n",
       "766          766    14221485_2180859   0   1   \n",
       "1536        1536  12585717_190743768   0   2   \n",
       "1459        1459    17063058_2422970   0   2   \n",
       "23            23     6311286_1941616   0   0   \n",
       "1347        1347  20463231_189138737   0   1   \n",
       "\n",
       "                                                   txt1  fsize  m1_1  n1_1  \n",
       "766   MRN:                     14221485\\r\\n...... Me...     13     0     0  \n",
       "1536  MRN: 12585717\\r\\n...... MRN: 12585717\\r\\n........     38     0     1  \n",
       "1459  MRN:                     17063058\\r\\n...... Me...     23     0     1  \n",
       "23    MRN:                     6311286\\r\\n...... MRN...     23     0     0  \n",
       "1347  MRN: 20463231\\r\\n...... MRN: 20463231\\r\\n........     43     0     0  "
      ]
     },
     "execution_count": 4,
     "metadata": {},
     "output_type": "execute_result"
    }
   ],
   "source": [
    "#from sklearn.utils import shuffle\n",
    "#data = shuffle(data)\n",
    "#data.head()"
   ]
  },
  {
   "cell_type": "code",
   "execution_count": 4,
   "metadata": {},
   "outputs": [],
   "source": [
    "labelm=data[data.columns[6]].tolist()\n",
    "labeln=data[data.columns[7]].tolist()\n",
    "#labelm2=data[data.columns[11]].tolist()\n",
    "#labeln2=data[data.columns[12]].tolist()"
   ]
  },
  {
   "cell_type": "code",
   "execution_count": null,
   "metadata": {},
   "outputs": [],
   "source": []
  },
  {
   "cell_type": "code",
   "execution_count": 5,
   "metadata": {},
   "outputs": [
    {
     "data": {
      "text/plain": [
       "0.6136752136752137"
      ]
     },
     "execution_count": 5,
     "metadata": {},
     "output_type": "execute_result"
    }
   ],
   "source": [
    "arr_m1 = np.array(labelm)\n",
    "arr_n1 = np.array(labeln)\n",
    "#arr_m2 = np.array(labelm2)\n",
    "#arr_n2 = np.array(labeln2)\n",
    "sum(arr_m1 == arr_n1)/len(arr_m1)  #, sum(arr_m2 == arr_n2)/len(arr_m2)"
   ]
  },
  {
   "cell_type": "code",
   "execution_count": 6,
   "metadata": {},
   "outputs": [],
   "source": [
    "#%%\n",
    "corpusList=data[data.columns[4]].tolist()"
   ]
  },
  {
   "cell_type": "code",
   "execution_count": 10,
   "metadata": {},
   "outputs": [],
   "source": [
    "#corpusList2=data[data.columns[7]].tolist()\n",
    "#corpusList[-1]"
   ]
  },
  {
   "cell_type": "code",
   "execution_count": 11,
   "metadata": {},
   "outputs": [
    {
     "data": {
      "text/plain": [
       "2925"
      ]
     },
     "execution_count": 11,
     "metadata": {},
     "output_type": "execute_result"
    }
   ],
   "source": [
    "len(corpusList)"
   ]
  },
  {
   "cell_type": "code",
   "execution_count": 14,
   "metadata": {},
   "outputs": [],
   "source": [
    "#len(corpusList2)"
   ]
  },
  {
   "cell_type": "code",
   "execution_count": 12,
   "metadata": {},
   "outputs": [],
   "source": [
    "#%%\n",
    "def tokenize(text):\n",
    "    tokens = [word for sent in nltk.sent_tokenize(text) for word in nltk.word_tokenize(sent)]\n",
    "    filtered_tokens = [ token for token in tokens if re.search('(^[a-zA-Z]+$)', token) ]\n",
    "    a=[]\n",
    "    for i in filtered_tokens:\n",
    "        a.append(WordNetLemmatizer().lemmatize(i,'v'))\n",
    "    return a\n",
    "    #return filtered_tokens\n",
    "\n",
    "\n",
    "cachedStopWords = stopwords.words(\"english\")"
   ]
  },
  {
   "cell_type": "code",
   "execution_count": 13,
   "metadata": {},
   "outputs": [
    {
     "name": "stdout",
     "output_type": "stream",
     "text": [
      "\n",
      "(2925, 2499106)\n"
     ]
    }
   ],
   "source": [
    "#%%\n",
    "cv = TfidfVectorizer(lowercase=True,\n",
    "                     ngram_range=(1, 4), preprocessor=None, stop_words='english',\n",
    "                     strip_accents=None, tokenizer=tokenize, vocabulary=None)\n",
    "X1 = cv.fit_transform(corpusList)\n",
    "lexicon = cv.get_feature_names()\n",
    "#print (lexicon)\n",
    "print()\n",
    "\n",
    "#%%\n",
    "x=X1  ## for select fetures \n",
    "print(x.shape)\n",
    "\n",
    "pkl.dump( x, open( \"./results/tfidf_2925_2.pickle\", \"wb\" ) )\n",
    "pkl.dump( lexicon, open( \"./results/lexicon_2925_2.pickle\", \"wb\" ) )\n",
    "#x1 = pkl.load( open( \"./results/tfidf_4801395.pickle\", \"rb\" ) )\n",
    "#lexicon1 = pkl.load( open( \"./results/lexicon_4801395.pickle\", \"rb\" ) )"
   ]
  },
  {
   "cell_type": "code",
   "execution_count": 43,
   "metadata": {},
   "outputs": [
    {
     "data": {
      "text/plain": [
       "(2925, 2499106)"
      ]
     },
     "execution_count": 43,
     "metadata": {},
     "output_type": "execute_result"
    }
   ],
   "source": [
    "#%%\n",
    "\"\"\"cv2 = TfidfVectorizer(lowercase=True,\n",
    "                     ngram_range=(1, 4), preprocessor=None, stop_words='english',\n",
    "                     strip_accents=None, tokenizer=tokenize, vocabulary=None)\n",
    "X2 = cv2.fit_transform(corpusList2)\n",
    "lexicon2 = cv2.get_feature_names()\n",
    "#print (lexicon)\n",
    "print()\n",
    "\n",
    "#%%\n",
    "x2=X2  ## for select fetures \n",
    "print(x2.shape)\n",
    "\n",
    "pkl.dump( x2, open( \"./results/tfidf_1885_2.pickle\", \"wb\" ) )\n",
    "pkl.dump( lexicon2, open( \"./results/lexicon_1885_2.pickle\", \"wb\" ) )\n",
    "#x1 = pkl.load( open( \"./results/tfidf_4801395.pickle\", \"rb\" ) )\n",
    "#lexicon1 = pkl.load( open( \"./results/lexicon_4801395.pickle\", \"rb\" ) )\"\"\"\n",
    "x.shape"
   ]
  },
  {
   "cell_type": "code",
   "execution_count": 18,
   "metadata": {},
   "outputs": [
    {
     "data": {
      "text/plain": [
       "scipy.sparse.csr.csr_matrix"
      ]
     },
     "execution_count": 18,
     "metadata": {},
     "output_type": "execute_result"
    }
   ],
   "source": [
    "type(x)"
   ]
  },
  {
   "cell_type": "code",
   "execution_count": null,
   "metadata": {},
   "outputs": [],
   "source": [
    "\n"
   ]
  },
  {
   "cell_type": "code",
   "execution_count": 14,
   "metadata": {},
   "outputs": [],
   "source": [
    "Ym = np.array(labelm)\n",
    "Yn = np.array(labeln)\n",
    "#Ym2 = np.array(labelm2)\n",
    "#Yn2 = np.array(labeln2)\n",
    "pkl.dump( Ym, open( \"./results/ym_2925_2.pickle\", \"wb\" ) )\n",
    "pkl.dump( Yn, open( \"./results/yn_2925_2.pickle\", \"wb\" ) )\n",
    "#pkl.dump( Ym2, open( \"./results/ym_1885_2.pickle\", \"wb\" ) )\n",
    "#pkl.dump( Yn2, open( \"./results/yn_1885_2.pickle\", \"wb\" ) )\n",
    "#print(Y)  ## class level"
   ]
  },
  {
   "cell_type": "code",
   "execution_count": null,
   "metadata": {},
   "outputs": [],
   "source": [
    "\"\"\"#%%\n",
    "#test\n",
    "cvt = TfidfVectorizer(lowercase=True,\n",
    "                     ngram_range=(1, 3), preprocessor=None, stop_words='english',\n",
    "                     strip_accents=None, tokenizer=tokenize, vocabulary=None)\n",
    "\n",
    "X1t = cvt.fit_transform(corpusList_test)\n",
    "print(X1t.shape)\n",
    "print()\n",
    "lexicon_test = cvt.get_feature_names()\n",
    "#print (lexicon)\n",
    "print()\n",
    "\n",
    "#%%\n",
    "xt=X1t  ## for select fetures \n",
    "print(xt.shape)\n",
    "\n",
    "Ym = np.array(labels_testm)\n",
    "Yn = np.array(labels_testn)\"\"\""
   ]
  },
  {
   "cell_type": "code",
   "execution_count": null,
   "metadata": {},
   "outputs": [],
   "source": []
  },
  {
   "cell_type": "code",
   "execution_count": 28,
   "metadata": {},
   "outputs": [
    {
     "name": "stdout",
     "output_type": "stream",
     "text": [
      "[0 0 0 0 0 0 0 0 0 0] [0 0 1 1 1 1 1 1 1 1] [1 1 1 1 1]\n",
      "[0 0 0 0 0 0 0 0 0 0] [0 1 1 1 1 1 1 1 1 1] [1 1 1 1 1]\n"
     ]
    }
   ],
   "source": [
    "print(Ym[0:10], Ym[2233:2243], Ym[2920:])  ## class level\n",
    "print(Yn[0:10], Yn[1181:1191], Yn[2920:])  ## class level\n",
    "#print(Ym2[0:10], Ym2[480:490], Ym2[1865:])  ## class level\n",
    "#print(Yn2[0:10], Yn2[480:490], Yn2[1865:])  ## class level"
   ]
  },
  {
   "cell_type": "code",
   "execution_count": 29,
   "metadata": {},
   "outputs": [],
   "source": [
    "#%%\n",
    "from sklearn.feature_selection import SelectKBest\n",
    "from sklearn.feature_selection import chi2\n",
    "\n",
    "#print(x.shape)"
   ]
  },
  {
   "cell_type": "code",
   "execution_count": 30,
   "metadata": {},
   "outputs": [
    {
     "name": "stdout",
     "output_type": "stream",
     "text": [
      "(2925, 800)\n"
     ]
    }
   ],
   "source": [
    "X_new = SelectKBest(chi2, k=800).fit_transform(x, Yn)   # select 800 features\n",
    "\n",
    "#%%\n",
    "X=X_new        # make unque name for next cell \n",
    "print(X.shape)\n",
    "#Y"
   ]
  },
  {
   "cell_type": "code",
   "execution_count": 31,
   "metadata": {},
   "outputs": [],
   "source": [
    "pkl.dump( X, open( \"./results/tfidf_2925_800_2.pickle\", \"wb\" ) )"
   ]
  },
  {
   "cell_type": "code",
   "execution_count": 32,
   "metadata": {},
   "outputs": [],
   "source": [
    "x = pkl.load( open( \"./results/tfidf_2925.pickle\", \"rb\" ) )\n",
    "Yn = pkl.load( open( \"./results/yn_2925.pickle\", \"rb\" ) )\n",
    "\n",
    "X_new2 = SelectKBest(chi2, k=1200).fit_transform(x, Yn)\n",
    "pkl.dump( X_new2, open( \"./results/tfidf_2925_1200_2.pickle\", \"wb\" ) )"
   ]
  },
  {
   "cell_type": "markdown",
   "metadata": {},
   "source": [
    "# Start Here"
   ]
  },
  {
   "cell_type": "code",
   "execution_count": 33,
   "metadata": {},
   "outputs": [],
   "source": [
    "X_new = pkl.load( open( \"./results/tfidf_2925_800_2.pickle\", \"rb\" ) )\n",
    "Ym = pkl.load( open( \"./results/ym_2925_2.pickle\", \"rb\" ) )\n",
    "Yn = pkl.load( open( \"./results/yn_2925_2.pickle\", \"rb\" ) )"
   ]
  },
  {
   "cell_type": "code",
   "execution_count": 34,
   "metadata": {},
   "outputs": [],
   "source": [
    "from sklearn.utils import shuffle\n",
    "X_new,Ym,Yn  = shuffle(X_new,Ym,Yn)\n",
    "#data.head()"
   ]
  },
  {
   "cell_type": "code",
   "execution_count": 61,
   "metadata": {},
   "outputs": [],
   "source": [
    "X = X_new[:1900]\n",
    "X2 = X_new[1900:]\n",
    "Y = Yn[:1900]\n",
    "Y2 = Yn[1900:]\n",
    "Ym1 = Ym[:1900]\n",
    "Ym2 = Ym[1900:]"
   ]
  },
  {
   "cell_type": "code",
   "execution_count": 37,
   "metadata": {},
   "outputs": [
    {
     "data": {
      "text/plain": [
       "(1395, 600)"
      ]
     },
     "execution_count": 37,
     "metadata": {},
     "output_type": "execute_result"
    }
   ],
   "source": [
    "\"\"\"\"X2_new = SelectKBest(chi2, k=600).fit_transform(xt, Ym)   # select 600 features\n",
    "X2_new.shape\n",
    "\n",
    "#%%\n",
    "X2=X2_new        # make unque name for next cell \n",
    "X2_new.shape\"\"\"\""
   ]
  },
  {
   "cell_type": "code",
   "execution_count": 36,
   "metadata": {},
   "outputs": [
    {
     "name": "stdout",
     "output_type": "stream",
     "text": [
      "model  0 : ExtraTreesClassifier = 10\n",
      "   Fold 1 accuracy: 81.58 %\n",
      "   Fold 2 accuracy: 82.11 %\n",
      "   Fold 3 accuracy: 81.05 %\n",
      "   Fold 4 accuracy: 77.37 %\n",
      "   Fold 5 accuracy: 76.32 %\n",
      "   Fold 6 accuracy: 80.53 %\n",
      "   Fold 7 accuracy: 78.95 %\n",
      "   Fold 8 accuracy: 79.47 %\n",
      "   Fold 9 accuracy: 80.53 %\n",
      "   Fold 10 accuracy: 80.00 %\n",
      "     Overall test accuracy: 79.79 %\n",
      "     Overall training accuracy: 98.95 %\n",
      "model  1 : ExtraTreesClassifier = 30\n",
      "   Fold 1 accuracy: 78.42 %\n",
      "   Fold 2 accuracy: 81.05 %\n",
      "   Fold 3 accuracy: 83.68 %\n",
      "   Fold 4 accuracy: 79.47 %\n",
      "   Fold 5 accuracy: 81.58 %\n",
      "   Fold 6 accuracy: 83.16 %\n",
      "   Fold 7 accuracy: 81.05 %\n",
      "   Fold 8 accuracy: 81.58 %\n",
      "   Fold 9 accuracy: 76.32 %\n",
      "   Fold 10 accuracy: 77.37 %\n",
      "     Overall test accuracy: 80.37 %\n",
      "     Overall training accuracy: 99.00 %\n",
      "model  2 : ExtraTreesClassifier = 60\n",
      "   Fold 1 accuracy: 78.95 %\n",
      "   Fold 2 accuracy: 83.16 %\n",
      "   Fold 3 accuracy: 80.53 %\n",
      "   Fold 4 accuracy: 84.21 %\n",
      "   Fold 5 accuracy: 80.00 %\n",
      "   Fold 6 accuracy: 76.84 %\n",
      "   Fold 7 accuracy: 81.58 %\n",
      "   Fold 8 accuracy: 83.68 %\n",
      "   Fold 9 accuracy: 83.16 %\n",
      "   Fold 10 accuracy: 84.21 %\n",
      "     Overall test accuracy: 81.63 %\n",
      "     Overall training accuracy: 99.05 %\n",
      "model  3 : ExtraTreesClassifier = 100\n",
      "   Fold 1 accuracy: 76.32 %\n",
      "   Fold 2 accuracy: 83.68 %\n",
      "   Fold 3 accuracy: 83.68 %\n",
      "   Fold 4 accuracy: 79.47 %\n",
      "   Fold 5 accuracy: 82.11 %\n",
      "   Fold 6 accuracy: 80.53 %\n",
      "   Fold 7 accuracy: 82.11 %\n",
      "   Fold 8 accuracy: 83.68 %\n",
      "   Fold 9 accuracy: 83.16 %\n",
      "   Fold 10 accuracy: 80.00 %\n",
      "     Overall test accuracy: 81.47 %\n",
      "     Overall training accuracy: 99.32 %\n",
      "model  4 : ExtraTreesClassifier = 300\n",
      "   Fold 1 accuracy: 80.53 %\n",
      "   Fold 2 accuracy: 83.16 %\n",
      "   Fold 3 accuracy: 77.37 %\n",
      "   Fold 4 accuracy: 78.95 %\n",
      "   Fold 5 accuracy: 80.53 %\n",
      "   Fold 6 accuracy: 83.16 %\n",
      "   Fold 7 accuracy: 81.58 %\n",
      "   Fold 8 accuracy: 77.89 %\n",
      "   Fold 9 accuracy: 83.16 %\n",
      "   Fold 10 accuracy: 84.21 %\n",
      "     Overall test accuracy: 81.05 %\n",
      "     Overall training accuracy: 99.37 %\n",
      "model  5 : ExtraTreesClassifier = 500\n",
      "   Fold 1 accuracy: 81.05 %\n",
      "   Fold 2 accuracy: 83.68 %\n",
      "   Fold 3 accuracy: 82.63 %\n",
      "   Fold 4 accuracy: 79.47 %\n",
      "   Fold 5 accuracy: 82.11 %\n",
      "   Fold 6 accuracy: 81.05 %\n",
      "   Fold 7 accuracy: 82.63 %\n",
      "   Fold 8 accuracy: 80.53 %\n",
      "   Fold 9 accuracy: 81.05 %\n",
      "   Fold 10 accuracy: 78.42 %\n",
      "     Overall test accuracy: 81.26 %\n",
      "     Overall training accuracy: 99.26 %\n"
     ]
    }
   ],
   "source": [
    "#%%\n",
    "# ExtraTreesClassifier\n",
    "model=0\n",
    "results = []\n",
    "cont = []\n",
    "kf = KFold(n_splits=10, shuffle=True)\n",
    "trees = [10, 30, 60, 100, 300, 500]\n",
    "for t in range(len(trees)):\n",
    "    fold = 1\n",
    "    truth = []\n",
    "    rf_prediction = []\n",
    "    print(\"model \", t, \": ExtraTreesClassifier = \" + str(trees[t]))\n",
    "    test_count = 0\n",
    "    rf = ExtraTreesClassifier(bootstrap=False,\n",
    "           criterion='entropy', max_depth=15, max_features=0.9,\n",
    "           max_leaf_nodes=None, min_impurity_decrease=1e-045,\n",
    "           min_samples_leaf=1, min_samples_split=3,\n",
    "           min_weight_fraction_leaf=0.0, n_estimators=trees[t], n_jobs=-1,\n",
    "           oob_score=False, random_state=None, verbose=0, warm_start=False)\n",
    "    for train_idx, test_idx in kf.split(X):\n",
    "        trainX = X[train_idx]\n",
    "        trainY = Y[train_idx]\n",
    "        testX = X[test_idx]\n",
    "        testY = Y[test_idx]\n",
    "        truth.append(testY)\n",
    "        rf.fit(trainX, trainY)\n",
    "        Y_hat = rf.predict(testX)\n",
    "        rf_prediction.append(Y_hat)\n",
    "        print(\"   Fold %d accuracy: %.2f %%\" % (fold, ((np.sum(Y_hat == testY)/len(testY)) * 100.0)))                        \n",
    "        fold += 1\n",
    "    truth = np.concatenate(truth, axis=0)    \n",
    "    rf_prediction = np.concatenate(rf_prediction, axis=0)\n",
    "    test_results = np.sum(rf_prediction == truth)/len(truth)\n",
    "    print(\"     Overall test accuracy: %.2f %%\" % (test_results * 100))  \n",
    "    rf = rf.fit(X, Y)\n",
    "    Y_hat = rf.predict(X)\n",
    "    train_results = np.sum(Y_hat == Y)/len(Y)\n",
    "    print(\"     Overall training accuracy: %.2f %%\" % (train_results * 100.0))  \n",
    "    results.append([train_results, test_results])   \n",
    "    cont.append([truth, rf_prediction])"
   ]
  },
  {
   "cell_type": "code",
   "execution_count": 37,
   "metadata": {},
   "outputs": [],
   "source": [
    "rf = ExtraTreesClassifier(bootstrap=False,\n",
    "       criterion='entropy', max_depth=15, max_features=0.9,\n",
    "       max_leaf_nodes=None, min_impurity_decrease=1e-045,\n",
    "       min_samples_leaf=1, min_samples_split=3,\n",
    "       min_weight_fraction_leaf=0.0, n_estimators=60, n_jobs=-1,      #trees[t] = 100\n",
    "       oob_score=False, random_state=None, verbose=0, warm_start=False)"
   ]
  },
  {
   "cell_type": "code",
   "execution_count": 38,
   "metadata": {},
   "outputs": [
    {
     "name": "stdout",
     "output_type": "stream",
     "text": [
      "490\n",
      "vm  0.6224390243902439\n",
      "vn  0.7873170731707317\n",
      "nlp\n",
      "precision:  0.7224489795918367\n",
      "recall:  0.8119266055045872\n",
      "F1:  0.7645788336933045\n",
      "nlp0\n",
      "precision:  0.8467289719626169\n",
      "recall:  0.769100169779287\n",
      "F1:  0.7645788336933045\n",
      "ave\n",
      "precision:  0.7845889757772269\n",
      "recall:  0.790513387641937\n",
      "F1:  0.7645788336933045\n"
     ]
    }
   ],
   "source": [
    "train_num = 1\n",
    "for i in range(train_num):\n",
    "    rf.fit(X, Y)\n",
    "    Y2_hat = rf.predict(X2)\n",
    "    vm = np.sum(Y2_hat == Ym2)/len(Ym2)\n",
    "    vn = np.sum(Y2_hat == Y2)/len(Y2)\n",
    "    print(np.sum(Y2_hat))\n",
    "    print(\"vm \", vm)\n",
    "    print(\"vn \",vn)\n",
    "    \n",
    "precision = np.sum(Y2_hat + Y2 == 2)/np.sum(Y2_hat)\n",
    "recall = np.sum(Y2_hat + Y2 == 2)/np.sum(Y2)\n",
    "f1 = 2*precision*recall/(precision+recall)\n",
    "print(\"nlp\")\n",
    "print(\"precision: \", precision)\n",
    "print(\"recall: \", recall)\n",
    "print(\"F1: \", f1)\n",
    "\n",
    "precision0 = np.sum(Y2_hat + Y2 == 0)/(len(Y2_hat)-np.sum(Y2_hat))\n",
    "recall0 = np.sum(Y2_hat + Y2 == 0)/(len(Y2)-np.sum(Y2))\n",
    "f10 = 2*precision*recall/(precision+recall)\n",
    "print(\"nlp0\")\n",
    "print(\"precision: \", precision0)\n",
    "print(\"recall: \", recall0)\n",
    "print(\"F1: \", f10)\n",
    "\n",
    "print(\"ave\")\n",
    "print(\"precision: \", (precision+precision0)/2)\n",
    "print(\"recall: \", (recall+recall0)/2)\n",
    "print(\"F1: \", (f1+f10)/2)"
   ]
  },
  {
   "cell_type": "code",
   "execution_count": null,
   "metadata": {},
   "outputs": [],
   "source": []
  },
  {
   "cell_type": "code",
   "execution_count": 50,
   "metadata": {},
   "outputs": [
    {
     "name": "stdout",
     "output_type": "stream",
     "text": [
      "(885, 800)\n",
      "885\n"
     ]
    }
   ],
   "source": [
    "print(X2.shape)\n",
    "print(len(Y2_hat))"
   ]
  },
  {
   "cell_type": "code",
   "execution_count": 39,
   "metadata": {},
   "outputs": [
    {
     "name": "stdout",
     "output_type": "stream",
     "text": [
      "Enter Best Model: 2\n",
      "\n",
      "ExtraTrees\n",
      "          no  social  Total\n",
      "no       896     149   1045\n",
      "social   200     655    855\n",
      "Total   1096     804   1900\n",
      "\n"
     ]
    }
   ],
   "source": [
    "#%%\n",
    "model = input(\"Enter Best Model: \")\n",
    "best = cont[int(model)]\n",
    "rf_ct = pd.crosstab(best[1], best[0], margins=True)\n",
    "rf_ct.columns = [\"no\", \"social\", \"Total\"]\n",
    "rf_ct.index = [\"no\", \"social\", \"Total\"]\n",
    "print()\n",
    "print(\"ExtraTrees\")\n",
    "print(rf_ct)\n",
    "print()"
   ]
  },
  {
   "cell_type": "code",
   "execution_count": 40,
   "metadata": {},
   "outputs": [
    {
     "name": "stdout",
     "output_type": "stream",
     "text": [
      "[[896 200]\n",
      " [149 655]]\n",
      "0.7896323086196504\n"
     ]
    }
   ],
   "source": [
    "#%%\n",
    "from sklearn.metrics import confusion_matrix\n",
    "from sklearn.metrics import recall_score,f1_score,precision_score,accuracy_score,classification_report\n",
    "y_true =cont[int(model)][0]\n",
    "y_pred = cont[int(model)][1]\n",
    "print(confusion_matrix(y_true, y_pred))\n",
    "print(f1_score(y_true, y_pred) )"
   ]
  },
  {
   "cell_type": "code",
   "execution_count": 41,
   "metadata": {},
   "outputs": [
    {
     "name": "stdout",
     "output_type": "stream",
     "text": [
      "0.8146766169154229\n",
      "0.7660818713450293\n",
      "0.8163157894736842\n",
      "             precision    recall  f1-score   support\n",
      "\n",
      "          0       0.86      0.82      0.84      1096\n",
      "          1       0.77      0.81      0.79       804\n",
      "\n",
      "avg / total       0.82      0.82      0.82      1900\n",
      "\n"
     ]
    }
   ],
   "source": [
    "print(recall_score(y_true, y_pred),   )\n",
    "print(precision_score(y_true, y_pred))\n",
    "print(accuracy_score(y_true, y_pred))\n",
    "\n",
    "print(classification_report(y_true, y_pred))"
   ]
  },
  {
   "cell_type": "code",
   "execution_count": 42,
   "metadata": {},
   "outputs": [
    {
     "name": "stdout",
     "output_type": "stream",
     "text": [
      "ExtraTrees: Sensitivity: 0.81468 Specificity: 0.81752 PPV: 0.76608 NPV: 0.85742 Accuracy: 0.81632\n"
     ]
    }
   ],
   "source": [
    "#%%\n",
    "\n",
    "Sens = rf_ct.iloc[1][1]/rf_ct.iloc[2][1]\n",
    "Spec = rf_ct.iloc[0][0]/rf_ct.iloc[2][0]\n",
    "PPV = rf_ct.iloc[1][1]/rf_ct.iloc[1][2]\n",
    "NPV = rf_ct.iloc[0][0]/rf_ct.iloc[0][2]\n",
    "ACC = (rf_ct.iloc[0][0] + rf_ct.iloc[1][1]) / rf_ct.iloc[2][2]\n",
    "print(\"ExtraTrees: Sensitivity: %.5f Specificity: %.5f PPV: %.5f NPV: %.5f Accuracy: %.5f\" % (Sens, Spec, PPV, NPV, ACC))"
   ]
  },
  {
   "cell_type": "code",
   "execution_count": 43,
   "metadata": {},
   "outputs": [
    {
     "data": {
      "image/png": "[encoded data removed]",
      "text/plain": [
       "<Figure size 432x288 with 1 Axes>"
      ]
     },
     "metadata": {},
     "output_type": "display_data"
    },
    {
     "name": "stdout",
     "output_type": "stream",
     "text": [
      "AUC =  0.8160974325453028\n"
     ]
    }
   ],
   "source": [
    "#%%\n",
    "rf_fpr, rf_tpr, rf_thresholds = roc_curve(best[0], best[1], pos_label=1)\n",
    "roc_auc = auc(rf_fpr, rf_tpr)\n",
    "plt.figure(1)\n",
    "plt.plot([0, 1], [0, 1], 'k--')\n",
    "plt.plot(rf_fpr, rf_tpr, label='ExtraTrees')\n",
    "plt.xlabel('False positive rate (1 - Specificity)')\n",
    "plt.ylabel('True Positive Rate (Sensitivity)')\n",
    "plt.title('ROC curve')\n",
    "plt.legend(loc='best')\n",
    "plt.show()\n",
    "print(\"AUC = \", roc_auc)"
   ]
  },
  {
   "cell_type": "code",
   "execution_count": 44,
   "metadata": {},
   "outputs": [
    {
     "name": "stdout",
     "output_type": "stream",
     "text": [
      "model 0: SVM RBF Gamma=1.000 C=1.00\n",
      "   Fold 1 accuracy: 67.89 %\n",
      "   Fold 2 accuracy: 75.79 %\n",
      "   Fold 3 accuracy: 68.42 %\n",
      "   Fold 4 accuracy: 64.21 %\n",
      "   Fold 5 accuracy: 72.11 %\n",
      "   Fold 6 accuracy: 65.79 %\n",
      "   Fold 7 accuracy: 68.95 %\n",
      "   Fold 8 accuracy: 72.63 %\n",
      "   Fold 9 accuracy: 67.89 %\n",
      "   Fold 10 accuracy: 73.68 %\n",
      "     Overall test accuracy: 69.74 %\n",
      "     Overall training accuracy: 71.32 %\n",
      "model 1: SVM RBF Gamma=1.000 C=2.00\n",
      "   Fold 1 accuracy: 76.32 %\n",
      "   Fold 2 accuracy: 69.47 %\n",
      "   Fold 3 accuracy: 75.26 %\n",
      "   Fold 4 accuracy: 71.58 %\n",
      "   Fold 5 accuracy: 73.16 %\n",
      "   Fold 6 accuracy: 74.21 %\n",
      "   Fold 7 accuracy: 73.16 %\n",
      "   Fold 8 accuracy: 75.26 %\n",
      "   Fold 9 accuracy: 69.47 %\n",
      "   Fold 10 accuracy: 73.68 %\n",
      "     Overall test accuracy: 73.16 %\n",
      "     Overall training accuracy: 75.58 %\n",
      "model 2: SVM RBF Gamma=1.000 C=4.00\n",
      "   Fold 1 accuracy: 76.84 %\n",
      "   Fold 2 accuracy: 72.11 %\n",
      "   Fold 3 accuracy: 80.00 %\n",
      "   Fold 4 accuracy: 77.89 %\n",
      "   Fold 5 accuracy: 72.63 %\n",
      "   Fold 6 accuracy: 76.32 %\n",
      "   Fold 7 accuracy: 74.21 %\n",
      "   Fold 8 accuracy: 76.84 %\n",
      "   Fold 9 accuracy: 76.32 %\n",
      "   Fold 10 accuracy: 76.32 %\n",
      "     Overall test accuracy: 75.95 %\n",
      "     Overall training accuracy: 79.00 %\n",
      "model 3: SVM RBF Gamma=1.000 C=6.00\n",
      "   Fold 1 accuracy: 79.47 %\n",
      "   Fold 2 accuracy: 73.16 %\n",
      "   Fold 3 accuracy: 80.00 %\n",
      "   Fold 4 accuracy: 73.16 %\n",
      "   Fold 5 accuracy: 73.16 %\n",
      "   Fold 6 accuracy: 74.74 %\n",
      "   Fold 7 accuracy: 76.32 %\n",
      "   Fold 8 accuracy: 83.68 %\n",
      "   Fold 9 accuracy: 78.42 %\n",
      "   Fold 10 accuracy: 77.37 %\n",
      "     Overall test accuracy: 76.95 %\n",
      "     Overall training accuracy: 80.58 %\n",
      "model 4: SVM RBF Gamma=1.000 C=8.00\n",
      "   Fold 1 accuracy: 75.26 %\n",
      "   Fold 2 accuracy: 77.89 %\n",
      "   Fold 3 accuracy: 72.11 %\n",
      "   Fold 4 accuracy: 84.74 %\n",
      "   Fold 5 accuracy: 79.47 %\n",
      "   Fold 6 accuracy: 78.42 %\n",
      "   Fold 7 accuracy: 76.32 %\n",
      "   Fold 8 accuracy: 77.89 %\n",
      "   Fold 9 accuracy: 77.89 %\n",
      "   Fold 10 accuracy: 77.89 %\n",
      "     Overall test accuracy: 77.79 %\n",
      "     Overall training accuracy: 81.32 %\n",
      "model 5: SVM RBF Gamma=1.000 C=10.00\n",
      "   Fold 1 accuracy: 81.05 %\n",
      "   Fold 2 accuracy: 77.89 %\n",
      "   Fold 3 accuracy: 80.53 %\n",
      "   Fold 4 accuracy: 74.74 %\n",
      "   Fold 5 accuracy: 82.11 %\n",
      "   Fold 6 accuracy: 80.53 %\n",
      "   Fold 7 accuracy: 77.89 %\n",
      "   Fold 8 accuracy: 75.26 %\n",
      "   Fold 9 accuracy: 77.89 %\n",
      "   Fold 10 accuracy: 75.26 %\n",
      "     Overall test accuracy: 78.32 %\n",
      "     Overall training accuracy: 81.95 %\n",
      "model 6: SVM RBF Gamma=2.000 C=1.00\n",
      "   Fold 1 accuracy: 67.37 %\n",
      "   Fold 2 accuracy: 76.32 %\n",
      "   Fold 3 accuracy: 79.47 %\n",
      "   Fold 4 accuracy: 72.63 %\n",
      "   Fold 5 accuracy: 66.84 %\n",
      "   Fold 6 accuracy: 74.21 %\n",
      "   Fold 7 accuracy: 77.37 %\n",
      "   Fold 8 accuracy: 76.84 %\n",
      "   Fold 9 accuracy: 70.53 %\n",
      "   Fold 10 accuracy: 74.74 %\n",
      "     Overall test accuracy: 73.63 %\n",
      "     Overall training accuracy: 75.84 %\n",
      "model 7: SVM RBF Gamma=2.000 C=2.00\n",
      "   Fold 1 accuracy: 70.53 %\n",
      "   Fold 2 accuracy: 75.79 %\n",
      "   Fold 3 accuracy: 76.32 %\n",
      "   Fold 4 accuracy: 83.68 %\n",
      "   Fold 5 accuracy: 76.32 %\n",
      "   Fold 6 accuracy: 73.16 %\n",
      "   Fold 7 accuracy: 76.32 %\n",
      "   Fold 8 accuracy: 76.32 %\n",
      "   Fold 9 accuracy: 76.32 %\n",
      "   Fold 10 accuracy: 74.21 %\n",
      "     Overall test accuracy: 75.89 %\n",
      "     Overall training accuracy: 79.00 %\n",
      "model 8: SVM RBF Gamma=2.000 C=4.00\n",
      "   Fold 1 accuracy: 72.63 %\n",
      "   Fold 2 accuracy: 82.11 %\n",
      "   Fold 3 accuracy: 82.63 %\n",
      "   Fold 4 accuracy: 78.42 %\n",
      "   Fold 5 accuracy: 73.68 %\n",
      "   Fold 6 accuracy: 80.53 %\n",
      "   Fold 7 accuracy: 84.21 %\n",
      "   Fold 8 accuracy: 76.84 %\n",
      "   Fold 9 accuracy: 73.16 %\n",
      "   Fold 10 accuracy: 74.74 %\n",
      "     Overall test accuracy: 77.89 %\n",
      "     Overall training accuracy: 81.26 %\n",
      "model 9: SVM RBF Gamma=2.000 C=6.00\n",
      "   Fold 1 accuracy: 79.47 %\n",
      "   Fold 2 accuracy: 77.37 %\n",
      "   Fold 3 accuracy: 78.95 %\n",
      "   Fold 4 accuracy: 77.37 %\n",
      "   Fold 5 accuracy: 80.53 %\n",
      "   Fold 6 accuracy: 81.05 %\n",
      "   Fold 7 accuracy: 77.89 %\n",
      "   Fold 8 accuracy: 72.11 %\n",
      "   Fold 9 accuracy: 75.26 %\n",
      "   Fold 10 accuracy: 80.53 %\n",
      "     Overall test accuracy: 78.05 %\n",
      "     Overall training accuracy: 82.26 %\n",
      "model 10: SVM RBF Gamma=2.000 C=8.00\n",
      "   Fold 1 accuracy: 74.21 %\n",
      "   Fold 2 accuracy: 76.32 %\n",
      "   Fold 3 accuracy: 76.84 %\n",
      "   Fold 4 accuracy: 74.74 %\n",
      "   Fold 5 accuracy: 85.79 %\n",
      "   Fold 6 accuracy: 81.05 %\n",
      "   Fold 7 accuracy: 83.16 %\n",
      "   Fold 8 accuracy: 77.89 %\n",
      "   Fold 9 accuracy: 81.05 %\n",
      "   Fold 10 accuracy: 82.63 %\n",
      "     Overall test accuracy: 79.37 %\n",
      "     Overall training accuracy: 83.47 %\n",
      "model 11: SVM RBF Gamma=2.000 C=10.00\n",
      "   Fold 1 accuracy: 78.42 %\n",
      "   Fold 2 accuracy: 79.47 %\n",
      "   Fold 3 accuracy: 80.00 %\n",
      "   Fold 4 accuracy: 81.05 %\n",
      "   Fold 5 accuracy: 75.26 %\n",
      "   Fold 6 accuracy: 83.68 %\n",
      "   Fold 7 accuracy: 80.00 %\n",
      "   Fold 8 accuracy: 82.11 %\n",
      "   Fold 9 accuracy: 77.37 %\n",
      "   Fold 10 accuracy: 77.89 %\n",
      "     Overall test accuracy: 79.53 %\n",
      "     Overall training accuracy: 84.05 %\n"
     ]
    }
   ],
   "source": [
    "#%%\n",
    "# SVM\n",
    "model = 0\n",
    "cont = []\n",
    "results = pd.DataFrame(columns=('name', 'accuracy'))\n",
    "kf = KFold(n_splits=10, shuffle=True)\n",
    "C = [1,2,4,6,8,10]\n",
    "gamma = [1,2]  \n",
    "for g in range(len(gamma)):\n",
    "    acc = []\n",
    "    name = \"SVM RBF Gamma=%.3f\" % (gamma[g])     \n",
    "    for c in range(len(C)):\n",
    "        fold = 1\n",
    "        truth = []\n",
    "        svm_prediction = []\n",
    "        print(\"model %d: SVM RBF Gamma=%.3f C=%.2f\" % (model, gamma[g], C[c]))        \n",
    "        test_count = 0\n",
    "        svm = SVC(C=C[c], kernel='rbf', gamma=gamma[g])\n",
    "        for train_idx, test_idx in kf.split(X):\n",
    "            trainX = X[train_idx]\n",
    "            trainY = Y[train_idx]\n",
    "            testX = X[test_idx]\n",
    "            testY = Y[test_idx]\n",
    "            truth.append(testY)\n",
    "            svm.fit(trainX, trainY)\n",
    "            Y_hat = svm.predict(testX)\n",
    "            svm_prediction.append(Y_hat)\n",
    "            print(\"   Fold %d accuracy: %.2f %%\" % (fold, ((np.sum(Y_hat == testY)/len(testY)) * 100.0)))                        \n",
    "            fold += 1\n",
    "        truth = np.concatenate(truth, axis=0)    \n",
    "        svm_prediction = np.concatenate(svm_prediction, axis=0)\n",
    "        test_results = np.sum(svm_prediction == truth)/len(truth)\n",
    "        print(\"     Overall test accuracy: %.2f %%\" % (test_results * 100))  \n",
    "        svm = svm.fit(X, Y)\n",
    "        Y_hat = svm.predict(X)\n",
    "        train_results = np.sum(Y_hat == Y)/len(Y)\n",
    "        print(\"     Overall training accuracy: %.2f %%\" % (train_results * 100.0))  \n",
    "        acc.append([train_results, test_results])   \n",
    "        cont.append([truth, svm_prediction])\n",
    "        model += 1\n",
    "    results = results.append({'name': name, 'accuracy' : acc}, ignore_index=True)"
   ]
  },
  {
   "cell_type": "code",
   "execution_count": 45,
   "metadata": {},
   "outputs": [
    {
     "name": "stdout",
     "output_type": "stream",
     "text": [
      "365\n",
      "vm  0.6702439024390244\n",
      "vn  0.7804878048780488\n",
      "nlp\n",
      "precision:  0.7890410958904109\n",
      "recall:  0.6605504587155964\n",
      "F1:  0.7191011235955057\n",
      "nlp0\n",
      "precision:  0.7757575757575758\n",
      "recall:  0.8692699490662139\n",
      "F1:  0.7191011235955057\n",
      "ave\n",
      "precision:  0.7823993358239933\n",
      "recall:  0.7649102038909051\n",
      "F1:  0.7191011235955057\n"
     ]
    }
   ],
   "source": [
    "svm = SVC(C=10, kernel='rbf', gamma=2) #79.2%\n",
    "#svm = SVC(C=2, kernel='rbf', gamma=128) #79.6\n",
    "#svm = SVC(C=2, kernel='rbf', gamma=128) \n",
    "train_num = 1\n",
    "for i in range(train_num):\n",
    "    svm.fit(X, Y)\n",
    "    Y2_hat = svm.predict(X2)\n",
    "    vm = np.sum(Y2_hat == Ym2)/len(Ym2)\n",
    "    vn = np.sum(Y2_hat == Y2)/len(Y2)\n",
    "    print(np.sum(Y2_hat))\n",
    "    print(\"vm \", vm)\n",
    "    print(\"vn \",vn)\n",
    "    \n",
    "precision = np.sum(Y2_hat + Y2 == 2)/np.sum(Y2_hat)\n",
    "recall = np.sum(Y2_hat + Y2 == 2)/np.sum(Y2)\n",
    "f1 = 2*precision*recall/(precision+recall)\n",
    "print(\"nlp\")\n",
    "print(\"precision: \", precision)\n",
    "print(\"recall: \", recall)\n",
    "print(\"F1: \", f1)\n",
    "\n",
    "precision0 = np.sum(Y2_hat + Y2 == 0)/(len(Y2_hat)-np.sum(Y2_hat))\n",
    "recall0 = np.sum(Y2_hat + Y2 == 0)/(len(Y2)-np.sum(Y2))\n",
    "f10 = 2*precision*recall/(precision+recall)\n",
    "print(\"nlp0\")\n",
    "print(\"precision: \", precision0)\n",
    "print(\"recall: \", recall0)\n",
    "print(\"F1: \", f10)\n",
    "\n",
    "print(\"ave\")\n",
    "print(\"precision: \", (precision+precision0)/2)\n",
    "print(\"recall: \", (recall+recall0)/2)\n",
    "print(\"F1: \", (f1+f10)/2)"
   ]
  },
  {
   "cell_type": "code",
   "execution_count": 46,
   "metadata": {},
   "outputs": [
    {
     "name": "stdout",
     "output_type": "stream",
     "text": [
      "Enter Best Model: 11\n",
      "\n",
      "SVM\n",
      "          no  social  Total\n",
      "no       987     280   1267\n",
      "social   109     524    633\n",
      "Total   1096     804   1900\n",
      "\n"
     ]
    }
   ],
   "source": [
    "#%%\n",
    "\n",
    "model = input(\"Enter Best Model: \")\n",
    "best = cont[int(model)]\n",
    "rf_ct = pd.crosstab(best[1], best[0], margins=True)\n",
    "rf_ct.columns = [\"no\", \"social\", \"Total\"]\n",
    "rf_ct.index = [\"no\", \"social\", \"Total\"]\n",
    "print()\n",
    "print(\"SVM\")\n",
    "print(rf_ct)\n",
    "print()"
   ]
  },
  {
   "cell_type": "code",
   "execution_count": 47,
   "metadata": {},
   "outputs": [
    {
     "name": "stdout",
     "output_type": "stream",
     "text": [
      "Random Forest: Sensitivity: 0.65174 Specificity: 0.90055 PPV: 0.82780 NPV: 0.77901 Accuracy: 0.79526\n"
     ]
    }
   ],
   "source": [
    "#%%\n",
    "\n",
    "Sens = rf_ct.iloc[1][1]/rf_ct.iloc[2][1]\n",
    "Spec = rf_ct.iloc[0][0]/rf_ct.iloc[2][0]\n",
    "PPV = rf_ct.iloc[1][1]/rf_ct.iloc[1][2]\n",
    "NPV = rf_ct.iloc[0][0]/rf_ct.iloc[0][2]\n",
    "ACC = (rf_ct.iloc[0][0] + rf_ct.iloc[1][1]) / rf_ct.iloc[2][2]\n",
    "print(\"Random Forest: Sensitivity: %.5f Specificity: %.5f PPV: %.5f NPV: %.5f Accuracy: %.5f\" % (Sens, Spec, PPV, NPV, ACC))"
   ]
  },
  {
   "cell_type": "code",
   "execution_count": 48,
   "metadata": {},
   "outputs": [
    {
     "name": "stdout",
     "output_type": "stream",
     "text": [
      "[[987 109]\n",
      " [280 524]]\n",
      "0.7292971468336812\n",
      "0.6517412935323383\n",
      "0.8278041074249605\n",
      "0.7952631578947369\n",
      "             precision    recall  f1-score   support\n",
      "\n",
      "          0       0.78      0.90      0.84      1096\n",
      "          1       0.83      0.65      0.73       804\n",
      "\n",
      "avg / total       0.80      0.80      0.79      1900\n",
      "\n"
     ]
    }
   ],
   "source": [
    "#%%\n",
    "from sklearn.metrics import confusion_matrix\n",
    "from sklearn.metrics import recall_score,f1_score,precision_score,accuracy_score,classification_report\n",
    "y_true =cont[int(model)][0]\n",
    "y_pred = cont[int(model)][1]\n",
    "print(confusion_matrix(y_true, y_pred))\n",
    "print(f1_score(y_true, y_pred) )\n",
    "\n",
    "print(recall_score(y_true, y_pred),   )\n",
    "print(precision_score(y_true, y_pred))\n",
    "print(accuracy_score(y_true, y_pred))\n",
    "\n",
    "print(classification_report(y_true, y_pred))"
   ]
  },
  {
   "cell_type": "code",
   "execution_count": 49,
   "metadata": {},
   "outputs": [
    {
     "name": "stdout",
     "output_type": "stream",
     "text": [
      "model  0 : Random Forest trees = 5\n",
      "   Fold 1 accuracy: 71.58 %\n",
      "   Fold 2 accuracy: 79.47 %\n",
      "   Fold 3 accuracy: 73.16 %\n",
      "   Fold 4 accuracy: 74.74 %\n",
      "   Fold 5 accuracy: 71.58 %\n",
      "   Fold 6 accuracy: 76.84 %\n",
      "   Fold 7 accuracy: 75.26 %\n",
      "   Fold 8 accuracy: 80.00 %\n",
      "   Fold 9 accuracy: 73.68 %\n",
      "   Fold 10 accuracy: 77.37 %\n",
      "     Overall test accuracy: 75.37 %\n",
      "     Overall training accuracy: 98.11 %\n",
      "model  1 : Random Forest trees = 10\n",
      "   Fold 1 accuracy: 74.74 %\n",
      "   Fold 2 accuracy: 76.32 %\n",
      "   Fold 3 accuracy: 78.95 %\n",
      "   Fold 4 accuracy: 77.37 %\n",
      "   Fold 5 accuracy: 73.16 %\n",
      "   Fold 6 accuracy: 71.58 %\n",
      "   Fold 7 accuracy: 78.95 %\n",
      "   Fold 8 accuracy: 77.37 %\n",
      "   Fold 9 accuracy: 70.00 %\n",
      "   Fold 10 accuracy: 76.32 %\n",
      "     Overall test accuracy: 75.47 %\n",
      "     Overall training accuracy: 99.26 %\n",
      "model  2 : Random Forest trees = 50\n",
      "   Fold 1 accuracy: 81.58 %\n",
      "   Fold 2 accuracy: 78.42 %\n",
      "   Fold 3 accuracy: 83.68 %\n",
      "   Fold 4 accuracy: 78.95 %\n",
      "   Fold 5 accuracy: 76.84 %\n",
      "   Fold 6 accuracy: 79.47 %\n",
      "   Fold 7 accuracy: 83.16 %\n",
      "   Fold 8 accuracy: 83.16 %\n",
      "   Fold 9 accuracy: 80.53 %\n",
      "   Fold 10 accuracy: 78.95 %\n",
      "     Overall test accuracy: 80.47 %\n",
      "     Overall training accuracy: 100.00 %\n",
      "model  3 : Random Forest trees = 100\n",
      "   Fold 1 accuracy: 83.16 %\n",
      "   Fold 2 accuracy: 77.37 %\n",
      "   Fold 3 accuracy: 81.05 %\n",
      "   Fold 4 accuracy: 82.11 %\n",
      "   Fold 5 accuracy: 78.95 %\n",
      "   Fold 6 accuracy: 81.58 %\n",
      "   Fold 7 accuracy: 77.89 %\n",
      "   Fold 8 accuracy: 78.95 %\n",
      "   Fold 9 accuracy: 87.37 %\n",
      "   Fold 10 accuracy: 81.05 %\n",
      "     Overall test accuracy: 80.95 %\n",
      "     Overall training accuracy: 100.00 %\n",
      "model  4 : Random Forest trees = 200\n",
      "   Fold 1 accuracy: 82.63 %\n",
      "   Fold 2 accuracy: 81.05 %\n",
      "   Fold 3 accuracy: 83.68 %\n",
      "   Fold 4 accuracy: 81.58 %\n",
      "   Fold 5 accuracy: 81.58 %\n",
      "   Fold 6 accuracy: 81.58 %\n",
      "   Fold 7 accuracy: 84.74 %\n",
      "   Fold 8 accuracy: 82.11 %\n",
      "   Fold 9 accuracy: 75.79 %\n",
      "   Fold 10 accuracy: 77.37 %\n",
      "     Overall test accuracy: 81.21 %\n",
      "     Overall training accuracy: 100.00 %\n",
      "model  5 : Random Forest trees = 300\n",
      "   Fold 1 accuracy: 81.58 %\n",
      "   Fold 2 accuracy: 83.16 %\n",
      "   Fold 3 accuracy: 78.95 %\n",
      "   Fold 4 accuracy: 75.26 %\n",
      "   Fold 5 accuracy: 78.95 %\n",
      "   Fold 6 accuracy: 82.63 %\n",
      "   Fold 7 accuracy: 82.11 %\n",
      "   Fold 8 accuracy: 81.05 %\n",
      "   Fold 9 accuracy: 82.11 %\n",
      "   Fold 10 accuracy: 79.47 %\n",
      "     Overall test accuracy: 80.53 %\n",
      "     Overall training accuracy: 100.00 %\n",
      "model  6 : Random Forest trees = 400\n",
      "   Fold 1 accuracy: 82.11 %\n",
      "   Fold 2 accuracy: 79.47 %\n",
      "   Fold 3 accuracy: 84.74 %\n",
      "   Fold 4 accuracy: 77.37 %\n",
      "   Fold 5 accuracy: 80.53 %\n",
      "   Fold 6 accuracy: 77.89 %\n",
      "   Fold 7 accuracy: 83.68 %\n",
      "   Fold 8 accuracy: 80.00 %\n",
      "   Fold 9 accuracy: 80.00 %\n",
      "   Fold 10 accuracy: 80.53 %\n",
      "     Overall test accuracy: 80.63 %\n",
      "     Overall training accuracy: 100.00 %\n",
      "model  7 : Random Forest trees = 500\n",
      "   Fold 1 accuracy: 81.05 %\n",
      "   Fold 2 accuracy: 80.00 %\n",
      "   Fold 3 accuracy: 82.11 %\n",
      "   Fold 4 accuracy: 81.58 %\n",
      "   Fold 5 accuracy: 83.68 %\n",
      "   Fold 6 accuracy: 78.95 %\n",
      "   Fold 7 accuracy: 82.63 %\n",
      "   Fold 8 accuracy: 82.11 %\n",
      "   Fold 9 accuracy: 76.32 %\n",
      "   Fold 10 accuracy: 82.63 %\n",
      "     Overall test accuracy: 81.11 %\n",
      "     Overall training accuracy: 100.00 %\n"
     ]
    }
   ],
   "source": [
    "#%%\n",
    "# RandomForest\n",
    "model=0\n",
    "results = []\n",
    "cont = []\n",
    "kf = KFold(n_splits=10, shuffle=True)\n",
    "trees = [5, 10, 50, 100, 200, 300, 400, 500]\n",
    "for t in range(len(trees)):\n",
    "    fold = 1\n",
    "    truth = []\n",
    "    rf_prediction = []\n",
    "    print(\"model \", t, \": Random Forest trees = \" + str(trees[t]))\n",
    "    test_count = 0\n",
    "    rf = RandomForestClassifier(n_estimators=trees[t], criterion='entropy', n_jobs=-1, )\n",
    "    for train_idx, test_idx in kf.split(X):\n",
    "        trainX = X[train_idx]\n",
    "        trainY = Y[train_idx]\n",
    "        testX = X[test_idx]\n",
    "        testY = Y[test_idx]\n",
    "        truth.append(testY)\n",
    "        rf.fit(trainX, trainY)\n",
    "        Y_hat = rf.predict(testX)\n",
    "        rf_prediction.append(Y_hat)\n",
    "        print(\"   Fold %d accuracy: %.2f %%\" % (fold, ((np.sum(Y_hat == testY)/len(testY)) * 100.0)))                        \n",
    "        fold += 1\n",
    "    truth = np.concatenate(truth, axis=0)    \n",
    "    rf_prediction = np.concatenate(rf_prediction, axis=0)\n",
    "    test_results = np.sum(rf_prediction == truth)/len(truth)\n",
    "    print(\"     Overall test accuracy: %.2f %%\" % (test_results * 100))  \n",
    "    rf = rf.fit(X, Y)\n",
    "    Y_hat = rf.predict(X)\n",
    "    train_results = np.sum(Y_hat == Y)/len(Y)\n",
    "    print(\"     Overall training accuracy: %.2f %%\" % (train_results * 100.0))  \n",
    "    results.append([train_results, test_results])   \n",
    "    cont.append([truth, rf_prediction])"
   ]
  },
  {
   "cell_type": "code",
   "execution_count": 50,
   "metadata": {},
   "outputs": [
    {
     "name": "stdout",
     "output_type": "stream",
     "text": [
      "429\n",
      "vm  0.646829268292683\n",
      "vn  0.7824390243902439\n",
      "nlp\n",
      "precision:  0.7482517482517482\n",
      "recall:  0.7362385321100917\n",
      "F1:  0.7421965317919075\n",
      "nlp0\n",
      "precision:  0.8070469798657718\n",
      "recall:  0.8166383701188455\n",
      "F1:  0.7421965317919075\n",
      "ave\n",
      "precision:  0.7776493640587601\n",
      "recall:  0.7764384511144686\n",
      "F1:  0.7421965317919075\n"
     ]
    }
   ],
   "source": [
    "rf = RandomForestClassifier(n_estimators=200, criterion='entropy', n_jobs=-1, )\n",
    "train_num = 1\n",
    "for i in range(train_num):\n",
    "    rf.fit(X, Y)\n",
    "    Y2_hat = rf.predict(X2)\n",
    "    vm = np.sum(Y2_hat == Ym2)/len(Ym2)\n",
    "    vn = np.sum(Y2_hat == Y2)/len(Y2)\n",
    "    print(np.sum(Y2_hat))\n",
    "    print(\"vm \", vm)\n",
    "    print(\"vn \",vn)\n",
    "    \n",
    "precision = np.sum(Y2_hat + Y2 == 2)/np.sum(Y2_hat)\n",
    "recall = np.sum(Y2_hat + Y2 == 2)/np.sum(Y2)\n",
    "f1 = 2*precision*recall/(precision+recall)\n",
    "print(\"nlp\")\n",
    "print(\"precision: \", precision)\n",
    "print(\"recall: \", recall)\n",
    "print(\"F1: \", f1)\n",
    "\n",
    "precision0 = np.sum(Y2_hat + Y2 == 0)/(len(Y2_hat)-np.sum(Y2_hat))\n",
    "recall0 = np.sum(Y2_hat + Y2 == 0)/(len(Y2)-np.sum(Y2))\n",
    "f10 = 2*precision*recall/(precision+recall)\n",
    "print(\"nlp0\")\n",
    "print(\"precision: \", precision0)\n",
    "print(\"recall: \", recall0)\n",
    "print(\"F1: \", f10)\n",
    "\n",
    "print(\"ave\")\n",
    "print(\"precision: \", (precision+precision0)/2)\n",
    "print(\"recall: \", (recall+recall0)/2)\n",
    "print(\"F1: \", (f1+f10)/2)"
   ]
  },
  {
   "cell_type": "code",
   "execution_count": 51,
   "metadata": {},
   "outputs": [
    {
     "name": "stdout",
     "output_type": "stream",
     "text": [
      "Enter Best Model: 4\n",
      "\n",
      "Random Forest\n",
      "          no  social  Total\n",
      "no       941     202   1143\n",
      "social   155     602    757\n",
      "Total   1096     804   1900\n",
      "\n"
     ]
    }
   ],
   "source": [
    "#%%\n",
    "model = input(\"Enter Best Model: \")\n",
    "best = cont[int(model)]\n",
    "rf_ct = pd.crosstab(best[1], best[0], margins=True)\n",
    "rf_ct.columns = [\"no\", \"social\", \"Total\"]\n",
    "rf_ct.index = [\"no\", \"social\", \"Total\"]\n",
    "print()\n",
    "print(\"Random Forest\")\n",
    "print(rf_ct)\n",
    "print()"
   ]
  },
  {
   "cell_type": "code",
   "execution_count": 52,
   "metadata": {},
   "outputs": [
    {
     "name": "stdout",
     "output_type": "stream",
     "text": [
      "Random Forest: Sensitivity: 0.74876 Specificity: 0.85858 PPV: 0.79524 NPV: 0.82327 Accuracy: 0.81211\n"
     ]
    }
   ],
   "source": [
    "#%%\n",
    "\n",
    "Sens = rf_ct.iloc[1][1]/rf_ct.iloc[2][1]\n",
    "Spec = rf_ct.iloc[0][0]/rf_ct.iloc[2][0]\n",
    "PPV = rf_ct.iloc[1][1]/rf_ct.iloc[1][2]\n",
    "NPV = rf_ct.iloc[0][0]/rf_ct.iloc[0][2]\n",
    "ACC = (rf_ct.iloc[0][0] + rf_ct.iloc[1][1]) / rf_ct.iloc[2][2]\n",
    "print(\"Random Forest: Sensitivity: %.5f Specificity: %.5f PPV: %.5f NPV: %.5f Accuracy: %.5f\" % (Sens, Spec, PPV, NPV, ACC))"
   ]
  },
  {
   "cell_type": "code",
   "execution_count": 53,
   "metadata": {},
   "outputs": [
    {
     "name": "stdout",
     "output_type": "stream",
     "text": [
      "[[941 155]\n",
      " [202 602]]\n",
      "0.7713004484304932\n",
      "0.7487562189054726\n",
      "0.7952443857331571\n",
      "0.8121052631578948\n",
      "             precision    recall  f1-score   support\n",
      "\n",
      "          0       0.82      0.86      0.84      1096\n",
      "          1       0.80      0.75      0.77       804\n",
      "\n",
      "avg / total       0.81      0.81      0.81      1900\n",
      "\n"
     ]
    }
   ],
   "source": [
    "#%%\n",
    "from sklearn.metrics import confusion_matrix\n",
    "from sklearn.metrics import recall_score,f1_score,precision_score,accuracy_score,classification_report\n",
    "y_true =cont[int(model)][0]\n",
    "y_pred = cont[int(model)][1]\n",
    "print(confusion_matrix(y_true, y_pred))\n",
    "print(f1_score(y_true, y_pred) )\n",
    "\n",
    "\n",
    "\n",
    "print(recall_score(y_true, y_pred),   )\n",
    "print(precision_score(y_true, y_pred))\n",
    "print(accuracy_score(y_true, y_pred))\n",
    "\n",
    "print(classification_report(y_true, y_pred))"
   ]
  },
  {
   "cell_type": "code",
   "execution_count": 54,
   "metadata": {},
   "outputs": [
    {
     "name": "stdout",
     "output_type": "stream",
     "text": [
      "Training set score: 0.913158\n",
      "Test set score: 0.801951\n",
      "precision:  0.7890818858560794\n",
      "recall:  0.7293577981651376\n",
      "F1:  0.7580452920143027\n",
      "precision:  0.8102893890675241\n",
      "recall:  0.8556876061120543\n",
      "F1:  0.8323699421965317\n"
     ]
    }
   ],
   "source": [
    "#%%\n",
    "#from sklearn.utils import shuffle\n",
    "#X, Y = shuffle(X, Y)\n",
    "#split = int(len(Y) * 4/5)\n",
    "#trainX = X[:split, :]\n",
    "#trainY = Y[:split]\n",
    "#testX = X[split:, :]\n",
    "#testY = Y[split:]\n",
    "trainX = X\n",
    "trainY = Y\n",
    "testX = X2\n",
    "testY = Y2\n",
    "\n",
    "#%%\n",
    "from sklearn.neural_network import MLPClassifier\n",
    "\n",
    "mlp = MLPClassifier(hidden_layer_sizes=(50,), max_iter=1000, alpha=1e-4,\n",
    "                    solver='adam', verbose=False, tol=1e-4, random_state=1)\n",
    "#mlp = MLPClassifier(hidden_layer_sizes=(50,), max_iter=10, alpha=1e-4,\n",
    "#                    solver='sgd', verbose=10, tol=1e-4, random_state=1,\n",
    "#                    learning_rate_init=.1)\n",
    "\n",
    "mlp.fit(trainX, trainY)\n",
    "print(\"Training set score: %f\" % mlp.score(trainX, trainY))\n",
    "print(\"Test set score: %f\" % mlp.score(testX, testY))\n",
    "y_hat = mlp.predict(testX)\n",
    "precision = np.sum(y_hat + testY == 2)/np.sum(y_hat)\n",
    "recall = np.sum(y_hat + testY == 2)/np.sum(testY)\n",
    "f1 = 2*precision*recall/(precision+recall)\n",
    "print(\"precision: \", precision)\n",
    "print(\"recall: \", recall)\n",
    "print(\"F1: \", f1)\n",
    "\n",
    "precision = np.sum(y_hat + testY == 0)/(len(y_hat)-np.sum(y_hat))\n",
    "recall = np.sum(y_hat + testY == 0)/(len(testY)-np.sum(testY))\n",
    "f1 = 2*precision*recall/(precision+recall)\n",
    "print(\"precision: \", precision)\n",
    "print(\"recall: \", recall)\n",
    "print(\"F1: \", f1)"
   ]
  },
  {
   "cell_type": "code",
   "execution_count": 55,
   "metadata": {},
   "outputs": [
    {
     "name": "stdout",
     "output_type": "stream",
     "text": [
      "Training set score: 0.914737\n",
      "Test set score: 0.797073\n",
      "precision:  0.7780487804878049\n",
      "recall:  0.731651376146789\n",
      "F1:  0.7541371158392435\n",
      "precision:  0.8097560975609757\n",
      "recall:  0.8455008488964346\n",
      "F1:  0.8272425249169436\n"
     ]
    }
   ],
   "source": [
    "#%%\n",
    "trainX = X\n",
    "trainY = Y\n",
    "testX = X2\n",
    "testY = Y2\n",
    "\n",
    "#%%\n",
    "from sklearn.neural_network import MLPClassifier\n",
    "\n",
    "mlp = MLPClassifier(hidden_layer_sizes=(100,),max_iter=500, alpha=1e-4)\n",
    "#mlp = MLPClassifier(hidden_layer_sizes=(100,),max_iter=1000, alpha=1e-4) 67.5%\n",
    "\n",
    "mlp.fit(trainX, trainY)\n",
    "print(\"Training set score: %f\" % mlp.score(trainX, trainY))\n",
    "print(\"Test set score: %f\" % mlp.score(testX, testY))\n",
    "y_hat = mlp.predict(testX)\n",
    "precision = np.sum(y_hat + testY == 2)/np.sum(y_hat)\n",
    "recall = np.sum(y_hat + testY == 2)/np.sum(testY)\n",
    "f1 = 2*precision*recall/(precision+recall)\n",
    "print(\"precision: \", precision)\n",
    "print(\"recall: \", recall)\n",
    "print(\"F1: \", f1)\n",
    "\n",
    "precision = np.sum(y_hat + testY == 0)/(len(y_hat)-np.sum(y_hat))\n",
    "recall = np.sum(y_hat + testY == 0)/(len(testY)-np.sum(testY))\n",
    "f1 = 2*precision*recall/(precision+recall)\n",
    "print(\"precision: \", precision)\n",
    "print(\"recall: \", recall)\n",
    "print(\"F1: \", f1)"
   ]
  },
  {
   "cell_type": "code",
   "execution_count": 56,
   "metadata": {},
   "outputs": [
    {
     "name": "stdout",
     "output_type": "stream",
     "text": [
      "Training set score: 0.925263\n",
      "Test set score: 0.797073\n",
      "precision:  0.7766990291262136\n",
      "recall:  0.7339449541284404\n",
      "F1:  0.7547169811320755\n",
      "precision:  0.8107667210440457\n",
      "recall:  0.8438030560271647\n",
      "F1:  0.8269550748752079\n"
     ]
    }
   ],
   "source": [
    "#%%\n",
    "trainX = X\n",
    "trainY = Y\n",
    "testX = X2\n",
    "testY = Y2\n",
    "\n",
    "#%%\n",
    "from sklearn.neural_network import MLPClassifier\n",
    "\n",
    "mlp = MLPClassifier(hidden_layer_sizes=(300,),max_iter=500, alpha=1e-4)\n",
    "#mlp = MLPClassifier(hidden_layer_sizes=(100,),max_iter=1000, alpha=1e-4) 67.5%\n",
    "\n",
    "mlp.fit(trainX, trainY)\n",
    "print(\"Training set score: %f\" % mlp.score(trainX, trainY))\n",
    "print(\"Test set score: %f\" % mlp.score(testX, testY))\n",
    "y_hat = mlp.predict(testX)\n",
    "precision = np.sum(y_hat + testY == 2)/np.sum(y_hat)\n",
    "recall = np.sum(y_hat + testY == 2)/np.sum(testY)\n",
    "f1 = 2*precision*recall/(precision+recall)\n",
    "print(\"precision: \", precision)\n",
    "print(\"recall: \", recall)\n",
    "print(\"F1: \", f1)\n",
    "\n",
    "precision = np.sum(y_hat + testY == 0)/(len(y_hat)-np.sum(y_hat))\n",
    "recall = np.sum(y_hat + testY == 0)/(len(testY)-np.sum(testY))\n",
    "f1 = 2*precision*recall/(precision+recall)\n",
    "print(\"precision: \", precision)\n",
    "print(\"recall: \", recall)\n",
    "print(\"F1: \", f1)"
   ]
  },
  {
   "cell_type": "code",
   "execution_count": 60,
   "metadata": {},
   "outputs": [],
   "source": [
    "# naive_bayes GaussianNB\n"
   ]
  },
  {
   "cell_type": "code",
   "execution_count": null,
   "metadata": {},
   "outputs": [],
   "source": [
    "X = X_new[:1900]\n",
    "X2 = X_new[1900:]\n",
    "Y = Yn[:1900]\n",
    "Y2 = Yn[1900:]\n",
    "Ym1 = Ym[:1900]\n",
    "Ym2 = Ym[1900:]"
   ]
  },
  {
   "cell_type": "code",
   "execution_count": 70,
   "metadata": {},
   "outputs": [
    {
     "data": {
      "text/plain": [
       "scipy.sparse.csr.csr_matrix"
      ]
     },
     "execution_count": 70,
     "metadata": {},
     "output_type": "execute_result"
    }
   ],
   "source": [
    "type(X)"
   ]
  },
  {
   "cell_type": "code",
   "execution_count": 71,
   "metadata": {},
   "outputs": [
    {
     "name": "stdout",
     "output_type": "stream",
     "text": [
      "Training set score: 0.823684\n",
      "Test set score: 0.761951\n",
      "precision:  0.8221476510067114\n",
      "recall:  0.5619266055045872\n",
      "F1:  0.6675749318801091\n",
      "precision:  0.7372764786795049\n",
      "recall:  0.9100169779286927\n",
      "F1:  0.8145896656534954\n"
     ]
    }
   ],
   "source": [
    "\n",
    "trainX = X.todense()\n",
    "testX = X2.todense()\n",
    "trainY = Y\n",
    "testY = Y2\n",
    "\n",
    "from sklearn.naive_bayes import GaussianNB\n",
    "gnb = GaussianNB()\n",
    "gnb.fit(trainX, trainY)\n",
    "\n",
    "print(\"Training set score: %f\" % gnb.score(trainX, trainY))\n",
    "print(\"Test set score: %f\" % gnb.score(testX, testY))\n",
    "y_hat = gnb.predict(testX)\n",
    "precision = np.sum(y_hat + testY == 2)/np.sum(y_hat)\n",
    "recall = np.sum(y_hat + testY == 2)/np.sum(testY)\n",
    "f1 = 2*precision*recall/(precision+recall)\n",
    "print(\"precision: \", precision)\n",
    "print(\"recall: \", recall)\n",
    "print(\"F1: \", f1)\n",
    "\n",
    "precision = np.sum(y_hat + testY == 0)/(len(y_hat)-np.sum(y_hat))\n",
    "recall = np.sum(y_hat + testY == 0)/(len(testY)-np.sum(testY))\n",
    "f1 = 2*precision*recall/(precision+recall)\n",
    "print(\"precision: \", precision)\n",
    "print(\"recall: \", recall)\n",
    "print(\"F1: \", f1)"
   ]
  },
  {
   "cell_type": "code",
   "execution_count": 65,
   "metadata": {},
   "outputs": [
    {
     "data": {
      "text/plain": [
       "0"
      ]
     },
     "execution_count": 65,
     "metadata": {},
     "output_type": "execute_result"
    }
   ],
   "source": [
    "# ComplementNB"
   ]
  },
  {
   "cell_type": "code",
   "execution_count": 73,
   "metadata": {},
   "outputs": [
    {
     "name": "stdout",
     "output_type": "stream",
     "text": [
      "Training set score: 0.793684\n",
      "Test set score: 0.765854\n",
      "precision:  0.748730964467005\n",
      "recall:  0.676605504587156\n",
      "F1:  0.7108433734939759\n",
      "precision:  0.7765451664025357\n",
      "recall:  0.831918505942275\n",
      "F1:  0.8032786885245902\n"
     ]
    }
   ],
   "source": [
    "trainX = X.todense()\n",
    "testX = X2.todense()\n",
    "trainY = Y\n",
    "testY = Y2\n",
    "\n",
    "from sklearn.naive_bayes import BernoulliNB\n",
    "bnb = BernoulliNB()\n",
    "bnb.fit(trainX, trainY)\n",
    "\n",
    "print(\"Training set score: %f\" % bnb.score(trainX, trainY))\n",
    "print(\"Test set score: %f\" % bnb.score(testX, testY))\n",
    "y_hat = bnb.predict(testX)\n",
    "precision = np.sum(y_hat + testY == 2)/np.sum(y_hat)\n",
    "recall = np.sum(y_hat + testY == 2)/np.sum(testY)\n",
    "f1 = 2*precision*recall/(precision+recall)\n",
    "print(\"precision: \", precision)\n",
    "print(\"recall: \", recall)\n",
    "print(\"F1: \", f1)\n",
    "\n",
    "precision = np.sum(y_hat + testY == 0)/(len(y_hat)-np.sum(y_hat))\n",
    "recall = np.sum(y_hat + testY == 0)/(len(testY)-np.sum(testY))\n",
    "f1 = 2*precision*recall/(precision+recall)\n",
    "print(\"precision: \", precision)\n",
    "print(\"recall: \", recall)\n",
    "print(\"F1: \", f1)"
   ]
  },
  {
   "cell_type": "code",
   "execution_count": 74,
   "metadata": {},
   "outputs": [
    {
     "name": "stdout",
     "output_type": "stream",
     "text": [
      "Training set score: 0.580526\n",
      "Test set score: 0.575610\n",
      "precision:  1.0\n",
      "recall:  0.0022935779816513763\n",
      "F1:  0.004576659038901603\n",
      "precision:  0.5751953125\n",
      "recall:  1.0\n",
      "F1:  0.7303161810291382\n"
     ]
    }
   ],
   "source": [
    "trainX = X.todense()\n",
    "testX = X2.todense()\n",
    "trainY = Y\n",
    "testY = Y2\n",
    "\n",
    "from sklearn.naive_bayes import MultinomialNB\n",
    "mnb = MultinomialNB()\n",
    "mnb.fit(trainX, trainY)\n",
    "\n",
    "print(\"Training set score: %f\" % mnb.score(trainX, trainY))\n",
    "print(\"Test set score: %f\" % mnb.score(testX, testY))\n",
    "y_hat = mnb.predict(testX)\n",
    "precision = np.sum(y_hat + testY == 2)/np.sum(y_hat)\n",
    "recall = np.sum(y_hat + testY == 2)/np.sum(testY)\n",
    "f1 = 2*precision*recall/(precision+recall)\n",
    "print(\"precision: \", precision)\n",
    "print(\"recall: \", recall)\n",
    "print(\"F1: \", f1)\n",
    "\n",
    "precision = np.sum(y_hat + testY == 0)/(len(y_hat)-np.sum(y_hat))\n",
    "recall = np.sum(y_hat + testY == 0)/(len(testY)-np.sum(testY))\n",
    "f1 = 2*precision*recall/(precision+recall)\n",
    "print(\"precision: \", precision)\n",
    "print(\"recall: \", recall)\n",
    "print(\"F1: \", f1)"
   ]
  },
  {
   "cell_type": "code",
   "execution_count": null,
   "metadata": {},
   "outputs": [],
   "source": []
  }
 ],
 "metadata": {
  "kernelspec": {
   "display_name": "Python 3",
   "language": "python",
   "name": "python3"
  },
  "language_info": {
   "codemirror_mode": {
    "name": "ipython",
    "version": 3
   },
   "file_extension": ".py",
   "mimetype": "text/x-python",
   "name": "python",
   "nbconvert_exporter": "python",
   "pygments_lexer": "ipython3",
   "version": "3.6.5"
  }
 },
 "nbformat": 4,
 "nbformat_minor": 2
}
