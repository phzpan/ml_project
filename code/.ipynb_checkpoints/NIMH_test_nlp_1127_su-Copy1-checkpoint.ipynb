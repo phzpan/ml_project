{
 "cells": [
  {
   "cell_type": "markdown",
   "metadata": {},
   "source": [
    "# NIMH Project - Machine Learning - Testing"
   ]
  },
  {
   "cell_type": "code",
   "execution_count": 1,
   "metadata": {},
   "outputs": [],
   "source": [
    "import os\n",
    "\n",
    "import re\n",
    "import nltk\n",
    "import numpy as np\n",
    "import pandas as pd\n",
    "import pickle as pkl\n",
    "from sklearn.feature_extraction.text import CountVectorizer\n",
    "from sklearn.svm import SVC\n",
    "from sklearn.model_selection import KFold\n",
    "from sklearn.metrics import roc_curve, auc\n",
    "from nltk.corpus import stopwords\n",
    "import matplotlib.pyplot as plt\n",
    "from sklearn.feature_extraction.text import TfidfVectorizer\n",
    "import string\n",
    "from sklearn.ensemble import RandomForestClassifier,ExtraTreesClassifier\n",
    "from nltk.stem.wordnet import WordNetLemmatizer\n",
    "\n",
    "import math\n",
    "import chardet\n",
    "os.chdir('Z:/project')"
   ]
  },
  {
   "cell_type": "code",
   "execution_count": 2,
   "metadata": {},
   "outputs": [
    {
     "data": {
      "text/html": [
       "<div>\n",
       "<style scoped>\n",
       "    .dataframe tbody tr th:only-of-type {\n",
       "        vertical-align: middle;\n",
       "    }\n",
       "\n",
       "    .dataframe tbody tr th {\n",
       "        vertical-align: top;\n",
       "    }\n",
       "\n",
       "    .dataframe thead th {\n",
       "        text-align: right;\n",
       "    }\n",
       "</style>\n",
       "<table border=\"1\" class=\"dataframe\">\n",
       "  <thead>\n",
       "    <tr style=\"text-align: right;\">\n",
       "      <th></th>\n",
       "      <th>Unnamed: 0</th>\n",
       "      <th>pat_visit</th>\n",
       "      <th>m1</th>\n",
       "      <th>n1</th>\n",
       "      <th>txt1</th>\n",
       "      <th>fsize</th>\n",
       "      <th>m1_1</th>\n",
       "      <th>n1_1</th>\n",
       "    </tr>\n",
       "  </thead>\n",
       "  <tbody>\n",
       "    <tr>\n",
       "      <th>0</th>\n",
       "      <td>0</td>\n",
       "      <td>2194751_1850486</td>\n",
       "      <td>0</td>\n",
       "      <td>0</td>\n",
       "      <td>MENTAL STATUS EXAM:  Mr. Taylor is slightly di...</td>\n",
       "      <td>17</td>\n",
       "      <td>0</td>\n",
       "      <td>0</td>\n",
       "    </tr>\n",
       "    <tr>\n",
       "      <th>1</th>\n",
       "      <td>1</td>\n",
       "      <td>11315199_2148732</td>\n",
       "      <td>0</td>\n",
       "      <td>0</td>\n",
       "      <td>MRN:                     11315199\\r\\n...... MR...</td>\n",
       "      <td>10</td>\n",
       "      <td>0</td>\n",
       "      <td>0</td>\n",
       "    </tr>\n",
       "    <tr>\n",
       "      <th>2</th>\n",
       "      <td>2</td>\n",
       "      <td>11173259_2375848</td>\n",
       "      <td>0</td>\n",
       "      <td>0</td>\n",
       "      <td>MRN:                     11173259\\r\\n...... Me...</td>\n",
       "      <td>16</td>\n",
       "      <td>0</td>\n",
       "      <td>0</td>\n",
       "    </tr>\n",
       "    <tr>\n",
       "      <th>3</th>\n",
       "      <td>3</td>\n",
       "      <td>11145190_1885052</td>\n",
       "      <td>0</td>\n",
       "      <td>0</td>\n",
       "      <td>MRN:                     11145190\\r\\n...... MR...</td>\n",
       "      <td>14</td>\n",
       "      <td>0</td>\n",
       "      <td>0</td>\n",
       "    </tr>\n",
       "    <tr>\n",
       "      <th>4</th>\n",
       "      <td>4</td>\n",
       "      <td>6198790_1907260</td>\n",
       "      <td>0</td>\n",
       "      <td>0</td>\n",
       "      <td>Mental Status Exam:\\r\\nAppearance: Dressed cas...</td>\n",
       "      <td>20</td>\n",
       "      <td>0</td>\n",
       "      <td>0</td>\n",
       "    </tr>\n",
       "  </tbody>\n",
       "</table>\n",
       "</div>"
      ],
      "text/plain": [
       "   Unnamed: 0         pat_visit  m1  n1  \\\n",
       "0           0   2194751_1850486   0   0   \n",
       "1           1  11315199_2148732   0   0   \n",
       "2           2  11173259_2375848   0   0   \n",
       "3           3  11145190_1885052   0   0   \n",
       "4           4   6198790_1907260   0   0   \n",
       "\n",
       "                                                txt1  fsize  m1_1  n1_1  \n",
       "0  MENTAL STATUS EXAM:  Mr. Taylor is slightly di...     17     0     0  \n",
       "1  MRN:                     11315199\\r\\n...... MR...     10     0     0  \n",
       "2  MRN:                     11173259\\r\\n...... Me...     16     0     0  \n",
       "3  MRN:                     11145190\\r\\n...... MR...     14     0     0  \n",
       "4  Mental Status Exam:\\r\\nAppearance: Dressed cas...     20     0     0  "
      ]
     },
     "execution_count": 2,
     "metadata": {},
     "output_type": "execute_result"
    }
   ],
   "source": [
    "#%%\n",
    "\n",
    "#data = pd.read_csv(\"./results/pat_visit_score_match_1127.csv\")\n",
    "data = pd.read_csv(\"./results/train_2925.csv\")\n",
    "data.head()"
   ]
  },
  {
   "cell_type": "code",
   "execution_count": 3,
   "metadata": {},
   "outputs": [
    {
     "data": {
      "text/plain": [
       "(2925, 8)"
      ]
     },
     "execution_count": 3,
     "metadata": {},
     "output_type": "execute_result"
    }
   ],
   "source": [
    "data.shape\n"
   ]
  },
  {
   "cell_type": "code",
   "execution_count": 4,
   "metadata": {},
   "outputs": [
    {
     "data": {
      "text/html": [
       "<div>\n",
       "<style scoped>\n",
       "    .dataframe tbody tr th:only-of-type {\n",
       "        vertical-align: middle;\n",
       "    }\n",
       "\n",
       "    .dataframe tbody tr th {\n",
       "        vertical-align: top;\n",
       "    }\n",
       "\n",
       "    .dataframe thead th {\n",
       "        text-align: right;\n",
       "    }\n",
       "</style>\n",
       "<table border=\"1\" class=\"dataframe\">\n",
       "  <thead>\n",
       "    <tr style=\"text-align: right;\">\n",
       "      <th></th>\n",
       "      <th>Unnamed: 0</th>\n",
       "      <th>pat_visit</th>\n",
       "      <th>m1</th>\n",
       "      <th>n1</th>\n",
       "      <th>txt1</th>\n",
       "      <th>fsize</th>\n",
       "      <th>m1_1</th>\n",
       "      <th>n1_1</th>\n",
       "    </tr>\n",
       "  </thead>\n",
       "  <tbody>\n",
       "    <tr>\n",
       "      <th>766</th>\n",
       "      <td>766</td>\n",
       "      <td>14221485_2180859</td>\n",
       "      <td>0</td>\n",
       "      <td>1</td>\n",
       "      <td>MRN:                     14221485\\r\\n...... Me...</td>\n",
       "      <td>13</td>\n",
       "      <td>0</td>\n",
       "      <td>0</td>\n",
       "    </tr>\n",
       "    <tr>\n",
       "      <th>1536</th>\n",
       "      <td>1536</td>\n",
       "      <td>12585717_190743768</td>\n",
       "      <td>0</td>\n",
       "      <td>2</td>\n",
       "      <td>MRN: 12585717\\r\\n...... MRN: 12585717\\r\\n........</td>\n",
       "      <td>38</td>\n",
       "      <td>0</td>\n",
       "      <td>1</td>\n",
       "    </tr>\n",
       "    <tr>\n",
       "      <th>1459</th>\n",
       "      <td>1459</td>\n",
       "      <td>17063058_2422970</td>\n",
       "      <td>0</td>\n",
       "      <td>2</td>\n",
       "      <td>MRN:                     17063058\\r\\n...... Me...</td>\n",
       "      <td>23</td>\n",
       "      <td>0</td>\n",
       "      <td>1</td>\n",
       "    </tr>\n",
       "    <tr>\n",
       "      <th>23</th>\n",
       "      <td>23</td>\n",
       "      <td>6311286_1941616</td>\n",
       "      <td>0</td>\n",
       "      <td>0</td>\n",
       "      <td>MRN:                     6311286\\r\\n...... MRN...</td>\n",
       "      <td>23</td>\n",
       "      <td>0</td>\n",
       "      <td>0</td>\n",
       "    </tr>\n",
       "    <tr>\n",
       "      <th>1347</th>\n",
       "      <td>1347</td>\n",
       "      <td>20463231_189138737</td>\n",
       "      <td>0</td>\n",
       "      <td>1</td>\n",
       "      <td>MRN: 20463231\\r\\n...... MRN: 20463231\\r\\n........</td>\n",
       "      <td>43</td>\n",
       "      <td>0</td>\n",
       "      <td>0</td>\n",
       "    </tr>\n",
       "  </tbody>\n",
       "</table>\n",
       "</div>"
      ],
      "text/plain": [
       "      Unnamed: 0           pat_visit  m1  n1  \\\n",
       "766          766    14221485_2180859   0   1   \n",
       "1536        1536  12585717_190743768   0   2   \n",
       "1459        1459    17063058_2422970   0   2   \n",
       "23            23     6311286_1941616   0   0   \n",
       "1347        1347  20463231_189138737   0   1   \n",
       "\n",
       "                                                   txt1  fsize  m1_1  n1_1  \n",
       "766   MRN:                     14221485\\r\\n...... Me...     13     0     0  \n",
       "1536  MRN: 12585717\\r\\n...... MRN: 12585717\\r\\n........     38     0     1  \n",
       "1459  MRN:                     17063058\\r\\n...... Me...     23     0     1  \n",
       "23    MRN:                     6311286\\r\\n...... MRN...     23     0     0  \n",
       "1347  MRN: 20463231\\r\\n...... MRN: 20463231\\r\\n........     43     0     0  "
      ]
     },
     "execution_count": 4,
     "metadata": {},
     "output_type": "execute_result"
    }
   ],
   "source": [
    "from sklearn.utils import shuffle\n",
    "data = shuffle(data)\n",
    "data.head()"
   ]
  },
  {
   "cell_type": "code",
   "execution_count": 5,
   "metadata": {},
   "outputs": [],
   "source": [
    "labelm=data[data.columns[6]].tolist()\n",
    "labeln=data[data.columns[7]].tolist()\n",
    "#labelm2=data[data.columns[11]].tolist()\n",
    "#labeln2=data[data.columns[12]].tolist()"
   ]
  },
  {
   "cell_type": "code",
   "execution_count": null,
   "metadata": {},
   "outputs": [],
   "source": []
  },
  {
   "cell_type": "code",
   "execution_count": 8,
   "metadata": {},
   "outputs": [
    {
     "data": {
      "text/plain": [
       "0.6218803418803419"
      ]
     },
     "execution_count": 8,
     "metadata": {},
     "output_type": "execute_result"
    }
   ],
   "source": [
    "arr_m1 = np.array(labelm)\n",
    "arr_n1 = np.array(labeln)\n",
    "#arr_m2 = np.array(labelm2)\n",
    "#arr_n2 = np.array(labeln2)\n",
    "sum(arr_m1 == arr_n1)/len(arr_m1)  #, sum(arr_m2 == arr_n2)/len(arr_m2)"
   ]
  },
  {
   "cell_type": "code",
   "execution_count": 9,
   "metadata": {},
   "outputs": [],
   "source": [
    "#%%\n",
    "corpusList=data[data.columns[4]].tolist()"
   ]
  },
  {
   "cell_type": "code",
   "execution_count": 33,
   "metadata": {},
   "outputs": [],
   "source": [
    "#corpusList2=data[data.columns[7]].tolist()"
   ]
  },
  {
   "cell_type": "code",
   "execution_count": 10,
   "metadata": {},
   "outputs": [
    {
     "data": {
      "text/plain": [
       "2925"
      ]
     },
     "execution_count": 10,
     "metadata": {},
     "output_type": "execute_result"
    }
   ],
   "source": [
    "len(corpusList)"
   ]
  },
  {
   "cell_type": "code",
   "execution_count": 14,
   "metadata": {},
   "outputs": [],
   "source": [
    "#len(corpusList2)"
   ]
  },
  {
   "cell_type": "code",
   "execution_count": 15,
   "metadata": {},
   "outputs": [],
   "source": [
    "#%%\n",
    "def tokenize(text):\n",
    "    tokens = [word for sent in nltk.sent_tokenize(text) for word in nltk.word_tokenize(sent)]\n",
    "    filtered_tokens = [ token for token in tokens if re.search('(^[a-zA-Z]+$)', token) ]\n",
    "    a=[]\n",
    "    for i in filtered_tokens:\n",
    "        a.append(WordNetLemmatizer().lemmatize(i,'v'))\n",
    "    return a\n",
    "    #return filtered_tokens\n",
    "\n",
    "\n",
    "cachedStopWords = stopwords.words(\"english\")"
   ]
  },
  {
   "cell_type": "code",
   "execution_count": 16,
   "metadata": {},
   "outputs": [
    {
     "name": "stdout",
     "output_type": "stream",
     "text": [
      "\n",
      "(2925, 2499106)\n"
     ]
    }
   ],
   "source": [
    "#%%\n",
    "cv = TfidfVectorizer(lowercase=True,\n",
    "                     ngram_range=(1, 4), preprocessor=None, stop_words='english',\n",
    "                     strip_accents=None, tokenizer=tokenize, vocabulary=None)\n",
    "X1 = cv.fit_transform(corpusList)\n",
    "lexicon = cv.get_feature_names()\n",
    "#print (lexicon)\n",
    "print()\n",
    "\n",
    "#%%\n",
    "x=X1  ## for select fetures \n",
    "print(x.shape)\n",
    "\n",
    "pkl.dump( x, open( \"./results/tfidf_2925.pickle\", \"wb\" ) )\n",
    "pkl.dump( lexicon, open( \"./results/lexicon_2925.pickle\", \"wb\" ) )\n",
    "#x1 = pkl.load( open( \"./results/tfidf_4801395.pickle\", \"rb\" ) )\n",
    "#lexicon1 = pkl.load( open( \"./results/lexicon_4801395.pickle\", \"rb\" ) )"
   ]
  },
  {
   "cell_type": "code",
   "execution_count": 43,
   "metadata": {},
   "outputs": [
    {
     "data": {
      "text/plain": [
       "(2925, 2499106)"
      ]
     },
     "execution_count": 43,
     "metadata": {},
     "output_type": "execute_result"
    }
   ],
   "source": [
    "#%%\n",
    "\"\"\"cv2 = TfidfVectorizer(lowercase=True,\n",
    "                     ngram_range=(1, 4), preprocessor=None, stop_words='english',\n",
    "                     strip_accents=None, tokenizer=tokenize, vocabulary=None)\n",
    "X2 = cv2.fit_transform(corpusList2)\n",
    "lexicon2 = cv2.get_feature_names()\n",
    "#print (lexicon)\n",
    "print()\n",
    "\n",
    "#%%\n",
    "x2=X2  ## for select fetures \n",
    "print(x2.shape)\n",
    "\n",
    "pkl.dump( x2, open( \"./results/tfidf_1885_2.pickle\", \"wb\" ) )\n",
    "pkl.dump( lexicon2, open( \"./results/lexicon_1885_2.pickle\", \"wb\" ) )\n",
    "#x1 = pkl.load( open( \"./results/tfidf_4801395.pickle\", \"rb\" ) )\n",
    "#lexicon1 = pkl.load( open( \"./results/lexicon_4801395.pickle\", \"rb\" ) )\"\"\"\n",
    "x.shape"
   ]
  },
  {
   "cell_type": "code",
   "execution_count": 18,
   "metadata": {},
   "outputs": [
    {
     "data": {
      "text/plain": [
       "scipy.sparse.csr.csr_matrix"
      ]
     },
     "execution_count": 18,
     "metadata": {},
     "output_type": "execute_result"
    }
   ],
   "source": [
    "type(x)"
   ]
  },
  {
   "cell_type": "code",
   "execution_count": null,
   "metadata": {},
   "outputs": [],
   "source": [
    "\n"
   ]
  },
  {
   "cell_type": "code",
   "execution_count": 17,
   "metadata": {},
   "outputs": [],
   "source": [
    "Ym = np.array(labelm)\n",
    "Yn = np.array(labeln)\n",
    "#Ym2 = np.array(labelm2)\n",
    "#Yn2 = np.array(labeln2)\n",
    "pkl.dump( Ym, open( \"./results/ym_2925.pickle\", \"wb\" ) )\n",
    "pkl.dump( Yn, open( \"./results/yn_2925.pickle\", \"wb\" ) )\n",
    "#pkl.dump( Ym2, open( \"./results/ym_1885_2.pickle\", \"wb\" ) )\n",
    "#pkl.dump( Yn2, open( \"./results/yn_1885_2.pickle\", \"wb\" ) )\n",
    "#print(Y)  ## class level"
   ]
  },
  {
   "cell_type": "code",
   "execution_count": null,
   "metadata": {},
   "outputs": [],
   "source": [
    "\"\"\"#%%\n",
    "#test\n",
    "cvt = TfidfVectorizer(lowercase=True,\n",
    "                     ngram_range=(1, 3), preprocessor=None, stop_words='english',\n",
    "                     strip_accents=None, tokenizer=tokenize, vocabulary=None)\n",
    "\n",
    "X1t = cvt.fit_transform(corpusList_test)\n",
    "print(X1t.shape)\n",
    "print()\n",
    "lexicon_test = cvt.get_feature_names()\n",
    "#print (lexicon)\n",
    "print()\n",
    "\n",
    "#%%\n",
    "xt=X1t  ## for select fetures \n",
    "print(xt.shape)\n",
    "\n",
    "Ym = np.array(labels_testm)\n",
    "Yn = np.array(labels_testn)\"\"\""
   ]
  },
  {
   "cell_type": "code",
   "execution_count": null,
   "metadata": {},
   "outputs": [],
   "source": []
  },
  {
   "cell_type": "code",
   "execution_count": 18,
   "metadata": {},
   "outputs": [
    {
     "name": "stdout",
     "output_type": "stream",
     "text": [
      "[0 0 0 0 0 0 0 0 0 0] [0 0 0 0 0 0 0 1 0 0] [1 1 0 ... 0 0 1]\n",
      "[0 1 1 0 0 0 0 1 0 0] [0 0 0 0 0 0 1 1 0 0] [1 1 0 ... 0 1 1]\n"
     ]
    }
   ],
   "source": [
    "print(Ym[0:10], Ym[480:490], Ym[1865:])  ## class level\n",
    "print(Yn[0:10], Yn[480:490], Yn[1865:])  ## class level\n",
    "#print(Ym2[0:10], Ym2[480:490], Ym2[1865:])  ## class level\n",
    "#print(Yn2[0:10], Yn2[480:490], Yn2[1865:])  ## class level"
   ]
  },
  {
   "cell_type": "code",
   "execution_count": 19,
   "metadata": {},
   "outputs": [],
   "source": [
    "#%%\n",
    "from sklearn.feature_selection import SelectKBest\n",
    "from sklearn.feature_selection import chi2\n",
    "\n",
    "#print(x.shape)"
   ]
  },
  {
   "cell_type": "code",
   "execution_count": 20,
   "metadata": {},
   "outputs": [
    {
     "name": "stdout",
     "output_type": "stream",
     "text": [
      "(2925, 800)\n"
     ]
    }
   ],
   "source": [
    "X_new = SelectKBest(chi2, k=800).fit_transform(x, Yn)   # select 800 features\n",
    "\n",
    "#%%\n",
    "X=X_new        # make unque name for next cell \n",
    "print(X.shape)\n",
    "#Y"
   ]
  },
  {
   "cell_type": "code",
   "execution_count": 21,
   "metadata": {},
   "outputs": [],
   "source": [
    "pkl.dump( X, open( \"./results/tfidf_2925_800.pickle\", \"wb\" ) )"
   ]
  },
  {
   "cell_type": "code",
   "execution_count": 44,
   "metadata": {},
   "outputs": [],
   "source": [
    "x = pkl.load( open( \"./results/tfidf_2925.pickle\", \"rb\" ) )\n",
    "Yn = pkl.load( open( \"./results/yn_2925.pickle\", \"rb\" ) )\n",
    "\n",
    "X_new2 = SelectKBest(chi2, k=1200).fit_transform(x, Yn)\n",
    "pkl.dump( X_new2, open( \"./results/tfidf_2925_1200.pickle\", \"wb\" ) )"
   ]
  },
  {
   "cell_type": "markdown",
   "metadata": {},
   "source": [
    "# Start Here"
   ]
  },
  {
   "cell_type": "code",
   "execution_count": 22,
   "metadata": {},
   "outputs": [],
   "source": [
    "X_new = pkl.load( open( \"./results/tfidf_2925_800.pickle\", \"rb\" ) )\n",
    "Ym = pkl.load( open( \"./results/ym_2925.pickle\", \"rb\" ) )\n",
    "Yn = pkl.load( open( \"./results/yn_2925.pickle\", \"rb\" ) )"
   ]
  },
  {
   "cell_type": "code",
   "execution_count": 23,
   "metadata": {},
   "outputs": [],
   "source": [
    "X = X_new[:1900]\n",
    "X2 = X_new[1900:]\n",
    "Y = Yn[:1900]\n",
    "Y2 = Yn[1900:]\n",
    "Ym1 = Ym[:1900]\n",
    "Ym2 = Ym[1900:]"
   ]
  },
  {
   "cell_type": "code",
   "execution_count": 37,
   "metadata": {},
   "outputs": [
    {
     "data": {
      "text/plain": [
       "(1395, 600)"
      ]
     },
     "execution_count": 37,
     "metadata": {},
     "output_type": "execute_result"
    }
   ],
   "source": [
    "\"\"\"\"X2_new = SelectKBest(chi2, k=600).fit_transform(xt, Ym)   # select 600 features\n",
    "X2_new.shape\n",
    "\n",
    "#%%\n",
    "X2=X2_new        # make unque name for next cell \n",
    "X2_new.shape\"\"\"\""
   ]
  },
  {
   "cell_type": "code",
   "execution_count": 24,
   "metadata": {},
   "outputs": [
    {
     "name": "stdout",
     "output_type": "stream",
     "text": [
      "model  0 : ExtraTreesClassifier = 10\n",
      "   Fold 1 accuracy: 76.84 %\n",
      "   Fold 2 accuracy: 79.47 %\n",
      "   Fold 3 accuracy: 80.53 %\n",
      "   Fold 4 accuracy: 77.37 %\n",
      "   Fold 5 accuracy: 77.37 %\n",
      "   Fold 6 accuracy: 74.21 %\n",
      "   Fold 7 accuracy: 76.32 %\n",
      "   Fold 8 accuracy: 76.32 %\n",
      "   Fold 9 accuracy: 77.37 %\n",
      "   Fold 10 accuracy: 73.68 %\n",
      "     Overall test accuracy: 76.95 %\n",
      "     Overall training accuracy: 99.58 %\n",
      "model  1 : ExtraTreesClassifier = 30\n",
      "   Fold 1 accuracy: 79.47 %\n",
      "   Fold 2 accuracy: 80.00 %\n",
      "   Fold 3 accuracy: 75.79 %\n",
      "   Fold 4 accuracy: 83.16 %\n",
      "   Fold 5 accuracy: 71.05 %\n",
      "   Fold 6 accuracy: 78.42 %\n",
      "   Fold 7 accuracy: 77.89 %\n",
      "   Fold 8 accuracy: 82.11 %\n",
      "   Fold 9 accuracy: 77.89 %\n",
      "   Fold 10 accuracy: 78.42 %\n",
      "     Overall test accuracy: 78.42 %\n",
      "     Overall training accuracy: 99.84 %\n",
      "model  2 : ExtraTreesClassifier = 60\n",
      "   Fold 1 accuracy: 77.89 %\n",
      "   Fold 2 accuracy: 72.63 %\n",
      "   Fold 3 accuracy: 78.42 %\n",
      "   Fold 4 accuracy: 81.05 %\n",
      "   Fold 5 accuracy: 83.16 %\n",
      "   Fold 6 accuracy: 79.47 %\n",
      "   Fold 7 accuracy: 81.58 %\n",
      "   Fold 8 accuracy: 80.00 %\n",
      "   Fold 9 accuracy: 80.00 %\n",
      "   Fold 10 accuracy: 79.47 %\n",
      "     Overall test accuracy: 79.37 %\n",
      "     Overall training accuracy: 99.84 %\n",
      "model  3 : ExtraTreesClassifier = 100\n",
      "   Fold 1 accuracy: 75.79 %\n",
      "   Fold 2 accuracy: 83.68 %\n",
      "   Fold 3 accuracy: 75.79 %\n",
      "   Fold 4 accuracy: 82.11 %\n",
      "   Fold 5 accuracy: 80.00 %\n",
      "   Fold 6 accuracy: 76.84 %\n",
      "   Fold 7 accuracy: 79.47 %\n",
      "   Fold 8 accuracy: 77.37 %\n",
      "   Fold 9 accuracy: 77.89 %\n",
      "   Fold 10 accuracy: 76.84 %\n",
      "     Overall test accuracy: 78.58 %\n",
      "     Overall training accuracy: 100.00 %\n",
      "model  4 : ExtraTreesClassifier = 300\n",
      "   Fold 1 accuracy: 80.00 %\n",
      "   Fold 2 accuracy: 79.47 %\n",
      "   Fold 3 accuracy: 77.37 %\n",
      "   Fold 4 accuracy: 76.84 %\n",
      "   Fold 5 accuracy: 75.79 %\n",
      "   Fold 6 accuracy: 82.11 %\n",
      "   Fold 7 accuracy: 78.42 %\n",
      "   Fold 8 accuracy: 82.11 %\n",
      "   Fold 9 accuracy: 72.11 %\n",
      "   Fold 10 accuracy: 82.11 %\n",
      "     Overall test accuracy: 78.63 %\n",
      "     Overall training accuracy: 99.89 %\n",
      "model  5 : ExtraTreesClassifier = 500\n",
      "   Fold 1 accuracy: 77.37 %\n",
      "   Fold 2 accuracy: 73.68 %\n",
      "   Fold 3 accuracy: 79.47 %\n",
      "   Fold 4 accuracy: 82.63 %\n",
      "   Fold 5 accuracy: 76.84 %\n",
      "   Fold 6 accuracy: 78.95 %\n",
      "   Fold 7 accuracy: 75.26 %\n",
      "   Fold 8 accuracy: 82.63 %\n",
      "   Fold 9 accuracy: 79.47 %\n",
      "   Fold 10 accuracy: 77.89 %\n",
      "     Overall test accuracy: 78.42 %\n",
      "     Overall training accuracy: 100.00 %\n"
     ]
    }
   ],
   "source": [
    "#%%\n",
    "# ExtraTreesClassifier\n",
    "model=0\n",
    "results = []\n",
    "cont = []\n",
    "kf = KFold(n_splits=10, shuffle=True)\n",
    "trees = [10, 30, 60, 100, 300, 500]\n",
    "for t in range(len(trees)):\n",
    "    fold = 1\n",
    "    truth = []\n",
    "    rf_prediction = []\n",
    "    print(\"model \", t, \": ExtraTreesClassifier = \" + str(trees[t]))\n",
    "    test_count = 0\n",
    "    rf = ExtraTreesClassifier(bootstrap=False,\n",
    "           criterion='entropy', max_depth=15, max_features=0.9,\n",
    "           max_leaf_nodes=None, min_impurity_decrease=1e-045,\n",
    "           min_samples_leaf=1, min_samples_split=3,\n",
    "           min_weight_fraction_leaf=0.0, n_estimators=trees[t], n_jobs=-1,\n",
    "           oob_score=False, random_state=None, verbose=0, warm_start=False)\n",
    "    for train_idx, test_idx in kf.split(X):\n",
    "        trainX = X[train_idx]\n",
    "        trainY = Y[train_idx]\n",
    "        testX = X[test_idx]\n",
    "        testY = Y[test_idx]\n",
    "        truth.append(testY)\n",
    "        rf.fit(trainX, trainY)\n",
    "        Y_hat = rf.predict(testX)\n",
    "        rf_prediction.append(Y_hat)\n",
    "        print(\"   Fold %d accuracy: %.2f %%\" % (fold, ((np.sum(Y_hat == testY)/len(testY)) * 100.0)))                        \n",
    "        fold += 1\n",
    "    truth = np.concatenate(truth, axis=0)    \n",
    "    rf_prediction = np.concatenate(rf_prediction, axis=0)\n",
    "    test_results = np.sum(rf_prediction == truth)/len(truth)\n",
    "    print(\"     Overall test accuracy: %.2f %%\" % (test_results * 100))  \n",
    "    rf = rf.fit(X, Y)\n",
    "    Y_hat = rf.predict(X)\n",
    "    train_results = np.sum(Y_hat == Y)/len(Y)\n",
    "    print(\"     Overall training accuracy: %.2f %%\" % (train_results * 100.0))  \n",
    "    results.append([train_results, test_results])   \n",
    "    cont.append([truth, rf_prediction])"
   ]
  },
  {
   "cell_type": "code",
   "execution_count": 25,
   "metadata": {},
   "outputs": [],
   "source": [
    "rf = ExtraTreesClassifier(bootstrap=False,\n",
    "       criterion='entropy', max_depth=15, max_features=0.9,\n",
    "       max_leaf_nodes=None, min_impurity_decrease=1e-045,\n",
    "       min_samples_leaf=1, min_samples_split=3,\n",
    "       min_weight_fraction_leaf=0.0, n_estimators=60, n_jobs=-1,      #trees[t] = 100\n",
    "       oob_score=False, random_state=None, verbose=0, warm_start=False)"
   ]
  },
  {
   "cell_type": "code",
   "execution_count": 26,
   "metadata": {},
   "outputs": [
    {
     "name": "stdout",
     "output_type": "stream",
     "text": [
      "192\n",
      "vm  0.6439024390243903\n",
      "vn  0.7560975609756098\n",
      "nlp\n",
      "precision:  0.6770833333333334\n",
      "recall:  0.4088050314465409\n",
      "F1:  0.5098039215686275\n",
      "nlp0\n",
      "precision:  0.7743097238895558\n",
      "recall:  0.9123055162659123\n",
      "F1:  0.5098039215686275\n",
      "ave\n",
      "precision:  0.7256965286114445\n",
      "recall:  0.6605552738562266\n",
      "F1:  0.5098039215686275\n"
     ]
    }
   ],
   "source": [
    "train_num = 1\n",
    "for i in range(train_num):\n",
    "    rf.fit(X, Y)\n",
    "    Y2_hat = rf.predict(X2)\n",
    "    vm = np.sum(Y2_hat == Ym2)/len(Ym2)\n",
    "    vn = np.sum(Y2_hat == Y2)/len(Y2)\n",
    "    print(np.sum(Y2_hat))\n",
    "    print(\"vm \", vm)\n",
    "    print(\"vn \",vn)\n",
    "    \n",
    "precision = np.sum(Y2_hat + Y2 == 2)/np.sum(Y2_hat)\n",
    "recall = np.sum(Y2_hat + Y2 == 2)/np.sum(Y2)\n",
    "f1 = 2*precision*recall/(precision+recall)\n",
    "print(\"nlp\")\n",
    "print(\"precision: \", precision)\n",
    "print(\"recall: \", recall)\n",
    "print(\"F1: \", f1)\n",
    "\n",
    "precision0 = np.sum(Y2_hat + Y2 == 0)/(len(Y2_hat)-np.sum(Y2_hat))\n",
    "recall0 = np.sum(Y2_hat + Y2 == 0)/(len(Y2)-np.sum(Y2))\n",
    "f10 = 2*precision*recall/(precision+recall)\n",
    "print(\"nlp0\")\n",
    "print(\"precision: \", precision0)\n",
    "print(\"recall: \", recall0)\n",
    "print(\"F1: \", f10)\n",
    "\n",
    "print(\"ave\")\n",
    "print(\"precision: \", (precision+precision0)/2)\n",
    "print(\"recall: \", (recall+recall0)/2)\n",
    "print(\"F1: \", (f1+f10)/2)"
   ]
  },
  {
   "cell_type": "code",
   "execution_count": null,
   "metadata": {},
   "outputs": [],
   "source": []
  },
  {
   "cell_type": "code",
   "execution_count": 50,
   "metadata": {},
   "outputs": [
    {
     "name": "stdout",
     "output_type": "stream",
     "text": [
      "(885, 800)\n",
      "885\n"
     ]
    }
   ],
   "source": [
    "print(X2.shape)\n",
    "print(len(Y2_hat))"
   ]
  },
  {
   "cell_type": "code",
   "execution_count": 27,
   "metadata": {},
   "outputs": [
    {
     "name": "stdout",
     "output_type": "stream",
     "text": [
      "Enter Best Model: 2\n",
      "\n",
      "ExtraTrees\n",
      "          no  social  Total\n",
      "no      1193     263   1456\n",
      "social   129     315    444\n",
      "Total   1322     578   1900\n",
      "\n"
     ]
    }
   ],
   "source": [
    "#%%\n",
    "model = input(\"Enter Best Model: \")\n",
    "best = cont[int(model)]\n",
    "rf_ct = pd.crosstab(best[1], best[0], margins=True)\n",
    "rf_ct.columns = [\"no\", \"social\", \"Total\"]\n",
    "rf_ct.index = [\"no\", \"social\", \"Total\"]\n",
    "print()\n",
    "print(\"ExtraTrees\")\n",
    "print(rf_ct)\n",
    "print()"
   ]
  },
  {
   "cell_type": "code",
   "execution_count": 28,
   "metadata": {},
   "outputs": [
    {
     "name": "stdout",
     "output_type": "stream",
     "text": [
      "[[1193  129]\n",
      " [ 263  315]]\n",
      "0.6164383561643836\n"
     ]
    }
   ],
   "source": [
    "#%%\n",
    "from sklearn.metrics import confusion_matrix\n",
    "from sklearn.metrics import recall_score,f1_score,precision_score,accuracy_score,classification_report\n",
    "y_true =cont[int(model)][0]\n",
    "y_pred = cont[int(model)][1]\n",
    "print(confusion_matrix(y_true, y_pred))\n",
    "print(f1_score(y_true, y_pred) )"
   ]
  },
  {
   "cell_type": "code",
   "execution_count": 29,
   "metadata": {},
   "outputs": [
    {
     "name": "stdout",
     "output_type": "stream",
     "text": [
      "0.5449826989619377\n",
      "0.7094594594594594\n",
      "0.7936842105263158\n",
      "             precision    recall  f1-score   support\n",
      "\n",
      "          0       0.82      0.90      0.86      1322\n",
      "          1       0.71      0.54      0.62       578\n",
      "\n",
      "avg / total       0.79      0.79      0.79      1900\n",
      "\n"
     ]
    }
   ],
   "source": [
    "print(recall_score(y_true, y_pred),   )\n",
    "print(precision_score(y_true, y_pred))\n",
    "print(accuracy_score(y_true, y_pred))\n",
    "\n",
    "print(classification_report(y_true, y_pred))"
   ]
  },
  {
   "cell_type": "code",
   "execution_count": 30,
   "metadata": {},
   "outputs": [
    {
     "name": "stdout",
     "output_type": "stream",
     "text": [
      "ExtraTrees: Sensitivity: 0.54498 Specificity: 0.90242 PPV: 0.70946 NPV: 0.81937 Accuracy: 0.79368\n"
     ]
    }
   ],
   "source": [
    "#%%\n",
    "\n",
    "Sens = rf_ct.iloc[1][1]/rf_ct.iloc[2][1]\n",
    "Spec = rf_ct.iloc[0][0]/rf_ct.iloc[2][0]\n",
    "PPV = rf_ct.iloc[1][1]/rf_ct.iloc[1][2]\n",
    "NPV = rf_ct.iloc[0][0]/rf_ct.iloc[0][2]\n",
    "ACC = (rf_ct.iloc[0][0] + rf_ct.iloc[1][1]) / rf_ct.iloc[2][2]\n",
    "print(\"ExtraTrees: Sensitivity: %.5f Specificity: %.5f PPV: %.5f NPV: %.5f Accuracy: %.5f\" % (Sens, Spec, PPV, NPV, ACC))"
   ]
  },
  {
   "cell_type": "code",
   "execution_count": 31,
   "metadata": {},
   "outputs": [
    {
     "data": {
      "image/png": "[encoded data removed]",
      "text/plain": [
       "<Figure size 432x288 with 1 Axes>"
      ]
     },
     "metadata": {},
     "output_type": "display_data"
    },
    {
     "name": "stdout",
     "output_type": "stream",
     "text": [
      "AUC =  0.7237016369242367\n"
     ]
    }
   ],
   "source": [
    "#%%\n",
    "rf_fpr, rf_tpr, rf_thresholds = roc_curve(best[0], best[1], pos_label=1)\n",
    "roc_auc = auc(rf_fpr, rf_tpr)\n",
    "plt.figure(1)\n",
    "plt.plot([0, 1], [0, 1], 'k--')\n",
    "plt.plot(rf_fpr, rf_tpr, label='ExtraTrees')\n",
    "plt.xlabel('False positive rate (1 - Specificity)')\n",
    "plt.ylabel('True Positive Rate (Sensitivity)')\n",
    "plt.title('ROC curve')\n",
    "plt.legend(loc='best')\n",
    "plt.show()\n",
    "print(\"AUC = \", roc_auc)"
   ]
  },
  {
   "cell_type": "code",
   "execution_count": 32,
   "metadata": {},
   "outputs": [
    {
     "name": "stdout",
     "output_type": "stream",
     "text": [
      "model 0: SVM RBF Gamma=1.000 C=1.00\n",
      "   Fold 1 accuracy: 70.00 %\n",
      "   Fold 2 accuracy: 70.53 %\n",
      "   Fold 3 accuracy: 67.89 %\n",
      "   Fold 4 accuracy: 68.95 %\n",
      "   Fold 5 accuracy: 68.42 %\n",
      "   Fold 6 accuracy: 73.16 %\n",
      "   Fold 7 accuracy: 69.47 %\n",
      "   Fold 8 accuracy: 74.21 %\n",
      "   Fold 9 accuracy: 73.16 %\n",
      "   Fold 10 accuracy: 69.47 %\n",
      "     Overall test accuracy: 70.53 %\n",
      "     Overall training accuracy: 71.37 %\n",
      "model 1: SVM RBF Gamma=1.000 C=2.00\n",
      "   Fold 1 accuracy: 72.63 %\n",
      "   Fold 2 accuracy: 74.74 %\n",
      "   Fold 3 accuracy: 71.05 %\n",
      "   Fold 4 accuracy: 71.05 %\n",
      "   Fold 5 accuracy: 79.47 %\n",
      "   Fold 6 accuracy: 72.11 %\n",
      "   Fold 7 accuracy: 77.37 %\n",
      "   Fold 8 accuracy: 71.05 %\n",
      "   Fold 9 accuracy: 71.58 %\n",
      "   Fold 10 accuracy: 80.00 %\n",
      "     Overall test accuracy: 74.11 %\n",
      "     Overall training accuracy: 76.58 %\n",
      "model 2: SVM RBF Gamma=1.000 C=4.00\n",
      "   Fold 1 accuracy: 80.00 %\n",
      "   Fold 2 accuracy: 78.95 %\n",
      "   Fold 3 accuracy: 75.26 %\n",
      "   Fold 4 accuracy: 73.16 %\n",
      "   Fold 5 accuracy: 72.63 %\n",
      "   Fold 6 accuracy: 73.68 %\n",
      "   Fold 7 accuracy: 81.05 %\n",
      "   Fold 8 accuracy: 83.16 %\n",
      "   Fold 9 accuracy: 75.79 %\n",
      "   Fold 10 accuracy: 75.26 %\n",
      "     Overall test accuracy: 76.89 %\n",
      "     Overall training accuracy: 80.11 %\n",
      "model 3: SVM RBF Gamma=1.000 C=6.00\n",
      "   Fold 1 accuracy: 81.05 %\n",
      "   Fold 2 accuracy: 77.37 %\n",
      "   Fold 3 accuracy: 76.84 %\n",
      "   Fold 4 accuracy: 75.26 %\n",
      "   Fold 5 accuracy: 77.37 %\n",
      "   Fold 6 accuracy: 82.11 %\n",
      "   Fold 7 accuracy: 82.11 %\n",
      "   Fold 8 accuracy: 80.53 %\n",
      "   Fold 9 accuracy: 75.26 %\n",
      "   Fold 10 accuracy: 77.37 %\n",
      "     Overall test accuracy: 78.53 %\n",
      "     Overall training accuracy: 82.21 %\n",
      "model 4: SVM RBF Gamma=1.000 C=8.00\n",
      "   Fold 1 accuracy: 80.53 %\n",
      "   Fold 2 accuracy: 81.05 %\n",
      "   Fold 3 accuracy: 74.21 %\n",
      "   Fold 4 accuracy: 77.37 %\n",
      "   Fold 5 accuracy: 80.53 %\n",
      "   Fold 6 accuracy: 81.05 %\n",
      "   Fold 7 accuracy: 78.95 %\n",
      "   Fold 8 accuracy: 77.37 %\n",
      "   Fold 9 accuracy: 83.16 %\n",
      "   Fold 10 accuracy: 81.05 %\n",
      "     Overall test accuracy: 79.53 %\n",
      "     Overall training accuracy: 83.37 %\n",
      "model 5: SVM RBF Gamma=1.000 C=10.00\n",
      "   Fold 1 accuracy: 78.95 %\n",
      "   Fold 2 accuracy: 77.89 %\n",
      "   Fold 3 accuracy: 80.53 %\n",
      "   Fold 4 accuracy: 85.26 %\n",
      "   Fold 5 accuracy: 78.95 %\n",
      "   Fold 6 accuracy: 78.42 %\n",
      "   Fold 7 accuracy: 81.05 %\n",
      "   Fold 8 accuracy: 78.95 %\n",
      "   Fold 9 accuracy: 74.74 %\n",
      "   Fold 10 accuracy: 82.63 %\n",
      "     Overall test accuracy: 79.74 %\n",
      "     Overall training accuracy: 84.16 %\n",
      "model 6: SVM RBF Gamma=2.000 C=1.00\n",
      "   Fold 1 accuracy: 73.16 %\n",
      "   Fold 2 accuracy: 72.11 %\n",
      "   Fold 3 accuracy: 71.05 %\n",
      "   Fold 4 accuracy: 78.95 %\n",
      "   Fold 5 accuracy: 77.37 %\n",
      "   Fold 6 accuracy: 73.16 %\n",
      "   Fold 7 accuracy: 75.26 %\n",
      "   Fold 8 accuracy: 75.79 %\n",
      "   Fold 9 accuracy: 79.47 %\n",
      "   Fold 10 accuracy: 72.63 %\n",
      "     Overall test accuracy: 74.89 %\n",
      "     Overall training accuracy: 76.84 %\n",
      "model 7: SVM RBF Gamma=2.000 C=2.00\n",
      "   Fold 1 accuracy: 75.79 %\n",
      "   Fold 2 accuracy: 82.11 %\n",
      "   Fold 3 accuracy: 74.21 %\n",
      "   Fold 4 accuracy: 77.37 %\n",
      "   Fold 5 accuracy: 76.32 %\n",
      "   Fold 6 accuracy: 80.00 %\n",
      "   Fold 7 accuracy: 73.16 %\n",
      "   Fold 8 accuracy: 80.00 %\n",
      "   Fold 9 accuracy: 78.42 %\n",
      "   Fold 10 accuracy: 78.42 %\n",
      "     Overall test accuracy: 77.58 %\n",
      "     Overall training accuracy: 79.89 %\n",
      "model 8: SVM RBF Gamma=2.000 C=4.00\n",
      "   Fold 1 accuracy: 81.05 %\n",
      "   Fold 2 accuracy: 81.05 %\n",
      "   Fold 3 accuracy: 82.11 %\n",
      "   Fold 4 accuracy: 74.21 %\n",
      "   Fold 5 accuracy: 83.68 %\n",
      "   Fold 6 accuracy: 73.68 %\n",
      "   Fold 7 accuracy: 82.63 %\n",
      "   Fold 8 accuracy: 84.74 %\n",
      "   Fold 9 accuracy: 73.16 %\n",
      "   Fold 10 accuracy: 78.42 %\n",
      "     Overall test accuracy: 79.47 %\n",
      "     Overall training accuracy: 83.05 %\n",
      "model 9: SVM RBF Gamma=2.000 C=6.00\n",
      "   Fold 1 accuracy: 82.63 %\n",
      "   Fold 2 accuracy: 80.53 %\n",
      "   Fold 3 accuracy: 76.84 %\n",
      "   Fold 4 accuracy: 80.53 %\n",
      "   Fold 5 accuracy: 82.63 %\n",
      "   Fold 6 accuracy: 78.42 %\n",
      "   Fold 7 accuracy: 77.89 %\n",
      "   Fold 8 accuracy: 78.42 %\n",
      "   Fold 9 accuracy: 82.11 %\n",
      "   Fold 10 accuracy: 77.37 %\n",
      "     Overall test accuracy: 79.74 %\n",
      "     Overall training accuracy: 85.00 %\n",
      "model 10: SVM RBF Gamma=2.000 C=8.00\n",
      "   Fold 1 accuracy: 79.47 %\n",
      "   Fold 2 accuracy: 82.63 %\n",
      "   Fold 3 accuracy: 76.84 %\n",
      "   Fold 4 accuracy: 84.21 %\n",
      "   Fold 5 accuracy: 81.58 %\n",
      "   Fold 6 accuracy: 80.53 %\n",
      "   Fold 7 accuracy: 82.11 %\n",
      "   Fold 8 accuracy: 77.89 %\n",
      "   Fold 9 accuracy: 82.63 %\n",
      "   Fold 10 accuracy: 75.26 %\n",
      "     Overall test accuracy: 80.32 %\n",
      "     Overall training accuracy: 86.11 %\n",
      "model 11: SVM RBF Gamma=2.000 C=10.00\n",
      "   Fold 1 accuracy: 84.21 %\n",
      "   Fold 2 accuracy: 81.05 %\n",
      "   Fold 3 accuracy: 81.05 %\n",
      "   Fold 4 accuracy: 80.53 %\n",
      "   Fold 5 accuracy: 81.05 %\n",
      "   Fold 6 accuracy: 80.00 %\n",
      "   Fold 7 accuracy: 81.58 %\n",
      "   Fold 8 accuracy: 81.05 %\n",
      "   Fold 9 accuracy: 78.42 %\n",
      "   Fold 10 accuracy: 85.26 %\n",
      "     Overall test accuracy: 81.42 %\n",
      "     Overall training accuracy: 86.74 %\n"
     ]
    }
   ],
   "source": [
    "#%%\n",
    "# SVM\n",
    "model = 0\n",
    "cont = []\n",
    "results = pd.DataFrame(columns=('name', 'accuracy'))\n",
    "kf = KFold(n_splits=10, shuffle=True)\n",
    "C = [1,2,4,6,8,10]\n",
    "gamma = [1,2]  \n",
    "for g in range(len(gamma)):\n",
    "    acc = []\n",
    "    name = \"SVM RBF Gamma=%.3f\" % (gamma[g])     \n",
    "    for c in range(len(C)):\n",
    "        fold = 1\n",
    "        truth = []\n",
    "        svm_prediction = []\n",
    "        print(\"model %d: SVM RBF Gamma=%.3f C=%.2f\" % (model, gamma[g], C[c]))        \n",
    "        test_count = 0\n",
    "        svm = SVC(C=C[c], kernel='rbf', gamma=gamma[g])\n",
    "        for train_idx, test_idx in kf.split(X):\n",
    "            trainX = X[train_idx]\n",
    "            trainY = Y[train_idx]\n",
    "            testX = X[test_idx]\n",
    "            testY = Y[test_idx]\n",
    "            truth.append(testY)\n",
    "            svm.fit(trainX, trainY)\n",
    "            Y_hat = svm.predict(testX)\n",
    "            svm_prediction.append(Y_hat)\n",
    "            print(\"   Fold %d accuracy: %.2f %%\" % (fold, ((np.sum(Y_hat == testY)/len(testY)) * 100.0)))                        \n",
    "            fold += 1\n",
    "        truth = np.concatenate(truth, axis=0)    \n",
    "        svm_prediction = np.concatenate(svm_prediction, axis=0)\n",
    "        test_results = np.sum(svm_prediction == truth)/len(truth)\n",
    "        print(\"     Overall test accuracy: %.2f %%\" % (test_results * 100))  \n",
    "        svm = svm.fit(X, Y)\n",
    "        Y_hat = svm.predict(X)\n",
    "        train_results = np.sum(Y_hat == Y)/len(Y)\n",
    "        print(\"     Overall training accuracy: %.2f %%\" % (train_results * 100.0))  \n",
    "        acc.append([train_results, test_results])   \n",
    "        cont.append([truth, svm_prediction])\n",
    "        model += 1\n",
    "    results = results.append({'name': name, 'accuracy' : acc}, ignore_index=True)"
   ]
  },
  {
   "cell_type": "code",
   "execution_count": 33,
   "metadata": {},
   "outputs": [
    {
     "name": "stdout",
     "output_type": "stream",
     "text": [
      "196\n",
      "vm  0.6478048780487805\n",
      "vn  0.7931707317073171\n",
      "nlp\n",
      "precision:  0.7704081632653061\n",
      "recall:  0.4748427672955975\n",
      "F1:  0.5875486381322957\n",
      "nlp0\n",
      "precision:  0.7985524728588661\n",
      "recall:  0.9363507779349364\n",
      "F1:  0.5875486381322957\n",
      "ave\n",
      "precision:  0.7844803180620861\n",
      "recall:  0.705596772615267\n",
      "F1:  0.5875486381322957\n"
     ]
    }
   ],
   "source": [
    "svm = SVC(C=10, kernel='rbf', gamma=2) #79.2%\n",
    "#svm = SVC(C=2, kernel='rbf', gamma=128) #79.6\n",
    "#svm = SVC(C=2, kernel='rbf', gamma=128) \n",
    "train_num = 1\n",
    "for i in range(train_num):\n",
    "    svm.fit(X, Y)\n",
    "    Y2_hat = svm.predict(X2)\n",
    "    vm = np.sum(Y2_hat == Ym2)/len(Ym2)\n",
    "    vn = np.sum(Y2_hat == Y2)/len(Y2)\n",
    "    print(np.sum(Y2_hat))\n",
    "    print(\"vm \", vm)\n",
    "    print(\"vn \",vn)\n",
    "    \n",
    "precision = np.sum(Y2_hat + Y2 == 2)/np.sum(Y2_hat)\n",
    "recall = np.sum(Y2_hat + Y2 == 2)/np.sum(Y2)\n",
    "f1 = 2*precision*recall/(precision+recall)\n",
    "print(\"nlp\")\n",
    "print(\"precision: \", precision)\n",
    "print(\"recall: \", recall)\n",
    "print(\"F1: \", f1)\n",
    "\n",
    "precision0 = np.sum(Y2_hat + Y2 == 0)/(len(Y2_hat)-np.sum(Y2_hat))\n",
    "recall0 = np.sum(Y2_hat + Y2 == 0)/(len(Y2)-np.sum(Y2))\n",
    "f10 = 2*precision*recall/(precision+recall)\n",
    "print(\"nlp0\")\n",
    "print(\"precision: \", precision0)\n",
    "print(\"recall: \", recall0)\n",
    "print(\"F1: \", f10)\n",
    "\n",
    "print(\"ave\")\n",
    "print(\"precision: \", (precision+precision0)/2)\n",
    "print(\"recall: \", (recall+recall0)/2)\n",
    "print(\"F1: \", (f1+f10)/2)"
   ]
  },
  {
   "cell_type": "code",
   "execution_count": 34,
   "metadata": {},
   "outputs": [
    {
     "name": "stdout",
     "output_type": "stream",
     "text": [
      "Enter Best Model: 11\n",
      "\n",
      "SVM\n",
      "          no  social  Total\n",
      "no      1242     273   1515\n",
      "social    80     305    385\n",
      "Total   1322     578   1900\n",
      "\n"
     ]
    }
   ],
   "source": [
    "#%%\n",
    "\n",
    "model = input(\"Enter Best Model: \")\n",
    "best = cont[int(model)]\n",
    "rf_ct = pd.crosstab(best[1], best[0], margins=True)\n",
    "rf_ct.columns = [\"no\", \"social\", \"Total\"]\n",
    "rf_ct.index = [\"no\", \"social\", \"Total\"]\n",
    "print()\n",
    "print(\"SVM\")\n",
    "print(rf_ct)\n",
    "print()"
   ]
  },
  {
   "cell_type": "code",
   "execution_count": 35,
   "metadata": {},
   "outputs": [
    {
     "name": "stdout",
     "output_type": "stream",
     "text": [
      "Random Forest: Sensitivity: 0.52768 Specificity: 0.93949 PPV: 0.79221 NPV: 0.81980 Accuracy: 0.81421\n"
     ]
    }
   ],
   "source": [
    "#%%\n",
    "\n",
    "Sens = rf_ct.iloc[1][1]/rf_ct.iloc[2][1]\n",
    "Spec = rf_ct.iloc[0][0]/rf_ct.iloc[2][0]\n",
    "PPV = rf_ct.iloc[1][1]/rf_ct.iloc[1][2]\n",
    "NPV = rf_ct.iloc[0][0]/rf_ct.iloc[0][2]\n",
    "ACC = (rf_ct.iloc[0][0] + rf_ct.iloc[1][1]) / rf_ct.iloc[2][2]\n",
    "print(\"Random Forest: Sensitivity: %.5f Specificity: %.5f PPV: %.5f NPV: %.5f Accuracy: %.5f\" % (Sens, Spec, PPV, NPV, ACC))"
   ]
  },
  {
   "cell_type": "code",
   "execution_count": 36,
   "metadata": {},
   "outputs": [
    {
     "name": "stdout",
     "output_type": "stream",
     "text": [
      "[[1242   80]\n",
      " [ 273  305]]\n",
      "0.6334371754932503\n",
      "0.527681660899654\n",
      "0.7922077922077922\n",
      "0.8142105263157895\n",
      "             precision    recall  f1-score   support\n",
      "\n",
      "          0       0.82      0.94      0.88      1322\n",
      "          1       0.79      0.53      0.63       578\n",
      "\n",
      "avg / total       0.81      0.81      0.80      1900\n",
      "\n"
     ]
    }
   ],
   "source": [
    "#%%\n",
    "from sklearn.metrics import confusion_matrix\n",
    "from sklearn.metrics import recall_score,f1_score,precision_score,accuracy_score,classification_report\n",
    "y_true =cont[int(model)][0]\n",
    "y_pred = cont[int(model)][1]\n",
    "print(confusion_matrix(y_true, y_pred))\n",
    "print(f1_score(y_true, y_pred) )\n",
    "\n",
    "print(recall_score(y_true, y_pred),   )\n",
    "print(precision_score(y_true, y_pred))\n",
    "print(accuracy_score(y_true, y_pred))\n",
    "\n",
    "print(classification_report(y_true, y_pred))"
   ]
  },
  {
   "cell_type": "code",
   "execution_count": 37,
   "metadata": {},
   "outputs": [
    {
     "name": "stdout",
     "output_type": "stream",
     "text": [
      "model  0 : Random Forest trees = 5\n",
      "   Fold 1 accuracy: 72.11 %\n",
      "   Fold 2 accuracy: 72.11 %\n",
      "   Fold 3 accuracy: 76.32 %\n",
      "   Fold 4 accuracy: 74.21 %\n",
      "   Fold 5 accuracy: 74.21 %\n",
      "   Fold 6 accuracy: 73.68 %\n",
      "   Fold 7 accuracy: 75.79 %\n",
      "   Fold 8 accuracy: 75.26 %\n",
      "   Fold 9 accuracy: 73.16 %\n",
      "   Fold 10 accuracy: 76.32 %\n",
      "     Overall test accuracy: 74.32 %\n",
      "     Overall training accuracy: 97.47 %\n",
      "model  1 : Random Forest trees = 10\n",
      "   Fold 1 accuracy: 71.05 %\n",
      "   Fold 2 accuracy: 74.21 %\n",
      "   Fold 3 accuracy: 74.74 %\n",
      "   Fold 4 accuracy: 79.47 %\n",
      "   Fold 5 accuracy: 77.37 %\n",
      "   Fold 6 accuracy: 77.89 %\n",
      "   Fold 7 accuracy: 70.53 %\n",
      "   Fold 8 accuracy: 74.74 %\n",
      "   Fold 9 accuracy: 77.37 %\n",
      "   Fold 10 accuracy: 74.21 %\n",
      "     Overall test accuracy: 75.16 %\n",
      "     Overall training accuracy: 98.68 %\n",
      "model  2 : Random Forest trees = 50\n",
      "   Fold 1 accuracy: 80.53 %\n",
      "   Fold 2 accuracy: 76.32 %\n",
      "   Fold 3 accuracy: 77.37 %\n",
      "   Fold 4 accuracy: 76.32 %\n",
      "   Fold 5 accuracy: 76.84 %\n",
      "   Fold 6 accuracy: 80.00 %\n",
      "   Fold 7 accuracy: 81.05 %\n",
      "   Fold 8 accuracy: 82.11 %\n",
      "   Fold 9 accuracy: 75.26 %\n",
      "   Fold 10 accuracy: 79.47 %\n",
      "     Overall test accuracy: 78.53 %\n",
      "     Overall training accuracy: 100.00 %\n",
      "model  3 : Random Forest trees = 100\n",
      "   Fold 1 accuracy: 81.05 %\n",
      "   Fold 2 accuracy: 84.74 %\n",
      "   Fold 3 accuracy: 76.84 %\n",
      "   Fold 4 accuracy: 74.74 %\n",
      "   Fold 5 accuracy: 77.37 %\n",
      "   Fold 6 accuracy: 72.11 %\n",
      "   Fold 7 accuracy: 83.68 %\n",
      "   Fold 8 accuracy: 77.37 %\n",
      "   Fold 9 accuracy: 78.42 %\n",
      "   Fold 10 accuracy: 73.16 %\n",
      "     Overall test accuracy: 77.95 %\n",
      "     Overall training accuracy: 100.00 %\n",
      "model  4 : Random Forest trees = 200\n",
      "   Fold 1 accuracy: 76.32 %\n",
      "   Fold 2 accuracy: 74.74 %\n",
      "   Fold 3 accuracy: 72.11 %\n",
      "   Fold 4 accuracy: 76.32 %\n",
      "   Fold 5 accuracy: 80.00 %\n",
      "   Fold 6 accuracy: 78.42 %\n",
      "   Fold 7 accuracy: 77.37 %\n",
      "   Fold 8 accuracy: 81.58 %\n",
      "   Fold 9 accuracy: 78.95 %\n",
      "   Fold 10 accuracy: 83.16 %\n",
      "     Overall test accuracy: 77.89 %\n",
      "     Overall training accuracy: 100.00 %\n",
      "model  5 : Random Forest trees = 300\n",
      "   Fold 1 accuracy: 81.05 %\n",
      "   Fold 2 accuracy: 79.47 %\n",
      "   Fold 3 accuracy: 72.11 %\n",
      "   Fold 4 accuracy: 80.00 %\n",
      "   Fold 5 accuracy: 73.68 %\n",
      "   Fold 6 accuracy: 81.58 %\n",
      "   Fold 7 accuracy: 77.89 %\n",
      "   Fold 8 accuracy: 77.89 %\n",
      "   Fold 9 accuracy: 81.05 %\n",
      "   Fold 10 accuracy: 74.74 %\n",
      "     Overall test accuracy: 77.95 %\n",
      "     Overall training accuracy: 100.00 %\n",
      "model  6 : Random Forest trees = 400\n",
      "   Fold 1 accuracy: 82.11 %\n",
      "   Fold 2 accuracy: 80.53 %\n",
      "   Fold 3 accuracy: 78.42 %\n",
      "   Fold 4 accuracy: 75.26 %\n",
      "   Fold 5 accuracy: 77.89 %\n",
      "   Fold 6 accuracy: 78.42 %\n",
      "   Fold 7 accuracy: 83.68 %\n",
      "   Fold 8 accuracy: 73.68 %\n",
      "   Fold 9 accuracy: 75.79 %\n",
      "   Fold 10 accuracy: 75.26 %\n",
      "     Overall test accuracy: 78.11 %\n",
      "     Overall training accuracy: 100.00 %\n",
      "model  7 : Random Forest trees = 500\n",
      "   Fold 1 accuracy: 75.26 %\n",
      "   Fold 2 accuracy: 74.21 %\n",
      "   Fold 3 accuracy: 78.42 %\n",
      "   Fold 4 accuracy: 81.58 %\n",
      "   Fold 5 accuracy: 78.42 %\n",
      "   Fold 6 accuracy: 78.95 %\n",
      "   Fold 7 accuracy: 80.00 %\n",
      "   Fold 8 accuracy: 76.84 %\n",
      "   Fold 9 accuracy: 77.89 %\n",
      "   Fold 10 accuracy: 81.05 %\n",
      "     Overall test accuracy: 78.26 %\n",
      "     Overall training accuracy: 100.00 %\n"
     ]
    }
   ],
   "source": [
    "#%%\n",
    "# RandomForest\n",
    "model=0\n",
    "results = []\n",
    "cont = []\n",
    "kf = KFold(n_splits=10, shuffle=True)\n",
    "trees = [5, 10, 50, 100, 200, 300, 400, 500]\n",
    "for t in range(len(trees)):\n",
    "    fold = 1\n",
    "    truth = []\n",
    "    rf_prediction = []\n",
    "    print(\"model \", t, \": Random Forest trees = \" + str(trees[t]))\n",
    "    test_count = 0\n",
    "    rf = RandomForestClassifier(n_estimators=trees[t], criterion='entropy', n_jobs=-1, )\n",
    "    for train_idx, test_idx in kf.split(X):\n",
    "        trainX = X[train_idx]\n",
    "        trainY = Y[train_idx]\n",
    "        testX = X[test_idx]\n",
    "        testY = Y[test_idx]\n",
    "        truth.append(testY)\n",
    "        rf.fit(trainX, trainY)\n",
    "        Y_hat = rf.predict(testX)\n",
    "        rf_prediction.append(Y_hat)\n",
    "        print(\"   Fold %d accuracy: %.2f %%\" % (fold, ((np.sum(Y_hat == testY)/len(testY)) * 100.0)))                        \n",
    "        fold += 1\n",
    "    truth = np.concatenate(truth, axis=0)    \n",
    "    rf_prediction = np.concatenate(rf_prediction, axis=0)\n",
    "    test_results = np.sum(rf_prediction == truth)/len(truth)\n",
    "    print(\"     Overall test accuracy: %.2f %%\" % (test_results * 100))  \n",
    "    rf = rf.fit(X, Y)\n",
    "    Y_hat = rf.predict(X)\n",
    "    train_results = np.sum(Y_hat == Y)/len(Y)\n",
    "    print(\"     Overall training accuracy: %.2f %%\" % (train_results * 100.0))  \n",
    "    results.append([train_results, test_results])   \n",
    "    cont.append([truth, rf_prediction])"
   ]
  },
  {
   "cell_type": "code",
   "execution_count": 38,
   "metadata": {},
   "outputs": [
    {
     "name": "stdout",
     "output_type": "stream",
     "text": [
      "154\n",
      "vm  0.6536585365853659\n",
      "vn  0.7560975609756098\n",
      "nlp\n",
      "precision:  0.7207792207792207\n",
      "recall:  0.3490566037735849\n",
      "F1:  0.4703389830508474\n",
      "nlp0\n",
      "precision:  0.7623421354764638\n",
      "recall:  0.9391796322489392\n",
      "F1:  0.4703389830508474\n",
      "ave\n",
      "precision:  0.7415606781278423\n",
      "recall:  0.6441181180112621\n",
      "F1:  0.4703389830508474\n"
     ]
    }
   ],
   "source": [
    "rf = RandomForestClassifier(n_estimators=50, criterion='entropy', n_jobs=-1, )\n",
    "train_num = 1\n",
    "for i in range(train_num):\n",
    "    rf.fit(X, Y)\n",
    "    Y2_hat = rf.predict(X2)\n",
    "    vm = np.sum(Y2_hat == Ym2)/len(Ym2)\n",
    "    vn = np.sum(Y2_hat == Y2)/len(Y2)\n",
    "    print(np.sum(Y2_hat))\n",
    "    print(\"vm \", vm)\n",
    "    print(\"vn \",vn)\n",
    "    \n",
    "precision = np.sum(Y2_hat + Y2 == 2)/np.sum(Y2_hat)\n",
    "recall = np.sum(Y2_hat + Y2 == 2)/np.sum(Y2)\n",
    "f1 = 2*precision*recall/(precision+recall)\n",
    "print(\"nlp\")\n",
    "print(\"precision: \", precision)\n",
    "print(\"recall: \", recall)\n",
    "print(\"F1: \", f1)\n",
    "\n",
    "precision0 = np.sum(Y2_hat + Y2 == 0)/(len(Y2_hat)-np.sum(Y2_hat))\n",
    "recall0 = np.sum(Y2_hat + Y2 == 0)/(len(Y2)-np.sum(Y2))\n",
    "f10 = 2*precision*recall/(precision+recall)\n",
    "print(\"nlp0\")\n",
    "print(\"precision: \", precision0)\n",
    "print(\"recall: \", recall0)\n",
    "print(\"F1: \", f10)\n",
    "\n",
    "print(\"ave\")\n",
    "print(\"precision: \", (precision+precision0)/2)\n",
    "print(\"recall: \", (recall+recall0)/2)\n",
    "print(\"F1: \", (f1+f10)/2)"
   ]
  },
  {
   "cell_type": "code",
   "execution_count": 39,
   "metadata": {},
   "outputs": [
    {
     "name": "stdout",
     "output_type": "stream",
     "text": [
      "Enter Best Model: 2\n",
      "\n",
      "Random Forest\n",
      "          no  social  Total\n",
      "no      1236     322   1558\n",
      "social    86     256    342\n",
      "Total   1322     578   1900\n",
      "\n"
     ]
    }
   ],
   "source": [
    "#%%\n",
    "model = input(\"Enter Best Model: \")\n",
    "best = cont[int(model)]\n",
    "rf_ct = pd.crosstab(best[1], best[0], margins=True)\n",
    "rf_ct.columns = [\"no\", \"social\", \"Total\"]\n",
    "rf_ct.index = [\"no\", \"social\", \"Total\"]\n",
    "print()\n",
    "print(\"Random Forest\")\n",
    "print(rf_ct)\n",
    "print()"
   ]
  },
  {
   "cell_type": "code",
   "execution_count": 40,
   "metadata": {},
   "outputs": [
    {
     "name": "stdout",
     "output_type": "stream",
     "text": [
      "Random Forest: Sensitivity: 0.44291 Specificity: 0.93495 PPV: 0.74854 NPV: 0.79332 Accuracy: 0.78526\n"
     ]
    }
   ],
   "source": [
    "#%%\n",
    "\n",
    "Sens = rf_ct.iloc[1][1]/rf_ct.iloc[2][1]\n",
    "Spec = rf_ct.iloc[0][0]/rf_ct.iloc[2][0]\n",
    "PPV = rf_ct.iloc[1][1]/rf_ct.iloc[1][2]\n",
    "NPV = rf_ct.iloc[0][0]/rf_ct.iloc[0][2]\n",
    "ACC = (rf_ct.iloc[0][0] + rf_ct.iloc[1][1]) / rf_ct.iloc[2][2]\n",
    "print(\"Random Forest: Sensitivity: %.5f Specificity: %.5f PPV: %.5f NPV: %.5f Accuracy: %.5f\" % (Sens, Spec, PPV, NPV, ACC))"
   ]
  },
  {
   "cell_type": "code",
   "execution_count": 41,
   "metadata": {},
   "outputs": [
    {
     "name": "stdout",
     "output_type": "stream",
     "text": [
      "[[1236   86]\n",
      " [ 322  256]]\n",
      "0.5565217391304348\n",
      "0.4429065743944637\n",
      "0.7485380116959064\n",
      "0.7852631578947369\n",
      "             precision    recall  f1-score   support\n",
      "\n",
      "          0       0.79      0.93      0.86      1322\n",
      "          1       0.75      0.44      0.56       578\n",
      "\n",
      "avg / total       0.78      0.79      0.77      1900\n",
      "\n"
     ]
    }
   ],
   "source": [
    "#%%\n",
    "from sklearn.metrics import confusion_matrix\n",
    "from sklearn.metrics import recall_score,f1_score,precision_score,accuracy_score,classification_report\n",
    "y_true =cont[int(model)][0]\n",
    "y_pred = cont[int(model)][1]\n",
    "print(confusion_matrix(y_true, y_pred))\n",
    "print(f1_score(y_true, y_pred) )\n",
    "\n",
    "\n",
    "\n",
    "print(recall_score(y_true, y_pred),   )\n",
    "print(precision_score(y_true, y_pred))\n",
    "print(accuracy_score(y_true, y_pred))\n",
    "\n",
    "print(classification_report(y_true, y_pred))"
   ]
  },
  {
   "cell_type": "code",
   "execution_count": 42,
   "metadata": {},
   "outputs": [
    {
     "name": "stdout",
     "output_type": "stream",
     "text": [
      "Training set score: 0.955263\n",
      "Test set score: 0.818421\n"
     ]
    }
   ],
   "source": [
    "#%%\n",
    "from sklearn.utils import shuffle\n",
    "X, Y = shuffle(X, Y)\n",
    "split = int(len(Y) * 4/5)\n",
    "trainX = X[:split, :]\n",
    "trainY = Y[:split]\n",
    "testX = X[split:, :]\n",
    "testY = Y[split:]\n",
    "\n",
    "#%%\n",
    "from sklearn.neural_network import MLPClassifier\n",
    "\n",
    "mlp = MLPClassifier(hidden_layer_sizes=(50,), max_iter=1000, alpha=1e-4,\n",
    "                    solver='adam', verbose=False, tol=1e-4, random_state=1)\n",
    "#mlp = MLPClassifier(hidden_layer_sizes=(50,), max_iter=10, alpha=1e-4,\n",
    "#                    solver='sgd', verbose=10, tol=1e-4, random_state=1,\n",
    "#                    learning_rate_init=.1)\n",
    "\n",
    "mlp.fit(trainX, trainY)\n",
    "print(\"Training set score: %f\" % mlp.score(trainX, trainY))\n",
    "print(\"Test set score: %f\" % mlp.score(testX, testY))"
   ]
  },
  {
   "cell_type": "code",
   "execution_count": 69,
   "metadata": {},
   "outputs": [
    {
     "name": "stdout",
     "output_type": "stream",
     "text": [
      "402\n",
      "vm  0.5005649717514125\n",
      "vn  0.7502824858757062\n"
     ]
    },
    {
     "name": "stderr",
     "output_type": "stream",
     "text": [
      "C:\\ProgramData\\Anaconda3\\lib\\site-packages\\sklearn\\neural_network\\multilayer_perceptron.py:564: ConvergenceWarning: Stochastic Optimizer: Maximum iterations (500) reached and the optimization hasn't converged yet.\n",
      "  % self.max_iter, ConvergenceWarning)\n"
     ]
    }
   ],
   "source": [
    "from sklearn.utils import shuffle\n",
    "X, Y = shuffle(X, Y)\n",
    "from sklearn.neural_network import MLPClassifier\n",
    "mlp = MLPClassifier(hidden_layer_sizes=(100,),max_iter=500, alpha=1e-4)\n",
    "#mlp = MLPClassifier(hidden_layer_sizes=(100,),max_iter=1000, alpha=1e-4) 67.5%\n",
    "mlp.fit(X,Y)\n",
    "\n",
    "Y2_hat = mlp.predict(X2)\n",
    "vm = np.sum(Y2_hat == Ym2)/len(Ym2)\n",
    "vn = np.sum(Y2_hat == Y2)/len(Y2)\n",
    "print(np.sum(Y2_hat))\n",
    "print(\"vm \", vm)\n",
    "print(\"vn \",vn)"
   ]
  },
  {
   "cell_type": "code",
   "execution_count": 70,
   "metadata": {},
   "outputs": [
    {
     "name": "stdout",
     "output_type": "stream",
     "text": [
      "402\n",
      "vm  0.5073446327683616\n",
      "vn  0.7548022598870057\n"
     ]
    }
   ],
   "source": [
    "from sklearn.utils import shuffle\n",
    "X, Y = shuffle(X, Y)\n",
    "from sklearn.neural_network import MLPClassifier\n",
    "mlp = MLPClassifier(hidden_layer_sizes=(300,),max_iter=500, alpha=1e-4)\n",
    "#mlp = MLPClassifier(hidden_layer_sizes=(100,),max_iter=1000, alpha=1e-4) 67.5%\n",
    "mlp.fit(X,Y)\n",
    "\n",
    "Y2_hat = mlp.predict(X2)\n",
    "vm = np.sum(Y2_hat == Ym2)/len(Ym2)\n",
    "vn = np.sum(Y2_hat == Y2)/len(Y2)\n",
    "print(np.sum(Y2_hat))\n",
    "print(\"vm \", vm)\n",
    "print(\"vn \",vn)"
   ]
  },
  {
   "cell_type": "code",
   "execution_count": null,
   "metadata": {},
   "outputs": [],
   "source": []
  }
 ],
 "metadata": {
  "kernelspec": {
   "display_name": "Python 3",
   "language": "python",
   "name": "python3"
  },
  "language_info": {
   "codemirror_mode": {
    "name": "ipython",
    "version": 3
   },
   "file_extension": ".py",
   "mimetype": "text/x-python",
   "name": "python",
   "nbconvert_exporter": "python",
   "pygments_lexer": "ipython3",
   "version": "3.6.5"
  }
 },
 "nbformat": 4,
 "nbformat_minor": 2
}
