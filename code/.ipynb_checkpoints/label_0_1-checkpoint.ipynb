{
 "cells": [
  {
   "cell_type": "code",
   "execution_count": 1,
   "metadata": {},
   "outputs": [],
   "source": [
    "\n",
    "import os\n",
    "#import numpy as np\n",
    "import pandas as pd\n",
    "\n",
    "os.chdir('Z:/project')\n",
    "train = pd.read_csv(\"./results/data_1885.csv\")\n",
    "\n",
    "m1=0\n",
    "n1=0\n",
    "m2=0\n",
    "n2=0\n",
    "labelm=[]\n",
    "labeln=[]\n",
    "labelm2=[]\n",
    "labeln2=[]\n",
    "for index, row in train.iterrows():\n",
    "    if row['m1']<5:\n",
    "        m1=0\n",
    "        labelm.append(m1)\n",
    "    else:\n",
    "        m1=1\n",
    "        labelm.append(m1)\n",
    "        \n",
    "    if row['n1']<7:\n",
    "        n1=0\n",
    "        labeln.append(n1)\n",
    "    else:\n",
    "        n1=1\n",
    "        labeln.append(n1)   \n",
    "    if row['m2']<3:\n",
    "        m2=0\n",
    "        labelm2.append(m2)\n",
    "    else:\n",
    "        m2=1\n",
    "        labelm2.append(m2)\n",
    "        \n",
    "    if row['n2']<3:\n",
    "        n2=0\n",
    "        labeln2.append(n2)\n",
    "    else:\n",
    "        n2=1\n",
    "        labeln2.append(n2)\n",
    "        \n",
    "train['m1_1'] = labelm    \n",
    "train['n1_1'] = labeln  \n",
    "train['m2_1'] = labelm2    \n",
    "train['n2_1'] = labeln2\n",
    "train.to_csv(\"./results/train_1885.csv\")\n",
    "\n"
   ]
  },
  {
   "cell_type": "code",
   "execution_count": null,
   "metadata": {},
   "outputs": [],
   "source": []
  }
 ],
 "metadata": {
  "kernelspec": {
   "display_name": "Python 3",
   "language": "python",
   "name": "python3"
  },
  "language_info": {
   "codemirror_mode": {
    "name": "ipython",
    "version": 3
   },
   "file_extension": ".py",
   "mimetype": "text/x-python",
   "name": "python",
   "nbconvert_exporter": "python",
   "pygments_lexer": "ipython3",
   "version": "3.6.5"
  }
 },
 "nbformat": 4,
 "nbformat_minor": 2
}
