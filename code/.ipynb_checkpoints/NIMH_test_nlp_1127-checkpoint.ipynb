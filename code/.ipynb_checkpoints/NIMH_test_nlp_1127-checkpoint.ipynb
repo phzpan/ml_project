{
 "cells": [
  {
   "cell_type": "markdown",
   "metadata": {},
   "source": [
    "# NIMH Project - Machine Learning - Testing"
   ]
  },
  {
   "cell_type": "code",
   "execution_count": 1,
   "metadata": {},
   "outputs": [],
   "source": [
    "import os\n",
    "\n",
    "import re\n",
    "import nltk\n",
    "import numpy as np\n",
    "import pandas as pd\n",
    "import pickle as pkl\n",
    "from sklearn.feature_extraction.text import CountVectorizer\n",
    "from sklearn.svm import SVC\n",
    "from sklearn.model_selection import KFold\n",
    "from sklearn.metrics import roc_curve, auc\n",
    "from nltk.corpus import stopwords\n",
    "import matplotlib.pyplot as plt\n",
    "from sklearn.feature_extraction.text import TfidfVectorizer\n",
    "import string\n",
    "from sklearn.ensemble import RandomForestClassifier,ExtraTreesClassifier\n",
    "from nltk.stem.wordnet import WordNetLemmatizer\n",
    "\n",
    "import math\n",
    "import chardet\n",
    "os.chdir('Z:\\project')"
   ]
  },
  {
   "cell_type": "code",
   "execution_count": 16,
   "metadata": {},
   "outputs": [
    {
     "data": {
      "text/html": [
       "<div>\n",
       "<style scoped>\n",
       "    .dataframe tbody tr th:only-of-type {\n",
       "        vertical-align: middle;\n",
       "    }\n",
       "\n",
       "    .dataframe tbody tr th {\n",
       "        vertical-align: top;\n",
       "    }\n",
       "\n",
       "    .dataframe thead th {\n",
       "        text-align: right;\n",
       "    }\n",
       "</style>\n",
       "<table border=\"1\" class=\"dataframe\">\n",
       "  <thead>\n",
       "    <tr style=\"text-align: right;\">\n",
       "      <th></th>\n",
       "      <th>Unnamed: 0</th>\n",
       "      <th>pat_visit</th>\n",
       "      <th>m1</th>\n",
       "      <th>n1</th>\n",
       "      <th>txt1</th>\n",
       "      <th>m2</th>\n",
       "      <th>n2</th>\n",
       "      <th>txt2</th>\n",
       "      <th>fsize</th>\n",
       "      <th>m1_1</th>\n",
       "      <th>n1_1</th>\n",
       "      <th>m2_1</th>\n",
       "      <th>n2_1</th>\n",
       "    </tr>\n",
       "  </thead>\n",
       "  <tbody>\n",
       "    <tr>\n",
       "      <th>0</th>\n",
       "      <td>0</td>\n",
       "      <td>12115408_2404622</td>\n",
       "      <td>1</td>\n",
       "      <td>0</td>\n",
       "      <td>MRN:                     12115408\\r\\n...... Me...</td>\n",
       "      <td>0</td>\n",
       "      <td>1</td>\n",
       "      <td>MRN:                     12115408\\r\\n...... Me...</td>\n",
       "      <td>12</td>\n",
       "      <td>0</td>\n",
       "      <td>0</td>\n",
       "      <td>0</td>\n",
       "      <td>0</td>\n",
       "    </tr>\n",
       "    <tr>\n",
       "      <th>1</th>\n",
       "      <td>1</td>\n",
       "      <td>5164967_190590119</td>\n",
       "      <td>1</td>\n",
       "      <td>1</td>\n",
       "      <td>MRN: 5164967\\r\\n...... MRN: 5164967\\r\\n...... ...</td>\n",
       "      <td>0</td>\n",
       "      <td>1</td>\n",
       "      <td>MRN: 5164967\\r\\n...... MRN: 5164967\\r\\n...... ...</td>\n",
       "      <td>12</td>\n",
       "      <td>0</td>\n",
       "      <td>0</td>\n",
       "      <td>0</td>\n",
       "      <td>0</td>\n",
       "    </tr>\n",
       "    <tr>\n",
       "      <th>2</th>\n",
       "      <td>2</td>\n",
       "      <td>12115408_2410892</td>\n",
       "      <td>1</td>\n",
       "      <td>1</td>\n",
       "      <td>MRN:                12115408\\r\\n...... MEDICAL...</td>\n",
       "      <td>0</td>\n",
       "      <td>1</td>\n",
       "      <td>MRN:                12115408\\r\\n...... MEDICAL...</td>\n",
       "      <td>13</td>\n",
       "      <td>0</td>\n",
       "      <td>0</td>\n",
       "      <td>0</td>\n",
       "      <td>0</td>\n",
       "    </tr>\n",
       "    <tr>\n",
       "      <th>3</th>\n",
       "      <td>3</td>\n",
       "      <td>12115408_2454221</td>\n",
       "      <td>1</td>\n",
       "      <td>2</td>\n",
       "      <td>MRN:                     12115408\\r\\n...... Me...</td>\n",
       "      <td>0</td>\n",
       "      <td>2</td>\n",
       "      <td>MRN:                     12115408\\r\\n...... Me...</td>\n",
       "      <td>12</td>\n",
       "      <td>0</td>\n",
       "      <td>0</td>\n",
       "      <td>0</td>\n",
       "      <td>0</td>\n",
       "    </tr>\n",
       "    <tr>\n",
       "      <th>4</th>\n",
       "      <td>4</td>\n",
       "      <td>11307451_2237089</td>\n",
       "      <td>1</td>\n",
       "      <td>4</td>\n",
       "      <td>MRN:                     11307451\\r\\n...... MR...</td>\n",
       "      <td>0</td>\n",
       "      <td>3</td>\n",
       "      <td>MRN:                     11307451\\r\\n...... MR...</td>\n",
       "      <td>32</td>\n",
       "      <td>0</td>\n",
       "      <td>0</td>\n",
       "      <td>0</td>\n",
       "      <td>1</td>\n",
       "    </tr>\n",
       "  </tbody>\n",
       "</table>\n",
       "</div>"
      ],
      "text/plain": [
       "   Unnamed: 0          pat_visit  m1  n1  \\\n",
       "0           0   12115408_2404622   1   0   \n",
       "1           1  5164967_190590119   1   1   \n",
       "2           2   12115408_2410892   1   1   \n",
       "3           3   12115408_2454221   1   2   \n",
       "4           4   11307451_2237089   1   4   \n",
       "\n",
       "                                                txt1  m2  n2  \\\n",
       "0  MRN:                     12115408\\r\\n...... Me...   0   1   \n",
       "1  MRN: 5164967\\r\\n...... MRN: 5164967\\r\\n...... ...   0   1   \n",
       "2  MRN:                12115408\\r\\n...... MEDICAL...   0   1   \n",
       "3  MRN:                     12115408\\r\\n...... Me...   0   2   \n",
       "4  MRN:                     11307451\\r\\n...... MR...   0   3   \n",
       "\n",
       "                                                txt2  fsize  m1_1  n1_1  m2_1  \\\n",
       "0  MRN:                     12115408\\r\\n...... Me...     12     0     0     0   \n",
       "1  MRN: 5164967\\r\\n...... MRN: 5164967\\r\\n...... ...     12     0     0     0   \n",
       "2  MRN:                12115408\\r\\n...... MEDICAL...     13     0     0     0   \n",
       "3  MRN:                     12115408\\r\\n...... Me...     12     0     0     0   \n",
       "4  MRN:                     11307451\\r\\n...... MR...     32     0     0     0   \n",
       "\n",
       "   n2_1  \n",
       "0     0  \n",
       "1     0  \n",
       "2     0  \n",
       "3     0  \n",
       "4     1  "
      ]
     },
     "execution_count": 16,
     "metadata": {},
     "output_type": "execute_result"
    }
   ],
   "source": [
    "#%%\n",
    "\n",
    "#data = pd.read_csv(\"./results/pat_visit_score_match_1127.csv\")\n",
    "data = pd.read_csv(\"./results/train_1885.csv\")\n",
    "data.head()"
   ]
  },
  {
   "cell_type": "code",
   "execution_count": 17,
   "metadata": {},
   "outputs": [
    {
     "data": {
      "text/plain": [
       "(1885, 13)"
      ]
     },
     "execution_count": 17,
     "metadata": {},
     "output_type": "execute_result"
    }
   ],
   "source": [
    "data.shape\n"
   ]
  },
  {
   "cell_type": "code",
   "execution_count": 18,
   "metadata": {},
   "outputs": [
    {
     "data": {
      "text/html": [
       "<div>\n",
       "<style scoped>\n",
       "    .dataframe tbody tr th:only-of-type {\n",
       "        vertical-align: middle;\n",
       "    }\n",
       "\n",
       "    .dataframe tbody tr th {\n",
       "        vertical-align: top;\n",
       "    }\n",
       "\n",
       "    .dataframe thead th {\n",
       "        text-align: right;\n",
       "    }\n",
       "</style>\n",
       "<table border=\"1\" class=\"dataframe\">\n",
       "  <thead>\n",
       "    <tr style=\"text-align: right;\">\n",
       "      <th></th>\n",
       "      <th>Unnamed: 0</th>\n",
       "      <th>pat_visit</th>\n",
       "      <th>m1</th>\n",
       "      <th>n1</th>\n",
       "      <th>txt1</th>\n",
       "      <th>m2</th>\n",
       "      <th>n2</th>\n",
       "      <th>txt2</th>\n",
       "      <th>fsize</th>\n",
       "      <th>m1_1</th>\n",
       "      <th>n1_1</th>\n",
       "      <th>m2_1</th>\n",
       "      <th>n2_1</th>\n",
       "    </tr>\n",
       "  </thead>\n",
       "  <tbody>\n",
       "    <tr>\n",
       "      <th>718</th>\n",
       "      <td>718</td>\n",
       "      <td>10399566_2070498</td>\n",
       "      <td>4</td>\n",
       "      <td>4</td>\n",
       "      <td>MRN:                     10399566\\r\\n...... Me...</td>\n",
       "      <td>3</td>\n",
       "      <td>3</td>\n",
       "      <td>MRN:                     10399566\\r\\n...... Me...</td>\n",
       "      <td>19</td>\n",
       "      <td>0</td>\n",
       "      <td>0</td>\n",
       "      <td>1</td>\n",
       "      <td>1</td>\n",
       "    </tr>\n",
       "    <tr>\n",
       "      <th>716</th>\n",
       "      <td>716</td>\n",
       "      <td>8933772_190282440</td>\n",
       "      <td>4</td>\n",
       "      <td>4</td>\n",
       "      <td>MRN:  08933772           ...... MRN: 8933772\\r...</td>\n",
       "      <td>3</td>\n",
       "      <td>3</td>\n",
       "      <td>MRN:  08933772           ...... MRN: 8933772\\r...</td>\n",
       "      <td>35</td>\n",
       "      <td>0</td>\n",
       "      <td>0</td>\n",
       "      <td>1</td>\n",
       "      <td>1</td>\n",
       "    </tr>\n",
       "    <tr>\n",
       "      <th>977</th>\n",
       "      <td>977</td>\n",
       "      <td>20323517_185871860</td>\n",
       "      <td>5</td>\n",
       "      <td>9</td>\n",
       "      <td>MRN: 20323517\\r\\n...... MRN: 20323517\\r\\n........</td>\n",
       "      <td>3</td>\n",
       "      <td>3</td>\n",
       "      <td>MRN: 20323517\\r\\n...... MRN: 20323517\\r\\n........</td>\n",
       "      <td>34</td>\n",
       "      <td>1</td>\n",
       "      <td>1</td>\n",
       "      <td>1</td>\n",
       "      <td>1</td>\n",
       "    </tr>\n",
       "    <tr>\n",
       "      <th>1723</th>\n",
       "      <td>1723</td>\n",
       "      <td>9446261_188526717</td>\n",
       "      <td>9</td>\n",
       "      <td>20</td>\n",
       "      <td>MRN: 9446261\\r\\n...... MRN: 9446261\\r\\n...... ...</td>\n",
       "      <td>5</td>\n",
       "      <td>9</td>\n",
       "      <td>MRN: 9446261\\r\\n...... MRN: 9446261\\r\\n...... ...</td>\n",
       "      <td>56</td>\n",
       "      <td>1</td>\n",
       "      <td>1</td>\n",
       "      <td>1</td>\n",
       "      <td>1</td>\n",
       "    </tr>\n",
       "    <tr>\n",
       "      <th>1440</th>\n",
       "      <td>1440</td>\n",
       "      <td>12164331_185732698</td>\n",
       "      <td>7</td>\n",
       "      <td>4</td>\n",
       "      <td>MRN: 12164331\\r\\n...... MRN: 12164331\\r\\n........</td>\n",
       "      <td>4</td>\n",
       "      <td>1</td>\n",
       "      <td>MRN: 12164331\\r\\n...... MRN: 12164331\\r\\n........</td>\n",
       "      <td>24</td>\n",
       "      <td>1</td>\n",
       "      <td>0</td>\n",
       "      <td>1</td>\n",
       "      <td>0</td>\n",
       "    </tr>\n",
       "  </tbody>\n",
       "</table>\n",
       "</div>"
      ],
      "text/plain": [
       "      Unnamed: 0           pat_visit  m1  n1  \\\n",
       "718          718    10399566_2070498   4   4   \n",
       "716          716   8933772_190282440   4   4   \n",
       "977          977  20323517_185871860   5   9   \n",
       "1723        1723   9446261_188526717   9  20   \n",
       "1440        1440  12164331_185732698   7   4   \n",
       "\n",
       "                                                   txt1  m2  n2  \\\n",
       "718   MRN:                     10399566\\r\\n...... Me...   3   3   \n",
       "716   MRN:  08933772           ...... MRN: 8933772\\r...   3   3   \n",
       "977   MRN: 20323517\\r\\n...... MRN: 20323517\\r\\n........   3   3   \n",
       "1723  MRN: 9446261\\r\\n...... MRN: 9446261\\r\\n...... ...   5   9   \n",
       "1440  MRN: 12164331\\r\\n...... MRN: 12164331\\r\\n........   4   1   \n",
       "\n",
       "                                                   txt2  fsize  m1_1  n1_1  \\\n",
       "718   MRN:                     10399566\\r\\n...... Me...     19     0     0   \n",
       "716   MRN:  08933772           ...... MRN: 8933772\\r...     35     0     0   \n",
       "977   MRN: 20323517\\r\\n...... MRN: 20323517\\r\\n........     34     1     1   \n",
       "1723  MRN: 9446261\\r\\n...... MRN: 9446261\\r\\n...... ...     56     1     1   \n",
       "1440  MRN: 12164331\\r\\n...... MRN: 12164331\\r\\n........     24     1     0   \n",
       "\n",
       "      m2_1  n2_1  \n",
       "718      1     1  \n",
       "716      1     1  \n",
       "977      1     1  \n",
       "1723     1     1  \n",
       "1440     1     0  "
      ]
     },
     "execution_count": 18,
     "metadata": {},
     "output_type": "execute_result"
    }
   ],
   "source": [
    "from sklearn.utils import shuffle\n",
    "data = shuffle(data)\n",
    "data.head()"
   ]
  },
  {
   "cell_type": "code",
   "execution_count": 23,
   "metadata": {},
   "outputs": [],
   "source": [
    "labelm=data[data.columns[9]].tolist()\n",
    "labeln=data[data.columns[10]].tolist()\n",
    "labelm2=data[data.columns[11]].tolist()\n",
    "labeln2=data[data.columns[12]].tolist()"
   ]
  },
  {
   "cell_type": "code",
   "execution_count": 24,
   "metadata": {},
   "outputs": [],
   "source": [
    "# "
   ]
  },
  {
   "cell_type": "code",
   "execution_count": 25,
   "metadata": {},
   "outputs": [
    {
     "data": {
      "text/plain": [
       "(0.5506631299734748, 0.5358090185676393)"
      ]
     },
     "execution_count": 25,
     "metadata": {},
     "output_type": "execute_result"
    }
   ],
   "source": [
    "arr_m1 = np.array(labelm)\n",
    "arr_n1 = np.array(labeln)\n",
    "arr_m2 = np.array(labelm2)\n",
    "arr_n2 = np.array(labeln2)\n",
    "sum(arr_m1 == arr_n1)/len(arr_m1), sum(arr_m2 == arr_n2)/len(arr_m2)"
   ]
  },
  {
   "cell_type": "code",
   "execution_count": 28,
   "metadata": {},
   "outputs": [],
   "source": [
    "#%%\n",
    "corpusList=data[data.columns[4]].tolist()"
   ]
  },
  {
   "cell_type": "code",
   "execution_count": 33,
   "metadata": {},
   "outputs": [],
   "source": [
    "corpusList2=data[data.columns[7]].tolist()"
   ]
  },
  {
   "cell_type": "code",
   "execution_count": 30,
   "metadata": {},
   "outputs": [
    {
     "data": {
      "text/plain": [
       "1885"
      ]
     },
     "execution_count": 30,
     "metadata": {},
     "output_type": "execute_result"
    }
   ],
   "source": [
    "len(corpusList)"
   ]
  },
  {
   "cell_type": "code",
   "execution_count": 35,
   "metadata": {},
   "outputs": [
    {
     "data": {
      "text/plain": [
       "1885"
      ]
     },
     "execution_count": 35,
     "metadata": {},
     "output_type": "execute_result"
    }
   ],
   "source": [
    "len(corpusList2)"
   ]
  },
  {
   "cell_type": "code",
   "execution_count": 36,
   "metadata": {},
   "outputs": [],
   "source": [
    "#%%\n",
    "def tokenize(text):\n",
    "    tokens = [word for sent in nltk.sent_tokenize(text) for word in nltk.word_tokenize(sent)]\n",
    "    filtered_tokens = [ token for token in tokens if re.search('(^[a-zA-Z]+$)', token) ]\n",
    "    a=[]\n",
    "    for i in filtered_tokens:\n",
    "        a.append(WordNetLemmatizer().lemmatize(i,'v'))\n",
    "    return a\n",
    "    #return filtered_tokens\n",
    "\n",
    "\n",
    "cachedStopWords = stopwords.words(\"english\")"
   ]
  },
  {
   "cell_type": "code",
   "execution_count": 32,
   "metadata": {},
   "outputs": [
    {
     "name": "stdout",
     "output_type": "stream",
     "text": [
      "\n",
      "(1885, 2461089)\n"
     ]
    }
   ],
   "source": [
    "#%%\n",
    "cv = TfidfVectorizer(lowercase=True,\n",
    "                     ngram_range=(1, 4), preprocessor=None, stop_words='english',\n",
    "                     strip_accents=None, tokenizer=tokenize, vocabulary=None)\n",
    "X1 = cv.fit_transform(corpusList)\n",
    "lexicon = cv.get_feature_names()\n",
    "#print (lexicon)\n",
    "print()\n",
    "\n",
    "#%%\n",
    "x=X1  ## for select fetures \n",
    "print(x.shape)\n",
    "\n",
    "pkl.dump( x, open( \"./results/tfidf_1885.pickle\", \"wb\" ) )\n",
    "pkl.dump( lexicon, open( \"./results/lexicon_1885.pickle\", \"wb\" ) )\n",
    "#x1 = pkl.load( open( \"./results/tfidf_4801395.pickle\", \"rb\" ) )\n",
    "#lexicon1 = pkl.load( open( \"./results/lexicon_4801395.pickle\", \"rb\" ) )"
   ]
  },
  {
   "cell_type": "code",
   "execution_count": 37,
   "metadata": {},
   "outputs": [
    {
     "name": "stdout",
     "output_type": "stream",
     "text": [
      "\n",
      "(1885, 1826545)\n"
     ]
    }
   ],
   "source": [
    "#%%\n",
    "cv2 = TfidfVectorizer(lowercase=True,\n",
    "                     ngram_range=(1, 4), preprocessor=None, stop_words='english',\n",
    "                     strip_accents=None, tokenizer=tokenize, vocabulary=None)\n",
    "X2 = cv2.fit_transform(corpusList2)\n",
    "lexicon2 = cv2.get_feature_names()\n",
    "#print (lexicon)\n",
    "print()\n",
    "\n",
    "#%%\n",
    "x2=X2  ## for select fetures \n",
    "print(x2.shape)\n",
    "\n",
    "pkl.dump( x2, open( \"./results/tfidf_1885_2.pickle\", \"wb\" ) )\n",
    "pkl.dump( lexicon2, open( \"./results/lexicon_1885_2.pickle\", \"wb\" ) )\n",
    "#x1 = pkl.load( open( \"./results/tfidf_4801395.pickle\", \"rb\" ) )\n",
    "#lexicon1 = pkl.load( open( \"./results/lexicon_4801395.pickle\", \"rb\" ) )"
   ]
  },
  {
   "cell_type": "code",
   "execution_count": 18,
   "metadata": {},
   "outputs": [
    {
     "data": {
      "text/plain": [
       "scipy.sparse.csr.csr_matrix"
      ]
     },
     "execution_count": 18,
     "metadata": {},
     "output_type": "execute_result"
    }
   ],
   "source": [
    "type(x)"
   ]
  },
  {
   "cell_type": "code",
   "execution_count": null,
   "metadata": {},
   "outputs": [],
   "source": [
    "\n"
   ]
  },
  {
   "cell_type": "code",
   "execution_count": 38,
   "metadata": {},
   "outputs": [],
   "source": [
    "Ym = np.array(labelm)\n",
    "Yn = np.array(labeln)\n",
    "Ym2 = np.array(labelm2)\n",
    "Yn2 = np.array(labeln2)\n",
    "pkl.dump( Ym, open( \"./results/ym_1885.pickle\", \"wb\" ) )\n",
    "pkl.dump( Yn, open( \"./results/yn_1885.pickle\", \"wb\" ) )\n",
    "pkl.dump( Ym2, open( \"./results/ym_1885_2.pickle\", \"wb\" ) )\n",
    "pkl.dump( Yn2, open( \"./results/yn_1885_2.pickle\", \"wb\" ) )\n",
    "#print(Y)  ## class level"
   ]
  },
  {
   "cell_type": "code",
   "execution_count": null,
   "metadata": {},
   "outputs": [],
   "source": [
    "\"\"\"#%%\n",
    "#test\n",
    "cvt = TfidfVectorizer(lowercase=True,\n",
    "                     ngram_range=(1, 3), preprocessor=None, stop_words='english',\n",
    "                     strip_accents=None, tokenizer=tokenize, vocabulary=None)\n",
    "\n",
    "X1t = cvt.fit_transform(corpusList_test)\n",
    "print(X1t.shape)\n",
    "print()\n",
    "lexicon_test = cvt.get_feature_names()\n",
    "#print (lexicon)\n",
    "print()\n",
    "\n",
    "#%%\n",
    "xt=X1t  ## for select fetures \n",
    "print(xt.shape)\n",
    "\n",
    "Ym = np.array(labels_testm)\n",
    "Yn = np.array(labels_testn)\"\"\""
   ]
  },
  {
   "cell_type": "code",
   "execution_count": null,
   "metadata": {},
   "outputs": [],
   "source": []
  },
  {
   "cell_type": "code",
   "execution_count": 40,
   "metadata": {},
   "outputs": [
    {
     "name": "stdout",
     "output_type": "stream",
     "text": [
      "[0 0 1 1 1 0 1 0 1 1] [1 0 0 0 1 1 1 0 0 1] [1 1 1 1 0 1 0 0 1 1 1 1 0 1 0 1 1 1 0 0]\n",
      "[0 0 1 1 0 1 1 0 0 0] [0 0 0 1 0 1 1 0 1 0] [1 1 1 1 0 1 0 0 1 0 1 0 0 0 0 0 1 1 0 0]\n",
      "[1 1 1 1 1 0 1 1 1 1] [1 1 0 1 1 1 1 1 0 1] [1 1 1 1 0 1 1 1 1 0 1 1 0 1 0 0 1 1 1 1]\n",
      "[1 1 1 1 0 0 1 0 0 0] [0 1 1 1 1 1 1 0 1 0] [1 1 1 1 0 1 0 0 1 1 0 0 0 0 0 0 1 1 0 0]\n"
     ]
    }
   ],
   "source": [
    "print(Ym[0:10], Ym[480:490], Ym[1865:])  ## class level\n",
    "print(Yn[0:10], Yn[480:490], Yn[1865:])  ## class level\n",
    "print(Ym2[0:10], Ym2[480:490], Ym2[1865:])  ## class level\n",
    "print(Yn2[0:10], Yn2[480:490], Yn2[1865:])  ## class level"
   ]
  },
  {
   "cell_type": "code",
   "execution_count": 41,
   "metadata": {},
   "outputs": [],
   "source": [
    "#%%\n",
    "from sklearn.feature_selection import SelectKBest\n",
    "from sklearn.feature_selection import chi2\n",
    "\n",
    "#print(x.shape)"
   ]
  },
  {
   "cell_type": "code",
   "execution_count": 42,
   "metadata": {},
   "outputs": [
    {
     "name": "stdout",
     "output_type": "stream",
     "text": [
      "(1885, 800)\n"
     ]
    }
   ],
   "source": [
    "X_new = SelectKBest(chi2, k=800).fit_transform(x, Yn)   # select 800 features\n",
    "\n",
    "#%%\n",
    "X=X_new        # make unque name for next cell \n",
    "print(X.shape)\n",
    "#Y"
   ]
  },
  {
   "cell_type": "code",
   "execution_count": 43,
   "metadata": {},
   "outputs": [],
   "source": [
    "pkl.dump( X, open( \"./results/tfidf_1885_800.pickle\", \"wb\" ) )"
   ]
  },
  {
   "cell_type": "code",
   "execution_count": 44,
   "metadata": {},
   "outputs": [],
   "source": [
    "X_new2 = SelectKBest(chi2, k=800).fit_transform(x2, Yn2)\n",
    "pkl.dump( X_new2, open( \"./results/tfidf_1885_2_800.pickle\", \"wb\" ) )"
   ]
  },
  {
   "cell_type": "markdown",
   "metadata": {},
   "source": [
    "# Start Here"
   ]
  },
  {
   "cell_type": "code",
   "execution_count": 45,
   "metadata": {},
   "outputs": [],
   "source": [
    "X_new = pkl.load( open( \"./results/tfidf_1885_800.pickle\", \"rb\" ) )\n",
    "Ym = pkl.load( open( \"./results/ym_1885.pickle\", \"rb\" ) )\n",
    "Yn = pkl.load( open( \"./results/yn_1885.pickle\", \"rb\" ) )"
   ]
  },
  {
   "cell_type": "code",
   "execution_count": 46,
   "metadata": {},
   "outputs": [],
   "source": [
    "X = X_new[:1000]\n",
    "X2 = X_new[1000:]\n",
    "Y = Yn[:1000]\n",
    "Y2 = Yn[1000:]\n",
    "Ym1 = Ym[:1000]\n",
    "Ym2 = Ym[1000:]"
   ]
  },
  {
   "cell_type": "code",
   "execution_count": 37,
   "metadata": {},
   "outputs": [
    {
     "data": {
      "text/plain": [
       "(1395, 600)"
      ]
     },
     "execution_count": 37,
     "metadata": {},
     "output_type": "execute_result"
    }
   ],
   "source": [
    "\"\"\"\"X2_new = SelectKBest(chi2, k=600).fit_transform(xt, Ym)   # select 600 features\n",
    "X2_new.shape\n",
    "\n",
    "#%%\n",
    "X2=X2_new        # make unque name for next cell \n",
    "X2_new.shape\"\"\"\""
   ]
  },
  {
   "cell_type": "code",
   "execution_count": 47,
   "metadata": {},
   "outputs": [
    {
     "name": "stdout",
     "output_type": "stream",
     "text": [
      "model  0 : ExtraTreesClassifier = 10\n",
      "   Fold 1 accuracy: 68.00 %\n",
      "   Fold 2 accuracy: 66.00 %\n",
      "   Fold 3 accuracy: 73.00 %\n",
      "   Fold 4 accuracy: 74.00 %\n",
      "   Fold 5 accuracy: 82.00 %\n",
      "   Fold 6 accuracy: 80.00 %\n",
      "   Fold 7 accuracy: 78.00 %\n",
      "   Fold 8 accuracy: 73.00 %\n",
      "   Fold 9 accuracy: 79.00 %\n",
      "   Fold 10 accuracy: 70.00 %\n",
      "     Overall test accuracy: 74.30 %\n",
      "     Overall training accuracy: 99.70 %\n",
      "model  1 : ExtraTreesClassifier = 30\n",
      "   Fold 1 accuracy: 81.00 %\n",
      "   Fold 2 accuracy: 78.00 %\n",
      "   Fold 3 accuracy: 67.00 %\n",
      "   Fold 4 accuracy: 75.00 %\n",
      "   Fold 5 accuracy: 79.00 %\n",
      "   Fold 6 accuracy: 79.00 %\n",
      "   Fold 7 accuracy: 75.00 %\n",
      "   Fold 8 accuracy: 75.00 %\n",
      "   Fold 9 accuracy: 77.00 %\n",
      "   Fold 10 accuracy: 78.00 %\n",
      "     Overall test accuracy: 76.40 %\n",
      "     Overall training accuracy: 99.70 %\n",
      "model  2 : ExtraTreesClassifier = 60\n",
      "   Fold 1 accuracy: 83.00 %\n",
      "   Fold 2 accuracy: 79.00 %\n",
      "   Fold 3 accuracy: 77.00 %\n",
      "   Fold 4 accuracy: 71.00 %\n",
      "   Fold 5 accuracy: 73.00 %\n",
      "   Fold 6 accuracy: 82.00 %\n",
      "   Fold 7 accuracy: 85.00 %\n",
      "   Fold 8 accuracy: 69.00 %\n",
      "   Fold 9 accuracy: 72.00 %\n",
      "   Fold 10 accuracy: 82.00 %\n",
      "     Overall test accuracy: 77.30 %\n",
      "     Overall training accuracy: 99.70 %\n",
      "model  3 : ExtraTreesClassifier = 100\n",
      "   Fold 1 accuracy: 78.00 %\n",
      "   Fold 2 accuracy: 80.00 %\n",
      "   Fold 3 accuracy: 75.00 %\n",
      "   Fold 4 accuracy: 75.00 %\n",
      "   Fold 5 accuracy: 76.00 %\n",
      "   Fold 6 accuracy: 71.00 %\n",
      "   Fold 7 accuracy: 78.00 %\n",
      "   Fold 8 accuracy: 80.00 %\n",
      "   Fold 9 accuracy: 75.00 %\n",
      "   Fold 10 accuracy: 74.00 %\n",
      "     Overall test accuracy: 76.20 %\n",
      "     Overall training accuracy: 99.60 %\n",
      "model  4 : ExtraTreesClassifier = 300\n",
      "   Fold 1 accuracy: 81.00 %\n",
      "   Fold 2 accuracy: 67.00 %\n",
      "   Fold 3 accuracy: 72.00 %\n",
      "   Fold 4 accuracy: 72.00 %\n",
      "   Fold 5 accuracy: 75.00 %\n",
      "   Fold 6 accuracy: 83.00 %\n",
      "   Fold 7 accuracy: 76.00 %\n",
      "   Fold 8 accuracy: 77.00 %\n",
      "   Fold 9 accuracy: 78.00 %\n",
      "   Fold 10 accuracy: 77.00 %\n",
      "     Overall test accuracy: 75.80 %\n",
      "     Overall training accuracy: 99.60 %\n",
      "model  5 : ExtraTreesClassifier = 500\n",
      "   Fold 1 accuracy: 76.00 %\n",
      "   Fold 2 accuracy: 68.00 %\n",
      "   Fold 3 accuracy: 75.00 %\n",
      "   Fold 4 accuracy: 79.00 %\n",
      "   Fold 5 accuracy: 81.00 %\n",
      "   Fold 6 accuracy: 87.00 %\n",
      "   Fold 7 accuracy: 74.00 %\n",
      "   Fold 8 accuracy: 79.00 %\n",
      "   Fold 9 accuracy: 79.00 %\n",
      "   Fold 10 accuracy: 72.00 %\n",
      "     Overall test accuracy: 77.00 %\n",
      "     Overall training accuracy: 99.80 %\n"
     ]
    }
   ],
   "source": [
    "#%%\n",
    "# ExtraTreesClassifier\n",
    "model=0\n",
    "results = []\n",
    "cont = []\n",
    "kf = KFold(n_splits=10, shuffle=True)\n",
    "trees = [10, 30, 60, 100, 300, 500]\n",
    "for t in range(len(trees)):\n",
    "    fold = 1\n",
    "    truth = []\n",
    "    rf_prediction = []\n",
    "    print(\"model \", t, \": ExtraTreesClassifier = \" + str(trees[t]))\n",
    "    test_count = 0\n",
    "    rf = ExtraTreesClassifier(bootstrap=False,\n",
    "           criterion='entropy', max_depth=15, max_features=0.9,\n",
    "           max_leaf_nodes=None, min_impurity_decrease=1e-045,\n",
    "           min_samples_leaf=1, min_samples_split=3,\n",
    "           min_weight_fraction_leaf=0.0, n_estimators=trees[t], n_jobs=-1,\n",
    "           oob_score=False, random_state=None, verbose=0, warm_start=False)\n",
    "    for train_idx, test_idx in kf.split(X):\n",
    "        trainX = X[train_idx]\n",
    "        trainY = Y[train_idx]\n",
    "        testX = X[test_idx]\n",
    "        testY = Y[test_idx]\n",
    "        truth.append(testY)\n",
    "        rf.fit(trainX, trainY)\n",
    "        Y_hat = rf.predict(testX)\n",
    "        rf_prediction.append(Y_hat)\n",
    "        print(\"   Fold %d accuracy: %.2f %%\" % (fold, ((np.sum(Y_hat == testY)/len(testY)) * 100.0)))                        \n",
    "        fold += 1\n",
    "    truth = np.concatenate(truth, axis=0)    \n",
    "    rf_prediction = np.concatenate(rf_prediction, axis=0)\n",
    "    test_results = np.sum(rf_prediction == truth)/len(truth)\n",
    "    print(\"     Overall test accuracy: %.2f %%\" % (test_results * 100))  \n",
    "    rf = rf.fit(X, Y)\n",
    "    Y_hat = rf.predict(X)\n",
    "    train_results = np.sum(Y_hat == Y)/len(Y)\n",
    "    print(\"     Overall training accuracy: %.2f %%\" % (train_results * 100.0))  \n",
    "    results.append([train_results, test_results])   \n",
    "    cont.append([truth, rf_prediction])"
   ]
  },
  {
   "cell_type": "code",
   "execution_count": 48,
   "metadata": {},
   "outputs": [],
   "source": [
    "rf = ExtraTreesClassifier(bootstrap=False,\n",
    "       criterion='entropy', max_depth=15, max_features=0.9,\n",
    "       max_leaf_nodes=None, min_impurity_decrease=1e-045,\n",
    "       min_samples_leaf=1, min_samples_split=3,\n",
    "       min_weight_fraction_leaf=0.0, n_estimators=60, n_jobs=-1,      #trees[t] = 100\n",
    "       oob_score=False, random_state=None, verbose=0, warm_start=False)"
   ]
  },
  {
   "cell_type": "code",
   "execution_count": 49,
   "metadata": {},
   "outputs": [
    {
     "name": "stdout",
     "output_type": "stream",
     "text": [
      "365\n",
      "vm  0.503954802259887\n",
      "vn  0.7604519774011299\n",
      "nlp\n",
      "precision:  0.7808219178082192\n",
      "recall:  0.6834532374100719\n",
      "F1:  0.7289002557544757\n",
      "nlp0\n",
      "precision:  0.7461538461538462\n",
      "recall:  0.8290598290598291\n",
      "F1:  0.7289002557544757\n",
      "ave\n",
      "precision:  0.7634878819810327\n",
      "recall:  0.7562565332349505\n",
      "F1:  0.7289002557544757\n"
     ]
    }
   ],
   "source": [
    "train_num = 1\n",
    "for i in range(train_num):\n",
    "    rf.fit(X, Y)\n",
    "    Y2_hat = rf.predict(X2)\n",
    "    vm = np.sum(Y2_hat == Ym2)/len(Ym2)\n",
    "    vn = np.sum(Y2_hat == Y2)/len(Y2)\n",
    "    print(np.sum(Y2_hat))\n",
    "    print(\"vm \", vm)\n",
    "    print(\"vn \",vn)\n",
    "    \n",
    "precision = np.sum(Y2_hat + Y2 == 2)/np.sum(Y2_hat)\n",
    "recall = np.sum(Y2_hat + Y2 == 2)/np.sum(Y2)\n",
    "f1 = 2*precision*recall/(precision+recall)\n",
    "print(\"nlp\")\n",
    "print(\"precision: \", precision)\n",
    "print(\"recall: \", recall)\n",
    "print(\"F1: \", f1)\n",
    "\n",
    "precision0 = np.sum(Y2_hat + Y2 == 0)/(len(Y2_hat)-np.sum(Y2_hat))\n",
    "recall0 = np.sum(Y2_hat + Y2 == 0)/(len(Y2)-np.sum(Y2))\n",
    "f10 = 2*precision*recall/(precision+recall)\n",
    "print(\"nlp0\")\n",
    "print(\"precision: \", precision0)\n",
    "print(\"recall: \", recall0)\n",
    "print(\"F1: \", f10)\n",
    "\n",
    "print(\"ave\")\n",
    "print(\"precision: \", (precision+precision0)/2)\n",
    "print(\"recall: \", (recall+recall0)/2)\n",
    "print(\"F1: \", (f1+f10)/2)"
   ]
  },
  {
   "cell_type": "code",
   "execution_count": null,
   "metadata": {},
   "outputs": [],
   "source": []
  },
  {
   "cell_type": "code",
   "execution_count": 50,
   "metadata": {},
   "outputs": [
    {
     "name": "stdout",
     "output_type": "stream",
     "text": [
      "(885, 800)\n",
      "885\n"
     ]
    }
   ],
   "source": [
    "print(X2.shape)\n",
    "print(len(Y2_hat))"
   ]
  },
  {
   "cell_type": "code",
   "execution_count": 51,
   "metadata": {},
   "outputs": [
    {
     "name": "stdout",
     "output_type": "stream",
     "text": [
      "Enter Best Model: 2\n",
      "\n",
      "ExtraTrees\n",
      "         no  social  Total\n",
      "no      452     145    597\n",
      "social   82     321    403\n",
      "Total   534     466   1000\n",
      "\n"
     ]
    }
   ],
   "source": [
    "#%%\n",
    "model = input(\"Enter Best Model: \")\n",
    "best = cont[int(model)]\n",
    "rf_ct = pd.crosstab(best[1], best[0], margins=True)\n",
    "rf_ct.columns = [\"no\", \"social\", \"Total\"]\n",
    "rf_ct.index = [\"no\", \"social\", \"Total\"]\n",
    "print()\n",
    "print(\"ExtraTrees\")\n",
    "print(rf_ct)\n",
    "print()"
   ]
  },
  {
   "cell_type": "code",
   "execution_count": 52,
   "metadata": {},
   "outputs": [
    {
     "name": "stdout",
     "output_type": "stream",
     "text": [
      "[[452  82]\n",
      " [145 321]]\n",
      "0.7387802071346375\n"
     ]
    }
   ],
   "source": [
    "#%%\n",
    "from sklearn.metrics import confusion_matrix\n",
    "from sklearn.metrics import recall_score,f1_score,precision_score,accuracy_score,classification_report\n",
    "y_true =cont[int(model)][0]\n",
    "y_pred = cont[int(model)][1]\n",
    "print(confusion_matrix(y_true, y_pred))\n",
    "print(f1_score(y_true, y_pred) )"
   ]
  },
  {
   "cell_type": "code",
   "execution_count": 53,
   "metadata": {},
   "outputs": [
    {
     "name": "stdout",
     "output_type": "stream",
     "text": [
      "0.6888412017167382\n",
      "0.7965260545905707\n",
      "0.773\n",
      "             precision    recall  f1-score   support\n",
      "\n",
      "          0       0.76      0.85      0.80       534\n",
      "          1       0.80      0.69      0.74       466\n",
      "\n",
      "avg / total       0.78      0.77      0.77      1000\n",
      "\n"
     ]
    }
   ],
   "source": [
    "print(recall_score(y_true, y_pred),   )\n",
    "print(precision_score(y_true, y_pred))\n",
    "print(accuracy_score(y_true, y_pred))\n",
    "\n",
    "print(classification_report(y_true, y_pred))"
   ]
  },
  {
   "cell_type": "code",
   "execution_count": 54,
   "metadata": {},
   "outputs": [
    {
     "name": "stdout",
     "output_type": "stream",
     "text": [
      "ExtraTrees: Sensitivity: 0.68884 Specificity: 0.84644 PPV: 0.79653 NPV: 0.75712 Accuracy: 0.77300\n"
     ]
    }
   ],
   "source": [
    "#%%\n",
    "\n",
    "Sens = rf_ct.iloc[1][1]/rf_ct.iloc[2][1]\n",
    "Spec = rf_ct.iloc[0][0]/rf_ct.iloc[2][0]\n",
    "PPV = rf_ct.iloc[1][1]/rf_ct.iloc[1][2]\n",
    "NPV = rf_ct.iloc[0][0]/rf_ct.iloc[0][2]\n",
    "ACC = (rf_ct.iloc[0][0] + rf_ct.iloc[1][1]) / rf_ct.iloc[2][2]\n",
    "print(\"ExtraTrees: Sensitivity: %.5f Specificity: %.5f PPV: %.5f NPV: %.5f Accuracy: %.5f\" % (Sens, Spec, PPV, NPV, ACC))"
   ]
  },
  {
   "cell_type": "code",
   "execution_count": 55,
   "metadata": {},
   "outputs": [
    {
     "data": {
      "image/png": "[encoded data removed]",
      "text/plain": [
       "<Figure size 432x288 with 1 Axes>"
      ]
     },
     "metadata": {},
     "output_type": "display_data"
    },
    {
     "name": "stdout",
     "output_type": "stream",
     "text": [
      "AUC =  0.7676415746411407\n"
     ]
    }
   ],
   "source": [
    "#%%\n",
    "rf_fpr, rf_tpr, rf_thresholds = roc_curve(best[0], best[1], pos_label=1)\n",
    "roc_auc = auc(rf_fpr, rf_tpr)\n",
    "plt.figure(1)\n",
    "plt.plot([0, 1], [0, 1], 'k--')\n",
    "plt.plot(rf_fpr, rf_tpr, label='ExtraTrees')\n",
    "plt.xlabel('False positive rate (1 - Specificity)')\n",
    "plt.ylabel('True Positive Rate (Sensitivity)')\n",
    "plt.title('ROC curve')\n",
    "plt.legend(loc='best')\n",
    "plt.show()\n",
    "print(\"AUC = \", roc_auc)"
   ]
  },
  {
   "cell_type": "code",
   "execution_count": 56,
   "metadata": {},
   "outputs": [
    {
     "name": "stdout",
     "output_type": "stream",
     "text": [
      "model 0: SVM RBF Gamma=1.000 C=1.00\n",
      "   Fold 1 accuracy: 65.00 %\n",
      "   Fold 2 accuracy: 76.00 %\n",
      "   Fold 3 accuracy: 72.00 %\n",
      "   Fold 4 accuracy: 72.00 %\n",
      "   Fold 5 accuracy: 66.00 %\n",
      "   Fold 6 accuracy: 74.00 %\n",
      "   Fold 7 accuracy: 68.00 %\n",
      "   Fold 8 accuracy: 71.00 %\n",
      "   Fold 9 accuracy: 76.00 %\n",
      "   Fold 10 accuracy: 73.00 %\n",
      "     Overall test accuracy: 71.30 %\n",
      "     Overall training accuracy: 72.60 %\n",
      "model 1: SVM RBF Gamma=1.000 C=2.00\n",
      "   Fold 1 accuracy: 71.00 %\n",
      "   Fold 2 accuracy: 73.00 %\n",
      "   Fold 3 accuracy: 77.00 %\n",
      "   Fold 4 accuracy: 75.00 %\n",
      "   Fold 5 accuracy: 75.00 %\n",
      "   Fold 6 accuracy: 70.00 %\n",
      "   Fold 7 accuracy: 72.00 %\n",
      "   Fold 8 accuracy: 72.00 %\n",
      "   Fold 9 accuracy: 73.00 %\n",
      "   Fold 10 accuracy: 79.00 %\n",
      "     Overall test accuracy: 73.70 %\n",
      "     Overall training accuracy: 75.90 %\n",
      "model 2: SVM RBF Gamma=1.000 C=4.00\n",
      "   Fold 1 accuracy: 76.00 %\n",
      "   Fold 2 accuracy: 78.00 %\n",
      "   Fold 3 accuracy: 74.00 %\n",
      "   Fold 4 accuracy: 74.00 %\n",
      "   Fold 5 accuracy: 78.00 %\n",
      "   Fold 6 accuracy: 74.00 %\n",
      "   Fold 7 accuracy: 80.00 %\n",
      "   Fold 8 accuracy: 68.00 %\n",
      "   Fold 9 accuracy: 72.00 %\n",
      "   Fold 10 accuracy: 77.00 %\n",
      "     Overall test accuracy: 75.10 %\n",
      "     Overall training accuracy: 77.40 %\n",
      "model 3: SVM RBF Gamma=1.000 C=6.00\n",
      "   Fold 1 accuracy: 80.00 %\n",
      "   Fold 2 accuracy: 75.00 %\n",
      "   Fold 3 accuracy: 75.00 %\n",
      "   Fold 4 accuracy: 67.00 %\n",
      "   Fold 5 accuracy: 68.00 %\n",
      "   Fold 6 accuracy: 81.00 %\n",
      "   Fold 7 accuracy: 81.00 %\n",
      "   Fold 8 accuracy: 70.00 %\n",
      "   Fold 9 accuracy: 78.00 %\n",
      "   Fold 10 accuracy: 78.00 %\n",
      "     Overall test accuracy: 75.30 %\n",
      "     Overall training accuracy: 78.40 %\n",
      "model 4: SVM RBF Gamma=1.000 C=8.00\n",
      "   Fold 1 accuracy: 73.00 %\n",
      "   Fold 2 accuracy: 77.00 %\n",
      "   Fold 3 accuracy: 75.00 %\n",
      "   Fold 4 accuracy: 70.00 %\n",
      "   Fold 5 accuracy: 73.00 %\n",
      "   Fold 6 accuracy: 82.00 %\n",
      "   Fold 7 accuracy: 75.00 %\n",
      "   Fold 8 accuracy: 79.00 %\n",
      "   Fold 9 accuracy: 80.00 %\n",
      "   Fold 10 accuracy: 73.00 %\n",
      "     Overall test accuracy: 75.70 %\n",
      "     Overall training accuracy: 79.10 %\n",
      "model 5: SVM RBF Gamma=1.000 C=10.00\n",
      "   Fold 1 accuracy: 68.00 %\n",
      "   Fold 2 accuracy: 74.00 %\n",
      "   Fold 3 accuracy: 81.00 %\n",
      "   Fold 4 accuracy: 72.00 %\n",
      "   Fold 5 accuracy: 76.00 %\n",
      "   Fold 6 accuracy: 83.00 %\n",
      "   Fold 7 accuracy: 74.00 %\n",
      "   Fold 8 accuracy: 74.00 %\n",
      "   Fold 9 accuracy: 78.00 %\n",
      "   Fold 10 accuracy: 71.00 %\n",
      "     Overall test accuracy: 75.10 %\n",
      "     Overall training accuracy: 79.80 %\n",
      "model 6: SVM RBF Gamma=2.000 C=1.00\n",
      "   Fold 1 accuracy: 72.00 %\n",
      "   Fold 2 accuracy: 75.00 %\n",
      "   Fold 3 accuracy: 67.00 %\n",
      "   Fold 4 accuracy: 76.00 %\n",
      "   Fold 5 accuracy: 70.00 %\n",
      "   Fold 6 accuracy: 83.00 %\n",
      "   Fold 7 accuracy: 65.00 %\n",
      "   Fold 8 accuracy: 77.00 %\n",
      "   Fold 9 accuracy: 78.00 %\n",
      "   Fold 10 accuracy: 76.00 %\n",
      "     Overall test accuracy: 73.90 %\n",
      "     Overall training accuracy: 75.70 %\n",
      "model 7: SVM RBF Gamma=2.000 C=2.00\n",
      "   Fold 1 accuracy: 72.00 %\n",
      "   Fold 2 accuracy: 68.00 %\n",
      "   Fold 3 accuracy: 71.00 %\n",
      "   Fold 4 accuracy: 80.00 %\n",
      "   Fold 5 accuracy: 77.00 %\n",
      "   Fold 6 accuracy: 67.00 %\n",
      "   Fold 7 accuracy: 74.00 %\n",
      "   Fold 8 accuracy: 80.00 %\n",
      "   Fold 9 accuracy: 76.00 %\n",
      "   Fold 10 accuracy: 78.00 %\n",
      "     Overall test accuracy: 74.30 %\n",
      "     Overall training accuracy: 77.20 %\n",
      "model 8: SVM RBF Gamma=2.000 C=4.00\n",
      "   Fold 1 accuracy: 79.00 %\n",
      "   Fold 2 accuracy: 74.00 %\n",
      "   Fold 3 accuracy: 83.00 %\n",
      "   Fold 4 accuracy: 64.00 %\n",
      "   Fold 5 accuracy: 79.00 %\n",
      "   Fold 6 accuracy: 77.00 %\n",
      "   Fold 7 accuracy: 75.00 %\n",
      "   Fold 8 accuracy: 83.00 %\n",
      "   Fold 9 accuracy: 78.00 %\n",
      "   Fold 10 accuracy: 64.00 %\n",
      "     Overall test accuracy: 75.60 %\n",
      "     Overall training accuracy: 79.40 %\n",
      "model 9: SVM RBF Gamma=2.000 C=6.00\n",
      "   Fold 1 accuracy: 73.00 %\n",
      "   Fold 2 accuracy: 84.00 %\n",
      "   Fold 3 accuracy: 81.00 %\n",
      "   Fold 4 accuracy: 76.00 %\n",
      "   Fold 5 accuracy: 75.00 %\n",
      "   Fold 6 accuracy: 76.00 %\n",
      "   Fold 7 accuracy: 72.00 %\n",
      "   Fold 8 accuracy: 78.00 %\n",
      "   Fold 9 accuracy: 68.00 %\n",
      "   Fold 10 accuracy: 79.00 %\n",
      "     Overall test accuracy: 76.20 %\n",
      "     Overall training accuracy: 80.50 %\n",
      "model 10: SVM RBF Gamma=2.000 C=8.00\n",
      "   Fold 1 accuracy: 72.00 %\n",
      "   Fold 2 accuracy: 74.00 %\n",
      "   Fold 3 accuracy: 79.00 %\n",
      "   Fold 4 accuracy: 73.00 %\n",
      "   Fold 5 accuracy: 71.00 %\n",
      "   Fold 6 accuracy: 76.00 %\n",
      "   Fold 7 accuracy: 77.00 %\n",
      "   Fold 8 accuracy: 74.00 %\n",
      "   Fold 9 accuracy: 74.00 %\n",
      "   Fold 10 accuracy: 82.00 %\n",
      "     Overall test accuracy: 75.20 %\n",
      "     Overall training accuracy: 81.00 %\n",
      "model 11: SVM RBF Gamma=2.000 C=10.00\n",
      "   Fold 1 accuracy: 78.00 %\n",
      "   Fold 2 accuracy: 76.00 %\n",
      "   Fold 3 accuracy: 77.00 %\n",
      "   Fold 4 accuracy: 84.00 %\n",
      "   Fold 5 accuracy: 80.00 %\n",
      "   Fold 6 accuracy: 78.00 %\n",
      "   Fold 7 accuracy: 77.00 %\n",
      "   Fold 8 accuracy: 73.00 %\n",
      "   Fold 9 accuracy: 69.00 %\n",
      "   Fold 10 accuracy: 73.00 %\n",
      "     Overall test accuracy: 76.50 %\n",
      "     Overall training accuracy: 81.60 %\n"
     ]
    }
   ],
   "source": [
    "#%%\n",
    "# SVM\n",
    "model = 0\n",
    "cont = []\n",
    "results = pd.DataFrame(columns=('name', 'accuracy'))\n",
    "kf = KFold(n_splits=10, shuffle=True)\n",
    "C = [1,2,4,6,8,10]\n",
    "gamma = [1,2]  \n",
    "for g in range(len(gamma)):\n",
    "    acc = []\n",
    "    name = \"SVM RBF Gamma=%.3f\" % (gamma[g])     \n",
    "    for c in range(len(C)):\n",
    "        fold = 1\n",
    "        truth = []\n",
    "        svm_prediction = []\n",
    "        print(\"model %d: SVM RBF Gamma=%.3f C=%.2f\" % (model, gamma[g], C[c]))        \n",
    "        test_count = 0\n",
    "        svm = SVC(C=C[c], kernel='rbf', gamma=gamma[g])\n",
    "        for train_idx, test_idx in kf.split(X):\n",
    "            trainX = X[train_idx]\n",
    "            trainY = Y[train_idx]\n",
    "            testX = X[test_idx]\n",
    "            testY = Y[test_idx]\n",
    "            truth.append(testY)\n",
    "            svm.fit(trainX, trainY)\n",
    "            Y_hat = svm.predict(testX)\n",
    "            svm_prediction.append(Y_hat)\n",
    "            print(\"   Fold %d accuracy: %.2f %%\" % (fold, ((np.sum(Y_hat == testY)/len(testY)) * 100.0)))                        \n",
    "            fold += 1\n",
    "        truth = np.concatenate(truth, axis=0)    \n",
    "        svm_prediction = np.concatenate(svm_prediction, axis=0)\n",
    "        test_results = np.sum(svm_prediction == truth)/len(truth)\n",
    "        print(\"     Overall test accuracy: %.2f %%\" % (test_results * 100))  \n",
    "        svm = svm.fit(X, Y)\n",
    "        Y_hat = svm.predict(X)\n",
    "        train_results = np.sum(Y_hat == Y)/len(Y)\n",
    "        print(\"     Overall training accuracy: %.2f %%\" % (train_results * 100.0))  \n",
    "        acc.append([train_results, test_results])   \n",
    "        cont.append([truth, svm_prediction])\n",
    "        model += 1\n",
    "    results = results.append({'name': name, 'accuracy' : acc}, ignore_index=True)"
   ]
  },
  {
   "cell_type": "code",
   "execution_count": 62,
   "metadata": {},
   "outputs": [
    {
     "name": "stdout",
     "output_type": "stream",
     "text": [
      "303\n",
      "vm  0.48135593220338985\n",
      "vn  0.7559322033898305\n",
      "nlp\n",
      "precision:  0.8316831683168316\n",
      "recall:  0.60431654676259\n",
      "F1:  0.7\n",
      "nlp0\n",
      "precision:  0.7164948453608248\n",
      "recall:  0.8910256410256411\n",
      "F1:  0.7\n",
      "ave\n",
      "precision:  0.7740890068388282\n",
      "recall:  0.7476710938941156\n",
      "F1:  0.7\n"
     ]
    }
   ],
   "source": [
    "svm = SVC(C=10, kernel='rbf', gamma=2) #79.2%\n",
    "#svm = SVC(C=2, kernel='rbf', gamma=128) #79.6\n",
    "#svm = SVC(C=2, kernel='rbf', gamma=128) \n",
    "train_num = 1\n",
    "for i in range(train_num):\n",
    "    svm.fit(X, Y)\n",
    "    Y2_hat = svm.predict(X2)\n",
    "    vm = np.sum(Y2_hat == Ym2)/len(Ym2)\n",
    "    vn = np.sum(Y2_hat == Y2)/len(Y2)\n",
    "    print(np.sum(Y2_hat))\n",
    "    print(\"vm \", vm)\n",
    "    print(\"vn \",vn)\n",
    "    \n",
    "precision = np.sum(Y2_hat + Y2 == 2)/np.sum(Y2_hat)\n",
    "recall = np.sum(Y2_hat + Y2 == 2)/np.sum(Y2)\n",
    "f1 = 2*precision*recall/(precision+recall)\n",
    "print(\"nlp\")\n",
    "print(\"precision: \", precision)\n",
    "print(\"recall: \", recall)\n",
    "print(\"F1: \", f1)\n",
    "\n",
    "precision0 = np.sum(Y2_hat + Y2 == 0)/(len(Y2_hat)-np.sum(Y2_hat))\n",
    "recall0 = np.sum(Y2_hat + Y2 == 0)/(len(Y2)-np.sum(Y2))\n",
    "f10 = 2*precision*recall/(precision+recall)\n",
    "print(\"nlp0\")\n",
    "print(\"precision: \", precision0)\n",
    "print(\"recall: \", recall0)\n",
    "print(\"F1: \", f10)\n",
    "\n",
    "print(\"ave\")\n",
    "print(\"precision: \", (precision+precision0)/2)\n",
    "print(\"recall: \", (recall+recall0)/2)\n",
    "print(\"F1: \", (f1+f10)/2)"
   ]
  },
  {
   "cell_type": "code",
   "execution_count": 58,
   "metadata": {},
   "outputs": [
    {
     "name": "stdout",
     "output_type": "stream",
     "text": [
      "Enter Best Model: 11\n",
      "\n",
      "SVM\n",
      "         no  social  Total\n",
      "no      463     164    627\n",
      "social   71     302    373\n",
      "Total   534     466   1000\n",
      "\n"
     ]
    }
   ],
   "source": [
    "#%%\n",
    "\n",
    "model = input(\"Enter Best Model: \")\n",
    "best = cont[int(model)]\n",
    "rf_ct = pd.crosstab(best[1], best[0], margins=True)\n",
    "rf_ct.columns = [\"no\", \"social\", \"Total\"]\n",
    "rf_ct.index = [\"no\", \"social\", \"Total\"]\n",
    "print()\n",
    "print(\"SVM\")\n",
    "print(rf_ct)\n",
    "print()"
   ]
  },
  {
   "cell_type": "code",
   "execution_count": 59,
   "metadata": {},
   "outputs": [
    {
     "name": "stdout",
     "output_type": "stream",
     "text": [
      "Random Forest: Sensitivity: 0.64807 Specificity: 0.86704 PPV: 0.80965 NPV: 0.73844 Accuracy: 0.76500\n"
     ]
    }
   ],
   "source": [
    "#%%\n",
    "\n",
    "Sens = rf_ct.iloc[1][1]/rf_ct.iloc[2][1]\n",
    "Spec = rf_ct.iloc[0][0]/rf_ct.iloc[2][0]\n",
    "PPV = rf_ct.iloc[1][1]/rf_ct.iloc[1][2]\n",
    "NPV = rf_ct.iloc[0][0]/rf_ct.iloc[0][2]\n",
    "ACC = (rf_ct.iloc[0][0] + rf_ct.iloc[1][1]) / rf_ct.iloc[2][2]\n",
    "print(\"Random Forest: Sensitivity: %.5f Specificity: %.5f PPV: %.5f NPV: %.5f Accuracy: %.5f\" % (Sens, Spec, PPV, NPV, ACC))"
   ]
  },
  {
   "cell_type": "code",
   "execution_count": 60,
   "metadata": {},
   "outputs": [
    {
     "name": "stdout",
     "output_type": "stream",
     "text": [
      "[[463  71]\n",
      " [164 302]]\n",
      "0.7199046483909415\n",
      "0.648068669527897\n",
      "0.8096514745308311\n",
      "0.765\n",
      "             precision    recall  f1-score   support\n",
      "\n",
      "          0       0.74      0.87      0.80       534\n",
      "          1       0.81      0.65      0.72       466\n",
      "\n",
      "avg / total       0.77      0.77      0.76      1000\n",
      "\n"
     ]
    }
   ],
   "source": [
    "#%%\n",
    "from sklearn.metrics import confusion_matrix\n",
    "from sklearn.metrics import recall_score,f1_score,precision_score,accuracy_score,classification_report\n",
    "y_true =cont[int(model)][0]\n",
    "y_pred = cont[int(model)][1]\n",
    "print(confusion_matrix(y_true, y_pred))\n",
    "print(f1_score(y_true, y_pred) )\n",
    "\n",
    "print(recall_score(y_true, y_pred),   )\n",
    "print(precision_score(y_true, y_pred))\n",
    "print(accuracy_score(y_true, y_pred))\n",
    "\n",
    "print(classification_report(y_true, y_pred))"
   ]
  },
  {
   "cell_type": "code",
   "execution_count": 63,
   "metadata": {},
   "outputs": [
    {
     "name": "stdout",
     "output_type": "stream",
     "text": [
      "model  0 : Random Forest trees = 5\n",
      "   Fold 1 accuracy: 67.00 %\n",
      "   Fold 2 accuracy: 67.00 %\n",
      "   Fold 3 accuracy: 76.00 %\n",
      "   Fold 4 accuracy: 69.00 %\n",
      "   Fold 5 accuracy: 65.00 %\n",
      "   Fold 6 accuracy: 67.00 %\n",
      "   Fold 7 accuracy: 63.00 %\n",
      "   Fold 8 accuracy: 65.00 %\n",
      "   Fold 9 accuracy: 80.00 %\n",
      "   Fold 10 accuracy: 69.00 %\n",
      "     Overall test accuracy: 68.80 %\n",
      "     Overall training accuracy: 96.70 %\n",
      "model  1 : Random Forest trees = 10\n",
      "   Fold 1 accuracy: 78.00 %\n",
      "   Fold 2 accuracy: 67.00 %\n",
      "   Fold 3 accuracy: 74.00 %\n",
      "   Fold 4 accuracy: 73.00 %\n",
      "   Fold 5 accuracy: 80.00 %\n",
      "   Fold 6 accuracy: 77.00 %\n",
      "   Fold 7 accuracy: 73.00 %\n",
      "   Fold 8 accuracy: 67.00 %\n",
      "   Fold 9 accuracy: 71.00 %\n",
      "   Fold 10 accuracy: 69.00 %\n",
      "     Overall test accuracy: 72.90 %\n",
      "     Overall training accuracy: 98.70 %\n",
      "model  2 : Random Forest trees = 50\n",
      "   Fold 1 accuracy: 78.00 %\n",
      "   Fold 2 accuracy: 74.00 %\n",
      "   Fold 3 accuracy: 75.00 %\n",
      "   Fold 4 accuracy: 77.00 %\n",
      "   Fold 5 accuracy: 75.00 %\n",
      "   Fold 6 accuracy: 75.00 %\n",
      "   Fold 7 accuracy: 69.00 %\n",
      "   Fold 8 accuracy: 74.00 %\n",
      "   Fold 9 accuracy: 80.00 %\n",
      "   Fold 10 accuracy: 77.00 %\n",
      "     Overall test accuracy: 75.40 %\n",
      "     Overall training accuracy: 100.00 %\n",
      "model  3 : Random Forest trees = 100\n",
      "   Fold 1 accuracy: 72.00 %\n",
      "   Fold 2 accuracy: 78.00 %\n",
      "   Fold 3 accuracy: 77.00 %\n",
      "   Fold 4 accuracy: 81.00 %\n",
      "   Fold 5 accuracy: 74.00 %\n",
      "   Fold 6 accuracy: 71.00 %\n",
      "   Fold 7 accuracy: 72.00 %\n",
      "   Fold 8 accuracy: 75.00 %\n",
      "   Fold 9 accuracy: 83.00 %\n",
      "   Fold 10 accuracy: 76.00 %\n",
      "     Overall test accuracy: 75.90 %\n",
      "     Overall training accuracy: 100.00 %\n",
      "model  4 : Random Forest trees = 200\n",
      "   Fold 1 accuracy: 76.00 %\n",
      "   Fold 2 accuracy: 72.00 %\n",
      "   Fold 3 accuracy: 76.00 %\n",
      "   Fold 4 accuracy: 79.00 %\n",
      "   Fold 5 accuracy: 76.00 %\n",
      "   Fold 6 accuracy: 80.00 %\n",
      "   Fold 7 accuracy: 75.00 %\n",
      "   Fold 8 accuracy: 73.00 %\n",
      "   Fold 9 accuracy: 77.00 %\n",
      "   Fold 10 accuracy: 78.00 %\n",
      "     Overall test accuracy: 76.20 %\n",
      "     Overall training accuracy: 100.00 %\n",
      "model  5 : Random Forest trees = 300\n",
      "   Fold 1 accuracy: 79.00 %\n",
      "   Fold 2 accuracy: 80.00 %\n",
      "   Fold 3 accuracy: 74.00 %\n",
      "   Fold 4 accuracy: 74.00 %\n",
      "   Fold 5 accuracy: 75.00 %\n",
      "   Fold 6 accuracy: 79.00 %\n",
      "   Fold 7 accuracy: 75.00 %\n",
      "   Fold 8 accuracy: 73.00 %\n",
      "   Fold 9 accuracy: 77.00 %\n",
      "   Fold 10 accuracy: 72.00 %\n",
      "     Overall test accuracy: 75.80 %\n",
      "     Overall training accuracy: 100.00 %\n",
      "model  6 : Random Forest trees = 400\n",
      "   Fold 1 accuracy: 79.00 %\n",
      "   Fold 2 accuracy: 74.00 %\n",
      "   Fold 3 accuracy: 82.00 %\n",
      "   Fold 4 accuracy: 81.00 %\n",
      "   Fold 5 accuracy: 75.00 %\n",
      "   Fold 6 accuracy: 70.00 %\n",
      "   Fold 7 accuracy: 77.00 %\n",
      "   Fold 8 accuracy: 66.00 %\n",
      "   Fold 9 accuracy: 79.00 %\n",
      "   Fold 10 accuracy: 82.00 %\n",
      "     Overall test accuracy: 76.50 %\n",
      "     Overall training accuracy: 100.00 %\n",
      "model  7 : Random Forest trees = 500\n",
      "   Fold 1 accuracy: 77.00 %\n",
      "   Fold 2 accuracy: 71.00 %\n",
      "   Fold 3 accuracy: 87.00 %\n",
      "   Fold 4 accuracy: 73.00 %\n",
      "   Fold 5 accuracy: 72.00 %\n",
      "   Fold 6 accuracy: 76.00 %\n",
      "   Fold 7 accuracy: 84.00 %\n",
      "   Fold 8 accuracy: 79.00 %\n",
      "   Fold 9 accuracy: 70.00 %\n",
      "   Fold 10 accuracy: 76.00 %\n",
      "     Overall test accuracy: 76.50 %\n",
      "     Overall training accuracy: 100.00 %\n"
     ]
    }
   ],
   "source": [
    "#%%\n",
    "# RandomForest\n",
    "model=0\n",
    "results = []\n",
    "cont = []\n",
    "kf = KFold(n_splits=10, shuffle=True)\n",
    "trees = [5, 10, 50, 100, 200, 300, 400, 500]\n",
    "for t in range(len(trees)):\n",
    "    fold = 1\n",
    "    truth = []\n",
    "    rf_prediction = []\n",
    "    print(\"model \", t, \": Random Forest trees = \" + str(trees[t]))\n",
    "    test_count = 0\n",
    "    rf = RandomForestClassifier(n_estimators=trees[t], criterion='entropy', n_jobs=-1, )\n",
    "    for train_idx, test_idx in kf.split(X):\n",
    "        trainX = X[train_idx]\n",
    "        trainY = Y[train_idx]\n",
    "        testX = X[test_idx]\n",
    "        testY = Y[test_idx]\n",
    "        truth.append(testY)\n",
    "        rf.fit(trainX, trainY)\n",
    "        Y_hat = rf.predict(testX)\n",
    "        rf_prediction.append(Y_hat)\n",
    "        print(\"   Fold %d accuracy: %.2f %%\" % (fold, ((np.sum(Y_hat == testY)/len(testY)) * 100.0)))                        \n",
    "        fold += 1\n",
    "    truth = np.concatenate(truth, axis=0)    \n",
    "    rf_prediction = np.concatenate(rf_prediction, axis=0)\n",
    "    test_results = np.sum(rf_prediction == truth)/len(truth)\n",
    "    print(\"     Overall test accuracy: %.2f %%\" % (test_results * 100))  \n",
    "    rf = rf.fit(X, Y)\n",
    "    Y_hat = rf.predict(X)\n",
    "    train_results = np.sum(Y_hat == Y)/len(Y)\n",
    "    print(\"     Overall training accuracy: %.2f %%\" % (train_results * 100.0))  \n",
    "    results.append([train_results, test_results])   \n",
    "    cont.append([truth, rf_prediction])"
   ]
  },
  {
   "cell_type": "code",
   "execution_count": 64,
   "metadata": {},
   "outputs": [
    {
     "name": "stdout",
     "output_type": "stream",
     "text": [
      "364\n",
      "vm  0.5050847457627119\n",
      "vn  0.7389830508474576\n",
      "nlp\n",
      "precision:  0.7554945054945055\n",
      "recall:  0.6594724220623501\n",
      "F1:  0.7042253521126761\n",
      "nlp0\n",
      "precision:  0.727447216890595\n",
      "recall:  0.8098290598290598\n",
      "F1:  0.7042253521126761\n",
      "ave\n",
      "precision:  0.7414708611925502\n",
      "recall:  0.734650740945705\n",
      "F1:  0.7042253521126761\n"
     ]
    }
   ],
   "source": [
    "rf = RandomForestClassifier(n_estimators=400, criterion='entropy', n_jobs=-1, )\n",
    "train_num = 1\n",
    "for i in range(train_num):\n",
    "    rf.fit(X, Y)\n",
    "    Y2_hat = rf.predict(X2)\n",
    "    vm = np.sum(Y2_hat == Ym2)/len(Ym2)\n",
    "    vn = np.sum(Y2_hat == Y2)/len(Y2)\n",
    "    print(np.sum(Y2_hat))\n",
    "    print(\"vm \", vm)\n",
    "    print(\"vn \",vn)\n",
    "    \n",
    "precision = np.sum(Y2_hat + Y2 == 2)/np.sum(Y2_hat)\n",
    "recall = np.sum(Y2_hat + Y2 == 2)/np.sum(Y2)\n",
    "f1 = 2*precision*recall/(precision+recall)\n",
    "print(\"nlp\")\n",
    "print(\"precision: \", precision)\n",
    "print(\"recall: \", recall)\n",
    "print(\"F1: \", f1)\n",
    "\n",
    "precision0 = np.sum(Y2_hat + Y2 == 0)/(len(Y2_hat)-np.sum(Y2_hat))\n",
    "recall0 = np.sum(Y2_hat + Y2 == 0)/(len(Y2)-np.sum(Y2))\n",
    "f10 = 2*precision*recall/(precision+recall)\n",
    "print(\"nlp0\")\n",
    "print(\"precision: \", precision0)\n",
    "print(\"recall: \", recall0)\n",
    "print(\"F1: \", f10)\n",
    "\n",
    "print(\"ave\")\n",
    "print(\"precision: \", (precision+precision0)/2)\n",
    "print(\"recall: \", (recall+recall0)/2)\n",
    "print(\"F1: \", (f1+f10)/2)"
   ]
  },
  {
   "cell_type": "code",
   "execution_count": 65,
   "metadata": {},
   "outputs": [
    {
     "name": "stdout",
     "output_type": "stream",
     "text": [
      "Enter Best Model: 6\n",
      "\n",
      "Random Forest\n",
      "         no  social  Total\n",
      "no      453     154    607\n",
      "social   81     312    393\n",
      "Total   534     466   1000\n",
      "\n"
     ]
    }
   ],
   "source": [
    "#%%\n",
    "model = input(\"Enter Best Model: \")\n",
    "best = cont[int(model)]\n",
    "rf_ct = pd.crosstab(best[1], best[0], margins=True)\n",
    "rf_ct.columns = [\"no\", \"social\", \"Total\"]\n",
    "rf_ct.index = [\"no\", \"social\", \"Total\"]\n",
    "print()\n",
    "print(\"Random Forest\")\n",
    "print(rf_ct)\n",
    "print()"
   ]
  },
  {
   "cell_type": "code",
   "execution_count": 66,
   "metadata": {},
   "outputs": [
    {
     "name": "stdout",
     "output_type": "stream",
     "text": [
      "Random Forest: Sensitivity: 0.66953 Specificity: 0.84831 PPV: 0.79389 NPV: 0.74629 Accuracy: 0.76500\n"
     ]
    }
   ],
   "source": [
    "#%%\n",
    "\n",
    "Sens = rf_ct.iloc[1][1]/rf_ct.iloc[2][1]\n",
    "Spec = rf_ct.iloc[0][0]/rf_ct.iloc[2][0]\n",
    "PPV = rf_ct.iloc[1][1]/rf_ct.iloc[1][2]\n",
    "NPV = rf_ct.iloc[0][0]/rf_ct.iloc[0][2]\n",
    "ACC = (rf_ct.iloc[0][0] + rf_ct.iloc[1][1]) / rf_ct.iloc[2][2]\n",
    "print(\"Random Forest: Sensitivity: %.5f Specificity: %.5f PPV: %.5f NPV: %.5f Accuracy: %.5f\" % (Sens, Spec, PPV, NPV, ACC))"
   ]
  },
  {
   "cell_type": "code",
   "execution_count": 67,
   "metadata": {},
   "outputs": [
    {
     "name": "stdout",
     "output_type": "stream",
     "text": [
      "[[453  81]\n",
      " [154 312]]\n",
      "0.7264260768335274\n",
      "0.6695278969957081\n",
      "0.7938931297709924\n",
      "0.765\n",
      "             precision    recall  f1-score   support\n",
      "\n",
      "          0       0.75      0.85      0.79       534\n",
      "          1       0.79      0.67      0.73       466\n",
      "\n",
      "avg / total       0.77      0.77      0.76      1000\n",
      "\n"
     ]
    }
   ],
   "source": [
    "#%%\n",
    "from sklearn.metrics import confusion_matrix\n",
    "from sklearn.metrics import recall_score,f1_score,precision_score,accuracy_score,classification_report\n",
    "y_true =cont[int(model)][0]\n",
    "y_pred = cont[int(model)][1]\n",
    "print(confusion_matrix(y_true, y_pred))\n",
    "print(f1_score(y_true, y_pred) )\n",
    "\n",
    "\n",
    "\n",
    "print(recall_score(y_true, y_pred),   )\n",
    "print(precision_score(y_true, y_pred))\n",
    "print(accuracy_score(y_true, y_pred))\n",
    "\n",
    "print(classification_report(y_true, y_pred))"
   ]
  },
  {
   "cell_type": "code",
   "execution_count": 68,
   "metadata": {},
   "outputs": [
    {
     "name": "stdout",
     "output_type": "stream",
     "text": [
      "Training set score: 0.950000\n",
      "Test set score: 0.720000\n"
     ]
    }
   ],
   "source": [
    "#%%\n",
    "from sklearn.utils import shuffle\n",
    "X, Y = shuffle(X, Y)\n",
    "split = int(len(Y) * 4/5)\n",
    "trainX = X[:split, :]\n",
    "trainY = Y[:split]\n",
    "testX = X[split:, :]\n",
    "testY = Y[split:]\n",
    "\n",
    "#%%\n",
    "from sklearn.neural_network import MLPClassifier\n",
    "\n",
    "mlp = MLPClassifier(hidden_layer_sizes=(50,), max_iter=1000, alpha=1e-4,\n",
    "                    solver='adam', verbose=False, tol=1e-4, random_state=1)\n",
    "#mlp = MLPClassifier(hidden_layer_sizes=(50,), max_iter=10, alpha=1e-4,\n",
    "#                    solver='sgd', verbose=10, tol=1e-4, random_state=1,\n",
    "#                    learning_rate_init=.1)\n",
    "\n",
    "mlp.fit(trainX, trainY)\n",
    "print(\"Training set score: %f\" % mlp.score(trainX, trainY))\n",
    "print(\"Test set score: %f\" % mlp.score(testX, testY))"
   ]
  },
  {
   "cell_type": "code",
   "execution_count": 69,
   "metadata": {},
   "outputs": [
    {
     "name": "stdout",
     "output_type": "stream",
     "text": [
      "402\n",
      "vm  0.5005649717514125\n",
      "vn  0.7502824858757062\n"
     ]
    },
    {
     "name": "stderr",
     "output_type": "stream",
     "text": [
      "C:\\ProgramData\\Anaconda3\\lib\\site-packages\\sklearn\\neural_network\\multilayer_perceptron.py:564: ConvergenceWarning: Stochastic Optimizer: Maximum iterations (500) reached and the optimization hasn't converged yet.\n",
      "  % self.max_iter, ConvergenceWarning)\n"
     ]
    }
   ],
   "source": [
    "from sklearn.utils import shuffle\n",
    "X, Y = shuffle(X, Y)\n",
    "from sklearn.neural_network import MLPClassifier\n",
    "mlp = MLPClassifier(hidden_layer_sizes=(100,),max_iter=500, alpha=1e-4)\n",
    "#mlp = MLPClassifier(hidden_layer_sizes=(100,),max_iter=1000, alpha=1e-4) 67.5%\n",
    "mlp.fit(X,Y)\n",
    "\n",
    "Y2_hat = mlp.predict(X2)\n",
    "vm = np.sum(Y2_hat == Ym2)/len(Ym2)\n",
    "vn = np.sum(Y2_hat == Y2)/len(Y2)\n",
    "print(np.sum(Y2_hat))\n",
    "print(\"vm \", vm)\n",
    "print(\"vn \",vn)"
   ]
  },
  {
   "cell_type": "code",
   "execution_count": 70,
   "metadata": {},
   "outputs": [
    {
     "name": "stdout",
     "output_type": "stream",
     "text": [
      "402\n",
      "vm  0.5073446327683616\n",
      "vn  0.7548022598870057\n"
     ]
    }
   ],
   "source": [
    "from sklearn.utils import shuffle\n",
    "X, Y = shuffle(X, Y)\n",
    "from sklearn.neural_network import MLPClassifier\n",
    "mlp = MLPClassifier(hidden_layer_sizes=(300,),max_iter=500, alpha=1e-4)\n",
    "#mlp = MLPClassifier(hidden_layer_sizes=(100,),max_iter=1000, alpha=1e-4) 67.5%\n",
    "mlp.fit(X,Y)\n",
    "\n",
    "Y2_hat = mlp.predict(X2)\n",
    "vm = np.sum(Y2_hat == Ym2)/len(Ym2)\n",
    "vn = np.sum(Y2_hat == Y2)/len(Y2)\n",
    "print(np.sum(Y2_hat))\n",
    "print(\"vm \", vm)\n",
    "print(\"vn \",vn)"
   ]
  },
  {
   "cell_type": "code",
   "execution_count": null,
   "metadata": {},
   "outputs": [],
   "source": []
  }
 ],
 "metadata": {
  "kernelspec": {
   "display_name": "Python 3",
   "language": "python",
   "name": "python3"
  },
  "language_info": {
   "codemirror_mode": {
    "name": "ipython",
    "version": 3
   },
   "file_extension": ".py",
   "mimetype": "text/x-python",
   "name": "python",
   "nbconvert_exporter": "python",
   "pygments_lexer": "ipython3",
   "version": "3.6.5"
  }
 },
 "nbformat": 4,
 "nbformat_minor": 2
}
